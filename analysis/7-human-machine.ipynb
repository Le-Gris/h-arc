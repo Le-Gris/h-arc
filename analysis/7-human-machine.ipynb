{
    "cells": [
        {
            "cell_type": "code",
            "execution_count": 1,
            "metadata": {},
            "outputs": [],
            "source": [
                "# imports\n",
                "import polars as pl\n",
                "import seaborn as sns\n",
                "from matplotlib import pyplot as plt\n",
                "from Levenshtein import distance as levenshtein_distance\n",
                "import numpy as np"
            ]
        },
        {
            "cell_type": "code",
            "execution_count": 2,
            "metadata": {},
            "outputs": [
                {
                    "data": {
                        "text/plain": [
                            "<polars.config.Config at 0x1043a64e0>"
                        ]
                    },
                    "execution_count": 2,
                    "metadata": {},
                    "output_type": "execute_result"
                }
            ],
            "source": [
                "pl.Config.load_from_file(\"../polars_cfg.json\")"
            ]
        },
        {
            "cell_type": "code",
            "execution_count": 3,
            "metadata": {},
            "outputs": [],
            "source": [
                "# kaggle submission to analyze\n",
                "submission_id = \"claude3_5-langchain\""
            ]
        },
        {
            "cell_type": "code",
            "execution_count": 4,
            "metadata": {},
            "outputs": [],
            "source": [
                "# load eval set\n",
                "arc_all_tasks = pl.read_csv(\"../data/ARC_all_tasks_tests_stats.csv\").filter(\n",
                "    (pl.col(\"task_type\") == \"evaluation\") & (pl.col(\"example_type\") == \"test\")\n",
                ")\n",
                "arc_eval_tests = arc_all_tasks.select(\n",
                "    \"task_name\",\n",
                "    \"example_number\",\n",
                "    \"input_height\",\n",
                "    \"input_width\",\n",
                "    \"output_height\",\n",
                "    \"output_width\",\n",
                "    \"output_grid\",\n",
                "    \"grid_size\",\n",
                ").rename({\"output_grid\": \"true_output_grid\", \"example_number\": \"test_number\"})"
            ]
        },
        {
            "cell_type": "code",
            "execution_count": 5,
            "metadata": {},
            "outputs": [],
            "source": [
                "# load human / machine outputs\n",
                "machine_submission = pl.read_csv(\n",
                "    f\"../data/kaggle_solutions/{submission_id}/submission.csv\"\n",
                ")\n",
                "\n",
                "human_two_attempt_acc = pl.read_csv(\"../data/mean_task_acc_two_attempts.csv\")\n",
                "human_two_attempt_acc_training = human_two_attempt_acc.filter(\n",
                "    pl.col(\"task_type\") == \"training\"\n",
                ").drop(\"task_type\")\n",
                "\n",
                "human_two_attempt_acc_eval = human_two_attempt_acc.filter(\n",
                "    pl.col(\"task_type\") == \"evaluation\"\n",
                ").drop(\"task_type\")\n",
                "\n",
                "human_eval_summary = (\n",
                "    pl.read_csv(\"../data/clean_summary_data_merged.csv\")\n",
                "    .filter(pl.col(\"task_type\") == \"evaluation\")\n",
                "    .drop(\"task_type\")\n",
                ")\n",
                "# make human acc binary\n",
                "human_two_attempt_acc_eval = human_two_attempt_acc_eval.with_columns(\n",
                "    human_solved=(pl.col(\"mean_solved\") > 0.0).cast(pl.Int32)\n",
                ")\n",
                "human_two_attempt_acc_training = human_two_attempt_acc_training.with_columns(\n",
                "    human_solved=(pl.col(\"mean_solved\") > 0.0).cast(pl.Int32)\n",
                ")\n",
                "\n",
                "# merge with h-arc\n",
                "machine_submission = machine_submission.join(\n",
                "    arc_eval_tests, on=[\"task_name\", \"test_number\"]\n",
                ")\n",
                "\n",
                "# filter out tests that are not first\n",
                "machine_filtered = machine_submission.filter(pl.col(\"test_number\") == 1)\n",
                "human_eval_summary = human_eval_summary.join(\n",
                "    arc_eval_tests.filter(pl.col(\"test_number\") == 1), on=\"task_name\", how=\"left\"\n",
                ")\n",
                "\n",
                "# add test_output_grid dimensions\n",
                "human_eval_summary = human_eval_summary.with_columns(\n",
                "    pl.col(\"test_output_grid\").str.split(\"|\").list.len().alias(\"test_output_height\")\n",
                "    - 2,\n",
                "    pl.col(\"test_output_grid\")\n",
                "    .str.split(\"|\")\n",
                "    .list.get(1)\n",
                "    .str.len_chars()\n",
                "    .alias(\"test_output_width\"),\n",
                ")\n",
                "machine_filtered = machine_filtered.with_columns(\n",
                "    pl.col(\"test_output_grid\").str.split(\"|\").list.len().alias(\"test_output_height\")\n",
                "    - 2,\n",
                "    pl.col(\"test_output_grid\")\n",
                "    .str.split(\"|\")\n",
                "    .list.get(1)\n",
                "    .str.len_chars()\n",
                "    .alias(\"test_output_width\"),\n",
                ")"
            ]
        },
        {
            "cell_type": "code",
            "execution_count": 6,
            "metadata": {},
            "outputs": [],
            "source": [
                "def get_model_solved(df):\n",
                "    df_ = df.with_columns(\n",
                "        correct=pl.col(\"test_output_grid\").eq(pl.col(\"true_output_grid\")).cast(pl.Int32)\n",
                "    )\n",
                "    # model name\n",
                "    name = df.unique(\"submission_id\").select(\"submission_id\").item()\n",
                "    df_ = df_.with_columns(\n",
                "        pl.when((pl.col(\"correct\") == 1) & (pl.col(\"attempt_number\") == 1))\n",
                "        .then(1)\n",
                "        .otherwise(0)\n",
                "        .alias(f\"{name}_solved_one_shot\"),\n",
                "        pl.when((pl.col(\"correct\") == 1) & (pl.col(\"attempt_number\") == 2))\n",
                "        .then(1)\n",
                "        .otherwise(0)\n",
                "        .alias(f\"{name}_solved_two_shot\"),\n",
                "    )\n",
                "    df_ = df_.group_by([\"task_name\", \"test_number\"]).agg(\n",
                "        pl.sum(f\"{name}_solved_one_shot\").alias(f\"{name}_solved_one_shot\"),\n",
                "        pl.sum(f\"{name}_solved_two_shot\").alias(f\"{name}_solved_two_shot\"),\n",
                "    )\n",
                "    df_ = df_.with_columns(\n",
                "        pl.when(\n",
                "            (pl.col(f\"{name}_solved_one_shot\") == 1)\n",
                "            | (pl.col(f\"{name}_solved_two_shot\") == 1)\n",
                "        )\n",
                "        .then(1)\n",
                "        .otherwise(0)\n",
                "        .alias(f\"{name}_solved\"),\n",
                "    )\n",
                "    df_ = df_.select(\n",
                "        \"task_name\",\n",
                "        \"test_number\",\n",
                "        f\"{name}_solved_one_shot\",\n",
                "        f\"{name}_solved_two_shot\",\n",
                "        f\"{name}_solved\",\n",
                "    )\n",
                "    # print number of unique tasks\n",
                "    print(f\"Number of unique tasks attempted by {name}: {df_.n_unique('task_name')}\")\n",
                "    return df_"
            ]
        },
        {
            "cell_type": "code",
            "execution_count": 7,
            "metadata": {},
            "outputs": [
                {
                    "name": "stdout",
                    "output_type": "stream",
                    "text": [
                        "Number of unique tasks attempted by claude3_5-langchain: 150\n"
                    ]
                }
            ],
            "source": [
                "machine_solved = get_model_solved(machine_submission)"
            ]
        },
        {
            "cell_type": "code",
            "execution_count": 8,
            "metadata": {},
            "outputs": [
                {
                    "name": "stdout",
                    "output_type": "stream",
                    "text": [
                        "1-shot accuracy\n",
                        "--------------------------------------------------\n",
                        "claude3_5-langchain: 19.33 (30/157 tests)\n",
                        "\n",
                        "2-shot accuracy\n",
                        "--------------------------------------------------\n",
                        "claude3_5-langchain: 20.67 (32/157 tests)\n"
                    ]
                }
            ],
            "source": [
                "# print 1 and 2 shot machine accuracy\n",
                "print(\"1-shot accuracy\")\n",
                "print(50 * \"-\")\n",
                "\n",
                "for model in [\n",
                "    (\"claude3_5-langchain\", machine_solved),\n",
                "]:\n",
                "    mean_task_score = (\n",
                "        model[1].group_by(\"task_name\").agg(pl.mean(f\"{model[0]}_solved_one_shot\"))\n",
                "    )\n",
                "    num_solved = mean_task_score.filter(\n",
                "        pl.col(f\"{model[0]}_solved_one_shot\") > 0.0\n",
                "    ).height\n",
                "    total = model[1].height\n",
                "    print(\n",
                "        f\"{model[0]}: {round(mean_task_score.select(pl.mean(f'{model[0]}_solved_one_shot')).item()*100, 2)} ({num_solved}/{total} tests)\"\n",
                "    )\n",
                "\n",
                "print(\"\\n2-shot accuracy\")\n",
                "print(50 * \"-\")\n",
                "\n",
                "for model in [\n",
                "    (\"claude3_5-langchain\", machine_solved),\n",
                "]:\n",
                "    mean_task_score = model[1].group_by(\"task_name\").agg(pl.mean(f\"{model[0]}_solved\"))\n",
                "    num_solved = mean_task_score.filter(pl.col(f\"{model[0]}_solved\") > 0.0).height\n",
                "    total = model[1].height\n",
                "    print(\n",
                "        f\"{model[0]}: {round(mean_task_score.select(pl.mean(f'{model[0]}_solved')).item()*100, 2)} ({num_solved}/{total} tests)\"\n",
                "    )"
            ]
        },
        {
            "cell_type": "code",
            "execution_count": 9,
            "metadata": {},
            "outputs": [],
            "source": [
                "# join to human data\n",
                "human_machine = human_two_attempt_acc_eval.join(\n",
                "    machine_solved.filter(pl.col(\"test_number\") == 1), on=\"task_name\", how=\"inner\"\n",
                ")"
            ]
        },
        {
            "cell_type": "code",
            "execution_count": 10,
            "metadata": {},
            "outputs": [],
            "source": [
                "human_machine = human_machine.with_columns(\n",
                "    pl.when((pl.col(\"human_solved\") == 0) & (pl.col(\"claude3_5-langchain_solved\") == 1))\n",
                "    .then(pl.lit(\"machine_solved\"))\n",
                "    .when((pl.col(\"human_solved\") == 1) & (pl.col(\"claude3_5-langchain_solved\") == 0))\n",
                "    .then(pl.lit(\"human_solved\"))\n",
                "    .when((pl.col(\"human_solved\") == 0) & (pl.col(\"claude3_5-langchain_solved\") == 0))\n",
                "    .then(pl.lit(\"neither_solved\"))\n",
                "    .otherwise(pl.lit(\"both_solved\"))\n",
                "    .alias(\"solved_by\"),\n",
                ")"
            ]
        },
        {
            "cell_type": "code",
            "execution_count": 11,
            "metadata": {},
            "outputs": [
                {
                    "data": {
                        "image/png": "[encoded data removed]",
                        "text/plain": [
                            "<Figure size 1000x600 with 1 Axes>"
                        ]
                    },
                    "metadata": {},
                    "output_type": "display_data"
                }
            ],
            "source": [
                "# plot human vs machine (greenblatt) accuracy distribution\n",
                "sns.set_style(\"darkgrid\")\n",
                "colors = [\"#a6cee3\", \"#1f78b4\", \"#b2df8a\", \"#33a02c\"]\n",
                "fig, ax = plt.subplots(figsize=(10, 6))\n",
                "sns.histplot(\n",
                "    human_machine,\n",
                "    x=\"mean_solved\",\n",
                "    hue=\"solved_by\",\n",
                "    hue_order=[\"human_solved\", \"both_solved\", \"machine_solved\", \"neither_solved\"],\n",
                "    multiple=\"stack\",\n",
                "    palette=colors,\n",
                "    shrink=0.8,\n",
                "    alpha=0.9,\n",
                "    ax=ax,\n",
                ")\n",
                "plt.xlabel(\"Mean Task Accuracy\", fontsize=20)\n",
                "plt.ylabel(\"Count\", fontsize=20)\n",
                "plt.xticks(fontsize=18)\n",
                "plt.yticks(fontsize=18)\n",
                "legend = ax.get_legend().legend_handles\n",
                "labels = [\"Human only solved\", \"Both solved\", \"Machine only solved\", \"Neither solved\"]\n",
                "plt.legend(handles=legend, labels=labels, fontsize=18)\n",
                "total_tasks = human_machine.height\n",
                "plt.tight_layout()\n",
                "plt.savefig(\n",
                "    f\"../figures/human_{submission_id}_accuracy_distribution.png\",\n",
                "    dpi=300,\n",
                "    bbox_inches=\"tight\",\n",
                ")\n",
                "plt.show()"
            ]
        },
        {
            "cell_type": "code",
            "execution_count": 12,
            "metadata": {},
            "outputs": [
                {
                    "name": "stdout",
                    "output_type": "stream",
                    "text": [
                        "Number of tasks where claude3_5-langchain solved but human did not: 0\n",
                        "Number of tasks where human solved but claude3_5-langchain did not: 116\n"
                    ]
                }
            ],
            "source": [
                "total_tasks_machine_only = human_machine.filter(\n",
                "    pl.col(\"solved_by\") == \"machine_solved\"\n",
                ").height\n",
                "print(\n",
                "    f\"Number of tasks where {submission_id} solved but human did not: {total_tasks_machine_only}\"\n",
                ")\n",
                "\n",
                "total_tasks_human_only = human_machine.filter(\n",
                "    pl.col(\"solved_by\") == \"human_solved\"\n",
                ").height\n",
                "print(\n",
                "    f\"Number of tasks where human solved but {submission_id} did not: {total_tasks_human_only}\"\n",
                ")"
            ]
        },
        {
            "cell_type": "code",
            "execution_count": 13,
            "metadata": {},
            "outputs": [
                {
                    "name": "stdout",
                    "output_type": "stream",
                    "text": [
                        "Sample of 20 tasks solved by claude3_5-langchain:\n"
                    ]
                },
                {
                    "data": {
                        "text/html": [
                            "<div><style>\n",
                            ".dataframe > thead > tr,\n",
                            ".dataframe > tbody > tr {\n",
                            "  text-align: right;\n",
                            "  white-space: pre-wrap;\n",
                            "}\n",
                            "</style>\n",
                            "<small>shape: (10, 9)</small><table border=\"1\" class=\"dataframe\"><thead><tr><th>task_name</th><th>count</th><th>mean_solved</th><th>human_solved</th><th>test_number</th><th>claude3_5-langchain_solved_one_shot</th><th>claude3_5-langchain_solved_two_shot</th><th>claude3_5-langchain_solved</th><th>solved_by</th></tr><tr><td>str</td><td>i64</td><td>f64</td><td>i32</td><td>i64</td><td>i32</td><td>i32</td><td>i32</td><td>str</td></tr></thead><tbody><tr><td>&quot;4cd1b7b2.json&quot;</td><td>10</td><td>0.9</td><td>1</td><td>1</td><td>1</td><td>1</td><td>1</td><td>&quot;both_solved&quot;</td></tr><tr><td>&quot;1c0d0a4b.json&quot;</td><td>7</td><td>0.857143</td><td>1</td><td>1</td><td>1</td><td>1</td><td>1</td><td>&quot;both_solved&quot;</td></tr><tr><td>&quot;59341089.json&quot;</td><td>11</td><td>0.818182</td><td>1</td><td>1</td><td>1</td><td>1</td><td>1</td><td>&quot;both_solved&quot;</td></tr><tr><td>&quot;50a16a69.json&quot;</td><td>8</td><td>0.75</td><td>1</td><td>1</td><td>1</td><td>1</td><td>1</td><td>&quot;both_solved&quot;</td></tr><tr><td>&quot;29700607.json&quot;</td><td>12</td><td>0.75</td><td>1</td><td>1</td><td>1</td><td>1</td><td>1</td><td>&quot;both_solved&quot;</td></tr><tr><td>&quot;00576224.json&quot;</td><td>6</td><td>0.666667</td><td>1</td><td>1</td><td>1</td><td>1</td><td>1</td><td>&quot;both_solved&quot;</td></tr><tr><td>&quot;009d5c81.json&quot;</td><td>9</td><td>0.666667</td><td>1</td><td>1</td><td>0</td><td>1</td><td>1</td><td>&quot;both_solved&quot;</td></tr><tr><td>&quot;2c0b0aff.json&quot;</td><td>11</td><td>0.636364</td><td>1</td><td>1</td><td>1</td><td>1</td><td>1</td><td>&quot;both_solved&quot;</td></tr><tr><td>&quot;0607ce86.json&quot;</td><td>12</td><td>0.583333</td><td>1</td><td>1</td><td>1</td><td>1</td><td>1</td><td>&quot;both_solved&quot;</td></tr><tr><td>&quot;5207a7b5.json&quot;</td><td>9</td><td>0.555556</td><td>1</td><td>1</td><td>1</td><td>1</td><td>1</td><td>&quot;both_solved&quot;</td></tr></tbody></table></div>"
                        ],
                        "text/plain": [
                            "shape: (10, 9)\n",
                            "┌────────────┬───────┬────────────┬────────────┬───┬───────────┬───────────┬───────────┬───────────┐\n",
                            "│ task_name  ┆ count ┆ mean_solve ┆ human_solv ┆ … ┆ claude3_5 ┆ claude3_5 ┆ claude3_5 ┆ solved_by │\n",
                            "│ ---        ┆ ---   ┆ d          ┆ ed         ┆   ┆ -langchai ┆ -langchai ┆ -langchai ┆ ---       │\n",
                            "│ str        ┆ i64   ┆ ---        ┆ ---        ┆   ┆ n_solved_ ┆ n_solved_ ┆ n_solved  ┆ str       │\n",
                            "│            ┆       ┆ f64        ┆ i32        ┆   ┆ one_shot  ┆ two_shot  ┆ ---       ┆           │\n",
                            "│            ┆       ┆            ┆            ┆   ┆ ---       ┆ ---       ┆ i32       ┆           │\n",
                            "│            ┆       ┆            ┆            ┆   ┆ i32       ┆ i32       ┆           ┆           │\n",
                            "╞════════════╪═══════╪════════════╪════════════╪═══╪═══════════╪═══════════╪═══════════╪═══════════╡\n",
                            "│ 4cd1b7b2.j ┆ 10    ┆ 0.9        ┆ 1          ┆ … ┆ 1         ┆ 1         ┆ 1         ┆ both_solv │\n",
                            "│ son        ┆       ┆            ┆            ┆   ┆           ┆           ┆           ┆ ed        │\n",
                            "│ 1c0d0a4b.j ┆ 7     ┆ 0.857143   ┆ 1          ┆ … ┆ 1         ┆ 1         ┆ 1         ┆ both_solv │\n",
                            "│ son        ┆       ┆            ┆            ┆   ┆           ┆           ┆           ┆ ed        │\n",
                            "│ 59341089.j ┆ 11    ┆ 0.818182   ┆ 1          ┆ … ┆ 1         ┆ 1         ┆ 1         ┆ both_solv │\n",
                            "│ son        ┆       ┆            ┆            ┆   ┆           ┆           ┆           ┆ ed        │\n",
                            "│ 50a16a69.j ┆ 8     ┆ 0.75       ┆ 1          ┆ … ┆ 1         ┆ 1         ┆ 1         ┆ both_solv │\n",
                            "│ son        ┆       ┆            ┆            ┆   ┆           ┆           ┆           ┆ ed        │\n",
                            "│ 29700607.j ┆ 12    ┆ 0.75       ┆ 1          ┆ … ┆ 1         ┆ 1         ┆ 1         ┆ both_solv │\n",
                            "│ son        ┆       ┆            ┆            ┆   ┆           ┆           ┆           ┆ ed        │\n",
                            "│ 00576224.j ┆ 6     ┆ 0.666667   ┆ 1          ┆ … ┆ 1         ┆ 1         ┆ 1         ┆ both_solv │\n",
                            "│ son        ┆       ┆            ┆            ┆   ┆           ┆           ┆           ┆ ed        │\n",
                            "│ 009d5c81.j ┆ 9     ┆ 0.666667   ┆ 1          ┆ … ┆ 0         ┆ 1         ┆ 1         ┆ both_solv │\n",
                            "│ son        ┆       ┆            ┆            ┆   ┆           ┆           ┆           ┆ ed        │\n",
                            "│ 2c0b0aff.j ┆ 11    ┆ 0.636364   ┆ 1          ┆ … ┆ 1         ┆ 1         ┆ 1         ┆ both_solv │\n",
                            "│ son        ┆       ┆            ┆            ┆   ┆           ┆           ┆           ┆ ed        │\n",
                            "│ 0607ce86.j ┆ 12    ┆ 0.583333   ┆ 1          ┆ … ┆ 1         ┆ 1         ┆ 1         ┆ both_solv │\n",
                            "│ son        ┆       ┆            ┆            ┆   ┆           ┆           ┆           ┆ ed        │\n",
                            "│ 5207a7b5.j ┆ 9     ┆ 0.555556   ┆ 1          ┆ … ┆ 1         ┆ 1         ┆ 1         ┆ both_solv │\n",
                            "│ son        ┆       ┆            ┆            ┆   ┆           ┆           ┆           ┆ ed        │\n",
                            "└────────────┴───────┴────────────┴────────────┴───┴───────────┴───────────┴───────────┴───────────┘"
                        ]
                    },
                    "execution_count": 13,
                    "metadata": {},
                    "output_type": "execute_result"
                }
            ],
            "source": [
                "# sample 20 tasks that claude3_5-langchain solved\n",
                "machine_solved = human_machine.filter(pl.col(\"solved_by\") == \"both_solved\")\n",
                "sampled_tasks = machine_solved.sample(n=20, seed=42)\n",
                "\n",
                "print(f\"Sample of 20 tasks solved by {submission_id}:\")\n",
                "sampled_tasks.head(10).sort(\"mean_solved\", descending=True)"
            ]
        },
        {
            "cell_type": "code",
            "execution_count": 14,
            "metadata": {},
            "outputs": [],
            "source": [
                "# compute edit distance for incorrect submission for models\n",
                "machine_incorrect = (\n",
                "    machine_filtered.filter(pl.col(\"test_output_grid\") != pl.col(\"true_output_grid\"))\n",
                "    .with_columns(\n",
                "        (\n",
                "            pl.concat_list(\"test_output_grid\", \"true_output_grid\").map_elements(\n",
                "                lambda x: levenshtein_distance(x[0], x[1]), return_dtype=pl.Int32\n",
                "            )\n",
                "            / pl.col(\"grid_size\")\n",
                "        ).alias(\"levenshtein_distance\")\n",
                "    )\n",
                "    .rename(\n",
                "        {\"output_height\": \"true_output_height\", \"output_width\": \"true_output_width\"}\n",
                "    )\n",
                ")\n",
                "human_incorrect = (\n",
                "    human_eval_summary.filter(\n",
                "        (pl.col(\"test_output_grid\") != pl.col(\"true_output_grid\"))\n",
                "        & (pl.col(\"attempt_number\") <= 2)\n",
                "    )\n",
                "    .with_columns(\n",
                "        (\n",
                "            pl.concat_list(\"test_output_grid\", \"true_output_grid\").map_elements(\n",
                "                lambda x: levenshtein_distance(x[0], x[1]), return_dtype=pl.Int32\n",
                "            )\n",
                "            / pl.col(\"grid_size\")\n",
                "        ).alias(\"levenshtein_distance\")\n",
                "    )\n",
                "    .rename(\n",
                "        {\"output_height\": \"true_output_height\", \"output_width\": \"true_output_width\"}\n",
                "    )\n",
                ")"
            ]
        },
        {
            "cell_type": "code",
            "execution_count": 15,
            "metadata": {},
            "outputs": [
                {
                    "name": "stdout",
                    "output_type": "stream",
                    "text": [
                        "Proportion of incorrect submissions with wrong output dimensions (claude3_5-langchain): 10.25%\n",
                        "Proportion of incorrect submissions with wrong output dimensions (human): 26.17%\n"
                    ]
                }
            ],
            "source": [
                "# compute proportion of incorrect submissions with different output dimensions\n",
                "def compute_incorrect_output_dims(df):\n",
                "    df = df.with_columns(\n",
                "        pl.when(\n",
                "            (pl.col(\"true_output_height\") != pl.col(\"test_output_height\"))\n",
                "            | (pl.col(\"true_output_width\") != pl.col(\"test_output_width\"))\n",
                "        )\n",
                "        .then(1)\n",
                "        .otherwise(0)\n",
                "        .alias(\"incorrect_output_dims\")\n",
                "    )\n",
                "    return df\n",
                "\n",
                "\n",
                "machine_incorrect = compute_incorrect_output_dims(machine_incorrect)\n",
                "human_incorrect = compute_incorrect_output_dims(human_incorrect)\n",
                "\n",
                "for name, df in [\n",
                "    (f\"{submission_id}\", machine_incorrect),\n",
                "    (\"human\", human_incorrect),\n",
                "]:\n",
                "    num_incorrect = df.filter(pl.col(\"incorrect_output_dims\") == 1).height\n",
                "    total = df.height\n",
                "\n",
                "    print(\n",
                "        f\"Proportion of incorrect submissions with wrong output dimensions ({name}): {round(num_incorrect / total * 100, 2)}%\"\n",
                "    )"
            ]
        },
        {
            "cell_type": "markdown",
            "metadata": {},
            "source": [
                "How much copying?\n"
            ]
        },
        {
            "cell_type": "code",
            "execution_count": 17,
            "metadata": {},
            "outputs": [],
            "source": [
                "evaluation_set = pl.read_csv(\"../arc_data/ARC_evaluation_tasks.csv\")\n",
                "evaluation_set_train = evaluation_set.filter((pl.col(\"example_type\") == \"train\"))\n",
                "evaluation_set_test = evaluation_set.filter((pl.col(\"example_type\") == \"test\"))\n",
                "grid_agg_evaluation_train = evaluation_set_train.group_by(\"task_name\").agg(\n",
                "    pl.col(\"input_grid\").alias(\"train_input_grids\"),\n",
                "    pl.col(\"output_grid\").alias(\"train_output_grids\"),\n",
                ")\n",
                "grid_agg_evaluation_test = evaluation_set_test.select(\n",
                "    \"task_name\", \"example_number\", \"input_grid\", \"output_grid\"\n",
                ").rename({\"input_grid\": \"test_input_grid\", \"example_number\": \"test_number\"})"
            ]
        },
        {
            "cell_type": "code",
            "execution_count": 18,
            "metadata": {},
            "outputs": [],
            "source": [
                "def get_machine_copy_rate(df):\n",
                "    df = (\n",
                "        df.filter(pl.col(\"test_output_grid\") != pl.col(\"true_output_grid\"))\n",
                "        .select(\"task_name\", \"test_output_grid\", \"test_number\")\n",
                "        .join(grid_agg_evaluation_test, on=[\"task_name\", \"test_number\"], how=\"left\")\n",
                "        .join(grid_agg_evaluation_train, on=\"task_name\", how=\"left\")\n",
                "    )\n",
                "    df = df.with_columns(\n",
                "        pl.col(\"test_output_grid\")\n",
                "        .is_in(\"train_input_grids\")\n",
                "        .alias(\"train_input_grid_copy\"),\n",
                "        pl.col(\"test_output_grid\")\n",
                "        .is_in(\"train_output_grids\")\n",
                "        .alias(\"train_output_grid_copy\"),\n",
                "        (pl.col(\"test_output_grid\") == pl.col(\"test_input_grid\")).alias(\n",
                "            \"test_input_grid_copy\"\n",
                "        ),\n",
                "    )\n",
                "    copy_rate_train_input = df.filter(pl.col(\"train_input_grid_copy\")).height\n",
                "    copy_rate_train_output = df.filter(pl.col(\"train_output_grid_copy\")).height\n",
                "    copy_rate_test_input = df.filter(pl.col(\"test_input_grid_copy\")).height\n",
                "    total = df.height\n",
                "    return (\n",
                "        copy_rate_train_input,\n",
                "        copy_rate_train_output,\n",
                "        copy_rate_test_input,\n",
                "        total,\n",
                "    )"
            ]
        },
        {
            "cell_type": "code",
            "execution_count": 19,
            "metadata": {},
            "outputs": [],
            "source": [
                "machine_copying = get_machine_copy_rate(machine_submission)"
            ]
        },
        {
            "cell_type": "code",
            "execution_count": 20,
            "metadata": {},
            "outputs": [
                {
                    "name": "stdout",
                    "output_type": "stream",
                    "text": [
                        "claude3_5-langchain Copy Rate (Train Input): 0.00%\n",
                        "claude3_5-langchain Copy Rate (Train Output): 1.18%\n",
                        "claude3_5-langchain Copy Rate (Test Input): 0.39%\n",
                        "Total claude3_5-langchain Copy Rate: 1.57%\n"
                    ]
                }
            ],
            "source": [
                "print(\n",
                "    f\"{submission_id} Copy Rate (Train Input): {machine_copying[0] / machine_copying[3] * 100:.2f}%\"\n",
                ")\n",
                "print(\n",
                "    f\"{submission_id} Copy Rate (Train Output): {machine_copying[1] / machine_copying[3] * 100:.2f}%\"\n",
                ")\n",
                "print(\n",
                "    f\"{submission_id} Copy Rate (Test Input): {machine_copying[2] / machine_copying[3] * 100:.2f}%\"\n",
                ")\n",
                "print(\n",
                "    f\"Total {submission_id} Copy Rate: {sum(machine_copying[0:3])/ machine_copying[3] * 100:.2f}%\"\n",
                ")"
            ]
        }
    ],
    "metadata": {
        "kernelspec": {
            "display_name": ".venv",
            "language": "python",
            "name": "python3"
        },
        "language_info": {
            "codemirror_mode": {
                "name": "ipython",
                "version": 3
            },
            "file_extension": ".py",
            "mimetype": "text/x-python",
            "name": "python",
            "nbconvert_exporter": "python",
            "pygments_lexer": "ipython3",
            "version": "3.12.5"
        }
    },
    "nbformat": 4,
    "nbformat_minor": 2
}

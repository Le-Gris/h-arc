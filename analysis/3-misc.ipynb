{
 "cells": [
  {
   "cell_type": "code",
   "execution_count": 1,
   "metadata": {},
   "outputs": [],
   "source": [
    "# imports\n",
    "import sys\n",
    "\n",
    "sys.path.append(\"..\")\n",
    "from src.utils import *\n",
    "import polars as pl\n",
    "from datetime import datetime as dt\n",
    "import seaborn as sns\n",
    "import numpy as np\n",
    "from matplotlib import pyplot as plt\n",
    "from scipy.stats import ttest_ind, permutation_test"
   ]
  },
  {
   "cell_type": "code",
   "execution_count": 2,
   "metadata": {},
   "outputs": [
    {
     "data": {
      "text/plain": [
       "<polars.config.Config at 0x12e62cf50>"
      ]
     },
     "execution_count": 2,
     "metadata": {},
     "output_type": "execute_result"
    }
   ],
   "source": [
    "# polars config\n",
    "pl.Config.load_from_file(\"../polars_cfg.json\")"
   ]
  },
  {
   "cell_type": "code",
   "execution_count": 3,
   "metadata": {},
   "outputs": [],
   "source": [
    "# data file paths\n",
    "clean_summary_path = \"../data/clean_summary_data_merged.csv\"\n",
    "clean_incomplete_path = \"../data/clean_incomplete_data_merged.csv\"\n",
    "clean_all_path = \"../data/clean_all_data_merged.csv\""
   ]
  },
  {
   "cell_type": "code",
   "execution_count": 4,
   "metadata": {},
   "outputs": [
    {
     "name": "stdout",
     "output_type": "stream",
     "text": [
      "Filtered out 59/783 incomplete participant task attempts\n",
      "Filtered out 59/783 incomplete participant task attempts\n"
     ]
    }
   ],
   "source": [
    "df_summary = pl.read_csv(clean_summary_path)\n",
    "df_incomplete = pl.read_csv(clean_incomplete_path)\n",
    "df_incomplete_summary = get_summary(df_incomplete).select(\n",
    "    df_summary.drop(\"condition\").columns\n",
    ")\n",
    "df_summary_all, _ = include_incomplete(df_summary, df_incomplete)\n",
    "\n",
    "df_all = pl.read_csv(clean_all_path)\n",
    "\n",
    "# parse time\n",
    "df_all = df_all.with_columns(\n",
    "    pl.col(\"time\").map_elements(parse_mixed_datetime, return_dtype=pl.Datetime)\n",
    ")\n",
    "df_incomplete = df_incomplete.with_columns(\n",
    "    pl.col(\"time\").map_elements(parse_mixed_datetime, return_dtype=pl.Datetime)\n",
    ")"
   ]
  },
  {
   "cell_type": "code",
   "execution_count": 5,
   "metadata": {},
   "outputs": [
    {
     "name": "stdout",
     "output_type": "stream",
     "text": [
      "Number of participants given 5 tasks on training set:  542\n",
      "Number of participants given 10 tasks on training set:  241\n"
     ]
    }
   ],
   "source": [
    "df_by_participant = df_summary_all.group_by(\"hashed_id\").agg(\n",
    "    pl.max(\"task_number\").alias(\"tasks_completed\"),\n",
    "    pl.min(\"task_number\").alias(\"first_task\"),\n",
    "    pl.first(\"task_type\"),\n",
    "    pl.first(\"exp_name\"),\n",
    ")\n",
    "\n",
    "# number of participants given 5 tasks on training set\n",
    "five = df_by_participant.filter(\n",
    "    (pl.col(\"task_type\") == \"training\")\n",
    "    & ~(pl.col(\"exp_name\").is_in([\"expv0\", \"expv1\"]))\n",
    ")\n",
    "ten = df_by_participant.filter(\n",
    "    (pl.col(\"task_type\") == \"training\") & (pl.col(\"exp_name\").is_in([\"expv0\", \"expv1\"]))\n",
    ")\n",
    "print(\"Number of participants given 5 tasks on training set: \", len(five))\n",
    "print(\"Number of participants given 10 tasks on training set: \", len(ten))"
   ]
  },
  {
   "cell_type": "code",
   "execution_count": 6,
   "metadata": {},
   "outputs": [
    {
     "name": "stdout",
     "output_type": "stream",
     "text": [
      "Number of participants not prevented from submitting the same grid after an incorrect attempt: 340/1425\n",
      "\n"
     ]
    }
   ],
   "source": [
    "# get number of participants who were prevented from submitting the same task\n",
    "num_copy_allowed = len(\n",
    "    df_all.group_by(\"hashed_id\")\n",
    "    .agg(pl.max(\"time\").alias(\"last_time\"), pl.first(\"task_type\"))\n",
    "    .filter((pl.col(\"last_time\") < dt(2023, 12, 1, 15, 43, 10)))\n",
    ")\n",
    "total = len(df_summary[\"hashed_id\"].unique())\n",
    "print(\n",
    "    f\"Number of participants not prevented from submitting the same grid after an incorrect attempt: {num_copy_allowed}/{total}\\n\"\n",
    ")"
   ]
  },
  {
   "cell_type": "code",
   "execution_count": 18,
   "metadata": {},
   "outputs": [
    {
     "name": "stdout",
     "output_type": "stream",
     "text": [
      "Proportion of incorrect submissions that were copies of previous submissions outputs: 0.07\n",
      "\n"
     ]
    }
   ],
   "source": [
    "# rate of copied outputs\n",
    "test_outputs = (\n",
    "    df_summary.filter(~pl.col(\"solved\"))\n",
    "    .group_by(\"joint_id_task\")\n",
    "    .agg(pl.col(\"test_output_grid\"), pl.len())\n",
    ")\n",
    "total = test_outputs.select(pl.sum(\"len\")).item()\n",
    "# apply set to remove duplicates\n",
    "test_outputs = test_outputs.with_columns(\n",
    "    pl.col(\"test_output_grid\").list.n_unique().alias(\"unique_count\")\n",
    ")\n",
    "num_copied = (\n",
    "    test_outputs.select((pl.col(\"len\") - pl.col(\"unique_count\")).alias(\"num_copies\"))\n",
    "    .select(pl.sum(\"num_copies\"))\n",
    "    .item()\n",
    ")\n",
    "print(\n",
    "    f\"Proportion of incorrect submissions that were copies of previous submissions outputs: {num_copied/total:.2f}\\n\"\n",
    ")"
   ]
  },
  {
   "cell_type": "code",
   "execution_count": 19,
   "metadata": {},
   "outputs": [
    {
     "data": {
      "text/html": [
       "<div><style>\n",
       ".dataframe > thead > tr,\n",
       ".dataframe > tbody > tr {\n",
       "  text-align: right;\n",
       "  white-space: pre-wrap;\n",
       "}\n",
       "</style>\n",
       "<small>shape: (10, 3)</small><table border=\"1\" class=\"dataframe\"><thead><tr><th>task_name</th><th>solved</th><th>count</th></tr><tr><td>str</td><td>f64</td><td>u32</td></tr></thead><tbody><tr><td>&quot;31d5ba1a.json&quot;</td><td>0.0</td><td>9</td></tr><tr><td>&quot;b4a43f3b.json&quot;</td><td>0.0</td><td>9</td></tr><tr><td>&quot;a8610ef7.json&quot;</td><td>0.0</td><td>6</td></tr><tr><td>&quot;79fb03f4.json&quot;</td><td>0.0</td><td>6</td></tr><tr><td>&quot;4ff4c9da.json&quot;</td><td>0.0</td><td>4</td></tr><tr><td>&quot;40f6cd08.json&quot;</td><td>0.0</td><td>2</td></tr><tr><td>&quot;8719f442.json&quot;</td><td>0.0</td><td>1</td></tr><tr><td>&quot;fea12743.json&quot;</td><td>0.090909</td><td>11</td></tr><tr><td>&quot;e6de6e8f.json&quot;</td><td>0.111111</td><td>9</td></tr><tr><td>&quot;34b99a2b.json&quot;</td><td>0.111111</td><td>9</td></tr></tbody></table></div>"
      ],
      "text/plain": [
       "shape: (10, 3)\n",
       "┌───────────────┬──────────┬───────┐\n",
       "│ task_name     ┆ solved   ┆ count │\n",
       "│ ---           ┆ ---      ┆ ---   │\n",
       "│ str           ┆ f64      ┆ u32   │\n",
       "╞═══════════════╪══════════╪═══════╡\n",
       "│ 31d5ba1a.json ┆ 0.0      ┆ 9     │\n",
       "│ b4a43f3b.json ┆ 0.0      ┆ 9     │\n",
       "│ a8610ef7.json ┆ 0.0      ┆ 6     │\n",
       "│ 79fb03f4.json ┆ 0.0      ┆ 6     │\n",
       "│ 4ff4c9da.json ┆ 0.0      ┆ 4     │\n",
       "│ 40f6cd08.json ┆ 0.0      ┆ 2     │\n",
       "│ 8719f442.json ┆ 0.0      ┆ 1     │\n",
       "│ fea12743.json ┆ 0.090909 ┆ 11    │\n",
       "│ e6de6e8f.json ┆ 0.111111 ┆ 9     │\n",
       "│ 34b99a2b.json ┆ 0.111111 ┆ 9     │\n",
       "└───────────────┴──────────┴───────┘"
      ]
     },
     "execution_count": 19,
     "metadata": {},
     "output_type": "execute_result"
    }
   ],
   "source": [
    "# top ten hardest tasks ordered by number of participants\n",
    "df_summary.filter(pl.col(\"task_type\") == \"evaluation\").select(\n",
    "    pl.col([\"joint_id_task\", \"task_name\", \"attempt_number\", \"solved\"])\n",
    "    .top_k_by(\"attempt_number\", k=1)\n",
    "    .over(\"joint_id_task\", mapping_strategy=\"explode\")\n",
    ").group_by(\"task_name\").agg(pl.sum(\"solved\") / pl.len(), pl.len().alias(\"count\")).sort(\n",
    "    [\"solved\", \"count\"], descending=[False, True]\n",
    ").head(\n",
    "    10\n",
    ")"
   ]
  }
 ],
 "metadata": {
  "kernelspec": {
   "display_name": ".venv",
   "language": "python",
   "name": "python3"
  },
  "language_info": {
   "codemirror_mode": {
    "name": "ipython",
    "version": 3
   },
   "file_extension": ".py",
   "mimetype": "text/x-python",
   "name": "python",
   "nbconvert_exporter": "python",
   "pygments_lexer": "ipython3",
   "version": "3.12.5"
  }
 },
 "nbformat": 4,
 "nbformat_minor": 2
}

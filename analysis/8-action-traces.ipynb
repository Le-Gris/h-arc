{
 "cells": [
  {
   "cell_type": "code",
   "execution_count": 1,
   "metadata": {},
   "outputs": [],
   "source": [
    "# imports\n",
    "import polars as pl\n",
    "import seaborn as sns\n",
    "import matplotlib.pyplot as plt\n",
    "from matplotlib.lines import Line2D\n",
    "from datetime import timezone\n",
    "from datetime import datetime as dt\n",
    "import numpy as np\n",
    "import sys\n",
    "from scipy.stats import pearsonr\n",
    "from scipy import stats\n",
    "\n",
    "sys.path.append(\"../\")\n",
    "from src.utils import *"
   ]
  },
  {
   "cell_type": "code",
   "execution_count": 2,
   "metadata": {},
   "outputs": [
    {
     "data": {
      "text/plain": [
       "<polars.config.Config at 0x307958290>"
      ]
     },
     "execution_count": 2,
     "metadata": {},
     "output_type": "execute_result"
    }
   ],
   "source": [
    "# polars config\n",
    "pl.Config.load_from_file(\"../polars_cfg.json\")"
   ]
  },
  {
   "cell_type": "markdown",
   "metadata": {},
   "source": [
    "# 1. Data loading\n",
    "\n",
    "Choose whether to include participants that didn't complete all five tasks in the analyses with the True / False toggle.\n"
   ]
  },
  {
   "cell_type": "code",
   "execution_count": 3,
   "metadata": {},
   "outputs": [],
   "source": [
    "# data file paths\n",
    "clean_data_path = \"../data/data.csv\""
   ]
  },
  {
   "cell_type": "code",
   "execution_count": 4,
   "metadata": {},
   "outputs": [],
   "source": [
    "df_all = pl.read_csv(clean_data_path)"
   ]
  },
  {
   "cell_type": "code",
   "execution_count": 5,
   "metadata": {},
   "outputs": [
    {
     "data": {
      "text/html": [
       "<div><style>\n",
       ".dataframe > thead > tr,\n",
       ".dataframe > tbody > tr {\n",
       "  text-align: right;\n",
       "  white-space: pre-wrap;\n",
       "}\n",
       "</style>\n",
       "<small>shape: (5, 40)</small><table border=\"1\" class=\"dataframe\"><thead><tr><th>exp_name</th><th>task_type</th><th>hashed_id</th><th>joint_id_task</th><th>task_name</th><th>task_number</th><th>is_tutorial</th><th>time</th><th>attempt_number</th><th>action_id</th><th>solved</th><th>done</th><th>test_input_grid</th><th>test_input_size_x</th><th>test_input_size_y</th><th>test_output_grid</th><th>test_output_size_x</th><th>test_output_size_y</th><th>action</th><th>action_x</th><th>action_y</th><th>select_loc</th><th>selected_data</th><th>selected_symbol</th><th>selected_tool</th><th>copy_paste_data</th><th>first_written_solution</th><th>last_written_solution</th><th>withdraw</th><th>withdraw_reason</th><th>withdraw_comment</th><th>age</th><th>gender</th><th>race</th><th>education_level</th><th>household_income</th><th>normal_vision</th><th>color_blind</th><th>fluent_english</th><th>complete</th></tr><tr><td>str</td><td>str</td><td>str</td><td>str</td><td>str</td><td>i64</td><td>bool</td><td>str</td><td>i64</td><td>i64</td><td>bool</td><td>bool</td><td>str</td><td>i64</td><td>i64</td><td>str</td><td>i64</td><td>i64</td><td>str</td><td>f64</td><td>f64</td><td>str</td><td>str</td><td>i64</td><td>str</td><td>str</td><td>str</td><td>str</td><td>bool</td><td>str</td><td>str</td><td>str</td><td>str</td><td>str</td><td>str</td><td>str</td><td>str</td><td>str</td><td>str</td><td>bool</td></tr></thead><tbody><tr><td>&quot;expv2&quot;</td><td>&quot;training&quot;</td><td>&quot;59e36641c3391529505bdf7af902cec0&quot;</td><td>&quot;59e36641c3391529505bdf7af902cec0_32597951.jso…</td><td>&quot;32597951.json&quot;</td><td>1</td><td>false</td><td>&quot;2023-08-03T04:22:11.000000&quot;</td><td>1</td><td>1</td><td>false</td><td>true</td><td>&quot;|000|000|000|&quot;</td><td>3</td><td>3</td><td>&quot;|000|000|000|&quot;</td><td>3</td><td>3</td><td>&quot;reset_grid&quot;</td><td>null</td><td>null</td><td>null</td><td>&quot;[]&quot;</td><td>0</td><td>&quot;edit&quot;</td><td>&quot;[]&quot;</td><td>&quot;YES DONE EASILY&quot;</td><td>&quot;INTERESTING TO COMPLETE&quot;</td><td>false</td><td>null</td><td>null</td><td>null</td><td>null</td><td>null</td><td>null</td><td>null</td><td>null</td><td>null</td><td>null</td><td>true</td></tr><tr><td>&quot;expv2&quot;</td><td>&quot;training&quot;</td><td>&quot;59e36641c3391529505bdf7af902cec0&quot;</td><td>&quot;59e36641c3391529505bdf7af902cec0_32597951.jso…</td><td>&quot;32597951.json&quot;</td><td>1</td><td>false</td><td>&quot;2023-08-03T04:22:34.000000&quot;</td><td>1</td><td>2</td><td>false</td><td>true</td><td>&quot;|10010010010010010|01001001001001001|00100100…</td><td>17</td><td>17</td><td>&quot;|000|000|000|&quot;</td><td>3</td><td>3</td><td>&quot;change_color&quot;</td><td>null</td><td>null</td><td>null</td><td>&quot;[]&quot;</td><td>1</td><td>&quot;edit&quot;</td><td>&quot;[]&quot;</td><td>&quot;YES DONE EASILY&quot;</td><td>&quot;INTERESTING TO COMPLETE&quot;</td><td>false</td><td>null</td><td>null</td><td>null</td><td>null</td><td>null</td><td>null</td><td>null</td><td>null</td><td>null</td><td>null</td><td>true</td></tr><tr><td>&quot;expv2&quot;</td><td>&quot;training&quot;</td><td>&quot;59e36641c3391529505bdf7af902cec0&quot;</td><td>&quot;59e36641c3391529505bdf7af902cec0_32597951.jso…</td><td>&quot;32597951.json&quot;</td><td>1</td><td>false</td><td>&quot;2023-08-03T04:22:46.000000&quot;</td><td>1</td><td>3</td><td>false</td><td>true</td><td>&quot;|10010010010010010|01001001001001001|00100100…</td><td>17</td><td>17</td><td>&quot;|000|000|000|000|000|000|000|000|000|000|000|…</td><td>17</td><td>3</td><td>&quot;change_height&quot;</td><td>null</td><td>null</td><td>null</td><td>&quot;[]&quot;</td><td>1</td><td>&quot;edit&quot;</td><td>&quot;[]&quot;</td><td>&quot;YES DONE EASILY&quot;</td><td>&quot;INTERESTING TO COMPLETE&quot;</td><td>false</td><td>null</td><td>null</td><td>null</td><td>null</td><td>null</td><td>null</td><td>null</td><td>null</td><td>null</td><td>null</td><td>true</td></tr><tr><td>&quot;expv2&quot;</td><td>&quot;training&quot;</td><td>&quot;59e36641c3391529505bdf7af902cec0&quot;</td><td>&quot;59e36641c3391529505bdf7af902cec0_32597951.jso…</td><td>&quot;32597951.json&quot;</td><td>1</td><td>false</td><td>&quot;2023-08-03T04:23:01.000000&quot;</td><td>1</td><td>4</td><td>false</td><td>true</td><td>&quot;|10010010010010010|01001001001001001|00100100…</td><td>17</td><td>17</td><td>&quot;|00000000000000000|00000000000000000|00000000…</td><td>17</td><td>17</td><td>&quot;change_width&quot;</td><td>null</td><td>null</td><td>null</td><td>&quot;[]&quot;</td><td>1</td><td>&quot;edit&quot;</td><td>&quot;[]&quot;</td><td>&quot;YES DONE EASILY&quot;</td><td>&quot;INTERESTING TO COMPLETE&quot;</td><td>false</td><td>null</td><td>null</td><td>null</td><td>null</td><td>null</td><td>null</td><td>null</td><td>null</td><td>null</td><td>null</td><td>true</td></tr><tr><td>&quot;expv2&quot;</td><td>&quot;training&quot;</td><td>&quot;59e36641c3391529505bdf7af902cec0&quot;</td><td>&quot;59e36641c3391529505bdf7af902cec0_32597951.jso…</td><td>&quot;32597951.json&quot;</td><td>1</td><td>false</td><td>&quot;2023-08-03T04:23:41.000000&quot;</td><td>1</td><td>5</td><td>false</td><td>true</td><td>&quot;|10010010010010010|01001001001001001|00100100…</td><td>17</td><td>17</td><td>&quot;|00000000000000000|00000000000000000|00000000…</td><td>17</td><td>17</td><td>&quot;change_color&quot;</td><td>null</td><td>null</td><td>null</td><td>&quot;[]&quot;</td><td>1</td><td>&quot;edit&quot;</td><td>&quot;[]&quot;</td><td>&quot;YES DONE EASILY&quot;</td><td>&quot;INTERESTING TO COMPLETE&quot;</td><td>false</td><td>null</td><td>null</td><td>null</td><td>null</td><td>null</td><td>null</td><td>null</td><td>null</td><td>null</td><td>null</td><td>true</td></tr></tbody></table></div>"
      ],
      "text/plain": [
       "shape: (5, 40)\n",
       "┌──────────┬───────────┬────────────┬───────────┬───┬───────────┬───────────┬───────────┬──────────┐\n",
       "│ exp_name ┆ task_type ┆ hashed_id  ┆ joint_id_ ┆ … ┆ normal_vi ┆ color_bli ┆ fluent_en ┆ complete │\n",
       "│ ---      ┆ ---       ┆ ---        ┆ task      ┆   ┆ sion      ┆ nd        ┆ glish     ┆ ---      │\n",
       "│ str      ┆ str       ┆ str        ┆ ---       ┆   ┆ ---       ┆ ---       ┆ ---       ┆ bool     │\n",
       "│          ┆           ┆            ┆ str       ┆   ┆ str       ┆ str       ┆ str       ┆          │\n",
       "╞══════════╪═══════════╪════════════╪═══════════╪═══╪═══════════╪═══════════╪═══════════╪══════════╡\n",
       "│ expv2    ┆ training  ┆ 59e36641c3 ┆ 59e36641c ┆ … ┆ null      ┆ null      ┆ null      ┆ true     │\n",
       "│          ┆           ┆ 391529505b ┆ 339152950 ┆   ┆           ┆           ┆           ┆          │\n",
       "│          ┆           ┆ df7af902ce ┆ 5bdf7af90 ┆   ┆           ┆           ┆           ┆          │\n",
       "│          ┆           ┆ c0         ┆ 2cec0_325 ┆   ┆           ┆           ┆           ┆          │\n",
       "│          ┆           ┆            ┆ 97951.jso ┆   ┆           ┆           ┆           ┆          │\n",
       "│          ┆           ┆            ┆ …         ┆   ┆           ┆           ┆           ┆          │\n",
       "│ expv2    ┆ training  ┆ 59e36641c3 ┆ 59e36641c ┆ … ┆ null      ┆ null      ┆ null      ┆ true     │\n",
       "│          ┆           ┆ 391529505b ┆ 339152950 ┆   ┆           ┆           ┆           ┆          │\n",
       "│          ┆           ┆ df7af902ce ┆ 5bdf7af90 ┆   ┆           ┆           ┆           ┆          │\n",
       "│          ┆           ┆ c0         ┆ 2cec0_325 ┆   ┆           ┆           ┆           ┆          │\n",
       "│          ┆           ┆            ┆ 97951.jso ┆   ┆           ┆           ┆           ┆          │\n",
       "│          ┆           ┆            ┆ …         ┆   ┆           ┆           ┆           ┆          │\n",
       "│ expv2    ┆ training  ┆ 59e36641c3 ┆ 59e36641c ┆ … ┆ null      ┆ null      ┆ null      ┆ true     │\n",
       "│          ┆           ┆ 391529505b ┆ 339152950 ┆   ┆           ┆           ┆           ┆          │\n",
       "│          ┆           ┆ df7af902ce ┆ 5bdf7af90 ┆   ┆           ┆           ┆           ┆          │\n",
       "│          ┆           ┆ c0         ┆ 2cec0_325 ┆   ┆           ┆           ┆           ┆          │\n",
       "│          ┆           ┆            ┆ 97951.jso ┆   ┆           ┆           ┆           ┆          │\n",
       "│          ┆           ┆            ┆ …         ┆   ┆           ┆           ┆           ┆          │\n",
       "│ expv2    ┆ training  ┆ 59e36641c3 ┆ 59e36641c ┆ … ┆ null      ┆ null      ┆ null      ┆ true     │\n",
       "│          ┆           ┆ 391529505b ┆ 339152950 ┆   ┆           ┆           ┆           ┆          │\n",
       "│          ┆           ┆ df7af902ce ┆ 5bdf7af90 ┆   ┆           ┆           ┆           ┆          │\n",
       "│          ┆           ┆ c0         ┆ 2cec0_325 ┆   ┆           ┆           ┆           ┆          │\n",
       "│          ┆           ┆            ┆ 97951.jso ┆   ┆           ┆           ┆           ┆          │\n",
       "│          ┆           ┆            ┆ …         ┆   ┆           ┆           ┆           ┆          │\n",
       "│ expv2    ┆ training  ┆ 59e36641c3 ┆ 59e36641c ┆ … ┆ null      ┆ null      ┆ null      ┆ true     │\n",
       "│          ┆           ┆ 391529505b ┆ 339152950 ┆   ┆           ┆           ┆           ┆          │\n",
       "│          ┆           ┆ df7af902ce ┆ 5bdf7af90 ┆   ┆           ┆           ┆           ┆          │\n",
       "│          ┆           ┆ c0         ┆ 2cec0_325 ┆   ┆           ┆           ┆           ┆          │\n",
       "│          ┆           ┆            ┆ 97951.jso ┆   ┆           ┆           ┆           ┆          │\n",
       "│          ┆           ┆            ┆ …         ┆   ┆           ┆           ┆           ┆          │\n",
       "└──────────┴───────────┴────────────┴───────────┴───┴───────────┴───────────┴───────────┴──────────┘"
      ]
     },
     "execution_count": 5,
     "metadata": {},
     "output_type": "execute_result"
    }
   ],
   "source": [
    "df_all.head()"
   ]
  },
  {
   "cell_type": "code",
   "execution_count": 15,
   "metadata": {},
   "outputs": [],
   "source": [
    "sorted_df = df_all.sort(\n",
    "    by=[\"exp_name\", \"joint_id_task\", \"task_number\", \"attempt_number\", \"action_id\"]\n",
    ")\n",
    "aggregated_df = sorted_df.group_by(\n",
    "    \"joint_id_task\", \"attempt_number\", maintain_order=True\n",
    ").agg(pl.col(\"test_input_grid\").alias(\"grid_states\"))"
   ]
  },
  {
   "cell_type": "code",
   "execution_count": 16,
   "metadata": {},
   "outputs": [
    {
     "data": {
      "text/html": [
       "<div><style>\n",
       ".dataframe > thead > tr,\n",
       ".dataframe > tbody > tr {\n",
       "  text-align: right;\n",
       "  white-space: pre-wrap;\n",
       "}\n",
       "</style>\n",
       "<small>shape: (5, 3)</small><table border=\"1\" class=\"dataframe\"><thead><tr><th>joint_id_task</th><th>attempt_number</th><th>grid_states</th></tr><tr><td>str</td><td>i64</td><td>list[str]</td></tr></thead><tbody><tr><td>&quot;0017a2904e34497d578228a0912f2367_1caeab9d.jso…</td><td>1</td><td>[&quot;|000|000|000|&quot;, &quot;|0000000022|0000000022|0110000200|0110000000|1000000000|0000440000|0000440000|0004000000|0000000000|0000000000|&quot;, … &quot;|0000000022|0000000022|0110000200|0110000000|1000000000|0000440000|0000440000|0004000000|0000000000|0000000000|&quot;]</td></tr><tr><td>&quot;0017a2904e34497d578228a0912f2367_1e0a9b12.jso…</td><td>1</td><td>[&quot;|000|000|000|&quot;, &quot;|02043|50000|00600|52040|50000|&quot;, … &quot;|02043|50000|00600|52040|50000|&quot;]</td></tr><tr><td>&quot;0017a2904e34497d578228a0912f2367_1f876c06.jso…</td><td>1</td><td>[&quot;|000|000|000|&quot;, &quot;|0000003009|7000000000|0000000000|0003009000|6000000000|0000000004|0000000000|0006007000|0000000000|0000040000|&quot;, … &quot;|0000003009|7000000000|0000000000|0003009000|6000000000|0000000004|0000000000|0006007000|0000000000|0000040000|&quot;]</td></tr><tr><td>&quot;0017a2904e34497d578228a0912f2367_1fad071e.jso…</td><td>1</td><td>[&quot;|000|000|000|&quot;, &quot;|000002201|110102200|110000000|000001100|022001100|022000000|100000220|220110220|220110000|&quot;, … &quot;|000002201|110102200|110000000|000001100|022001100|022000000|100000220|220110220|220110000|&quot;]</td></tr><tr><td>&quot;0017a2904e34497d578228a0912f2367_3af2c5a8.jso…</td><td>1</td><td>[&quot;|000|000|000|&quot;, &quot;|4000|0004|4400|&quot;, … &quot;|4000|0004|4400|&quot;]</td></tr></tbody></table></div>"
      ],
      "text/plain": [
       "shape: (5, 3)\n",
       "┌────────────────────────────────────────┬────────────────┬────────────────────────────────────────┐\n",
       "│ joint_id_task                          ┆ attempt_number ┆ grid_states                            │\n",
       "│ ---                                    ┆ ---            ┆ ---                                    │\n",
       "│ str                                    ┆ i64            ┆ list[str]                              │\n",
       "╞════════════════════════════════════════╪════════════════╪════════════════════════════════════════╡\n",
       "│ 0017a2904e34497d578228a0912f2367_1caea ┆ 1              ┆ [\"|000|000|000|\",                      │\n",
       "│ b9d.jso…                               ┆                ┆ \"|0000000022|0000000022|011…           │\n",
       "│ 0017a2904e34497d578228a0912f2367_1e0a9 ┆ 1              ┆ [\"|000|000|000|\",                      │\n",
       "│ b12.jso…                               ┆                ┆ \"|02043|50000|00600|52040|5…           │\n",
       "│ 0017a2904e34497d578228a0912f2367_1f876 ┆ 1              ┆ [\"|000|000|000|\",                      │\n",
       "│ c06.jso…                               ┆                ┆ \"|0000003009|7000000000|000…           │\n",
       "│ 0017a2904e34497d578228a0912f2367_1fad0 ┆ 1              ┆ [\"|000|000|000|\",                      │\n",
       "│ 71e.jso…                               ┆                ┆ \"|000002201|110102200|11000…           │\n",
       "│ 0017a2904e34497d578228a0912f2367_3af2c ┆ 1              ┆ [\"|000|000|000|\", \"|4000|0004|4400|\",  │\n",
       "│ 5a8.jso…                               ┆                ┆ … \"|400…                               │\n",
       "└────────────────────────────────────────┴────────────────┴────────────────────────────────────────┘"
      ]
     },
     "execution_count": 16,
     "metadata": {},
     "output_type": "execute_result"
    }
   ],
   "source": [
    "aggregated_df.head()"
   ]
  },
  {
   "cell_type": "code",
   "execution_count": 17,
   "metadata": {},
   "outputs": [],
   "source": [
    "output_json_path = \"../data/grid_states.json\"\n",
    "\n",
    "# Write the aggregated DataFrame to a JSON file\n",
    "aggregated_df.write_json(output_json_path)"
   ]
  }
 ],
 "metadata": {
  "kernelspec": {
   "display_name": ".venv",
   "language": "python",
   "name": "python3"
  },
  "language_info": {
   "codemirror_mode": {
    "name": "ipython",
    "version": 3
   },
   "file_extension": ".py",
   "mimetype": "text/x-python",
   "name": "python",
   "nbconvert_exporter": "python",
   "pygments_lexer": "ipython3",
   "version": "3.12.9"
  }
 },
 "nbformat": 4,
 "nbformat_minor": 2
}

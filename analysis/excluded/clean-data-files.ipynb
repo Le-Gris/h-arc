{
 "cells": [
  {
   "cell_type": "code",
   "execution_count": 1,
   "metadata": {},
   "outputs": [],
   "source": [
    "import polars as pl\n",
    "import sys\n",
    "\n",
    "sys.path.append(\"../../\")\n",
    "from src.utils import *"
   ]
  },
  {
   "cell_type": "code",
   "execution_count": 2,
   "metadata": {},
   "outputs": [
    {
     "data": {
      "text/plain": [
       "<polars.config.Config at 0x104be8b30>"
      ]
     },
     "execution_count": 2,
     "metadata": {},
     "output_type": "execute_result"
    }
   ],
   "source": [
    "pl.Config.load_from_file(\"../../polars_cfg.json\")"
   ]
  },
  {
   "cell_type": "code",
   "execution_count": 3,
   "metadata": {},
   "outputs": [],
   "source": [
    "all_data_path = \"../../data/clean_all_data_merged.csv\"\n",
    "errors_path = \"../../data/clean_errors_merged.csv\"\n",
    "feedback_path = \"../../data/clean_feedback_data_merged.csv\"\n",
    "incomplete_path = \"../../data/clean_incomplete_data_merged.csv\"\n",
    "summary_path = \"../../data/clean_summary_data_merged.csv\"\n",
    "demographics_path = \"../../data/clean_demographics_merged.csv\"\n",
    "\n",
    "df_all = pl.read_csv(all_data_path)\n",
    "df_errors = pl.read_csv(errors_path)\n",
    "df_feedback = pl.read_csv(feedback_path)\n",
    "df_incomplete = pl.read_csv(incomplete_path)\n",
    "df_summary = pl.read_csv(summary_path)"
   ]
  },
  {
   "cell_type": "code",
   "execution_count": 4,
   "metadata": {},
   "outputs": [],
   "source": [
    "reordered_columns = [\n",
    "    # Experiment metadata\n",
    "    \"exp_name\",\n",
    "    \"task_type\",\n",
    "    # Identifiers and metadata\n",
    "    \"hashed_id\",\n",
    "    \"joint_id_task\",\n",
    "    # Task-related information\n",
    "    \"task_name\",\n",
    "    \"task_number\",\n",
    "    \"is_tutorial\",\n",
    "    # Time-related information\n",
    "    \"time\",\n",
    "    # Task performance\n",
    "    \"attempt_number\",\n",
    "    \"num_actions\",\n",
    "    \"solved\",\n",
    "    \"done\",\n",
    "    # Input and output data\n",
    "    \"test_input_grid\",\n",
    "    \"test_input_size_x\",\n",
    "    \"test_input_size_y\",\n",
    "    \"test_output_grid\",\n",
    "    \"test_output_size_x\",\n",
    "    \"test_output_size_y\",\n",
    "    # User actions\n",
    "    \"action\",\n",
    "    \"action_x\",\n",
    "    \"action_y\",\n",
    "    \"select_loc\",\n",
    "    \"selected_data\",\n",
    "    \"selected_symbol\",\n",
    "    \"selected_tool\",\n",
    "    \"copy_paste_data\",\n",
    "    # User solutions\n",
    "    \"first_written_solution\",\n",
    "    \"last_written_solution\",\n",
    "    # Withdrawal information\n",
    "    \"withdraw\",\n",
    "    \"withdraw_reason\",\n",
    "    \"withdraw_comment\",\n",
    "    # Demographic information\n",
    "    \"age\",\n",
    "    \"gender\",\n",
    "    \"race\",\n",
    "    \"education_level\",\n",
    "    \"household_income\",\n",
    "    \"normal_vision\",\n",
    "    \"color_blind\",\n",
    "    \"fluent_english\",\n",
    "]"
   ]
  },
  {
   "cell_type": "code",
   "execution_count": 5,
   "metadata": {},
   "outputs": [],
   "source": [
    "def standardize_test_input_size(df):\n",
    "    df = (\n",
    "        df.with_columns(\n",
    "            pl.col(\"test_input_size\")\n",
    "            .str.strip_chars(\"[]\")\n",
    "            .str.split(\",\")\n",
    "            .list.to_struct(fields=[\"test_input_size_x\", \"test_input_size_y\"])\n",
    "        )\n",
    "        .unnest(\"test_input_size\")\n",
    "        .with_columns(\n",
    "            [\n",
    "                pl.col(\"test_input_size_x\").str.strip_chars(\" \").cast(pl.Int32),\n",
    "                pl.col(\"test_input_size_y\").str.strip_chars(\" \").cast(pl.Int32),\n",
    "            ]\n",
    "        )\n",
    "    )\n",
    "    df = (\n",
    "        df.with_columns(\n",
    "            pl.col(\"test_output_size\")\n",
    "            .map_elements(lambda x: eval(x), return_dtype=pl.List(pl.String))\n",
    "            .list.to_struct(fields=[\"test_output_size_x\", \"test_output_size_y\"])\n",
    "        )\n",
    "        .unnest(\"test_output_size\")\n",
    "        .with_columns(\n",
    "            [\n",
    "                pl.col(\"test_output_size_x\").str.strip_chars(\" \").cast(pl.Int32),\n",
    "                pl.col(\"test_output_size_y\").str.strip_chars(\" \").cast(pl.Int32),\n",
    "            ]\n",
    "        )\n",
    "    )\n",
    "    return df"
   ]
  },
  {
   "cell_type": "code",
   "execution_count": 6,
   "metadata": {},
   "outputs": [],
   "source": [
    "df_incomplete = standardize_test_input_size(df_incomplete)\n",
    "df_all = standardize_test_input_size(df_all)"
   ]
  },
  {
   "cell_type": "code",
   "execution_count": 7,
   "metadata": {},
   "outputs": [],
   "source": [
    "# output time in standard format\n",
    "df_all = df_all.with_columns(\n",
    "    pl.col(\"time\").map_elements(parse_mixed_datetime, return_dtype=pl.Datetime),\n",
    ")\n",
    "df_incomplete = df_incomplete.with_columns(\n",
    "    pl.col(\"time\").map_elements(parse_mixed_datetime, return_dtype=pl.Datetime),\n",
    ")"
   ]
  },
  {
   "cell_type": "code",
   "execution_count": 8,
   "metadata": {},
   "outputs": [],
   "source": [
    "df_incomplete = (\n",
    "    df_incomplete.select(reordered_columns)\n",
    "    .with_columns(\n",
    "        pl.when(pl.col(\"withdraw\").str.to_lowercase() == \"true\")\n",
    "        .then(True)\n",
    "        .when(pl.col(\"withdraw\").str.to_lowercase() == \"false\")\n",
    "        .then(False)\n",
    "        .otherwise(None)\n",
    "        .alias(\"withdraw\")\n",
    "        .cast(pl.Boolean),\n",
    "        pl.col(\"age\").cast(pl.Float32),\n",
    "    )\n",
    "    .with_columns(pl.lit(False).alias(\"complete\"))\n",
    ")\n",
    "df_all = (\n",
    "    df_all.select(reordered_columns)\n",
    "    .with_columns(pl.col(\"withdraw\").cast(pl.Boolean), pl.col(\"age\").cast(pl.Float32))\n",
    "    .with_columns(pl.lit(True).alias(\"complete\"))\n",
    ")"
   ]
  },
  {
   "cell_type": "markdown",
   "metadata": {},
   "source": [
    "Got rid of:\n",
    "\n",
    "- feedback\n",
    "- indexOf\n",
    "- phase\n",
    "- template\n",
    "- templates\n",
    "- viewTime\n",
    "- tutorial_response\n",
    "- beginHit\n",
    "- endHit\n"
   ]
  },
  {
   "cell_type": "code",
   "execution_count": 9,
   "metadata": {},
   "outputs": [],
   "source": [
    "df_all.write_csv(\"../../data/clean_data.csv\")\n",
    "df_incomplete.write_csv(\"../../data/clean_data_incomplete.csv\")"
   ]
  },
  {
   "cell_type": "markdown",
   "metadata": {},
   "source": [
    "Clean errors\n"
   ]
  },
  {
   "cell_type": "code",
   "execution_count": 10,
   "metadata": {},
   "outputs": [
    {
     "data": {
      "text/html": [
       "<div><style>\n",
       ".dataframe > thead > tr,\n",
       ".dataframe > tbody > tr {\n",
       "  text-align: right;\n",
       "  white-space: pre-wrap;\n",
       "}\n",
       "</style>\n",
       "<small>shape: (5, 6)</small><table border=\"1\" class=\"dataframe\"><thead><tr><th>task_name</th><th>test_output_grid</th><th>hashed_output_grid</th><th>exp_name</th><th>task_type</th><th>count</th></tr><tr><td>str</td><td>str</td><td>str</td><td>str</td><td>str</td><td>i64</td></tr></thead><tbody><tr><td>&quot;025d127b.json&quot;</td><td>&quot;|0000000000|0044444400|0040000040|0004000004|…</td><td>&quot;dc6dff245394753e3001d855fff1ec09&quot;</td><td>&quot;expv0&quot;</td><td>&quot;training&quot;</td><td>1</td></tr><tr><td>&quot;025d127b.json&quot;</td><td>&quot;|0000000000|0044444400|0040000040|0004000004|…</td><td>&quot;da376bc568b03d7f5702d4ebb8e4f0ed&quot;</td><td>&quot;expv0&quot;</td><td>&quot;training&quot;</td><td>2</td></tr><tr><td>&quot;025d127b.json&quot;</td><td>&quot;|0000000000|0044444400|0040000040|0040000004|…</td><td>&quot;15768d2cdee1eba0a55d9d400d9037ad&quot;</td><td>&quot;expv0&quot;</td><td>&quot;training&quot;</td><td>3</td></tr><tr><td>&quot;025d127b.json&quot;</td><td>&quot;|0000000000|0444444000|0400000400|0040000040|…</td><td>&quot;e75d4ea97fffc3d9801520e1d724ff4c&quot;</td><td>&quot;expv0&quot;</td><td>&quot;training&quot;</td><td>1</td></tr><tr><td>&quot;025d127b.json&quot;</td><td>&quot;|0000000000|4444440000|4000004000|0400000400|…</td><td>&quot;6e8528c1fd343e31980688552cae311b&quot;</td><td>&quot;expv0&quot;</td><td>&quot;training&quot;</td><td>1</td></tr></tbody></table></div>"
      ],
      "text/plain": [
       "shape: (5, 6)\n",
       "┌───────────────┬─────────────────────────┬─────────────────────────┬──────────┬───────────┬───────┐\n",
       "│ task_name     ┆ test_output_grid        ┆ hashed_output_grid      ┆ exp_name ┆ task_type ┆ count │\n",
       "│ ---           ┆ ---                     ┆ ---                     ┆ ---      ┆ ---       ┆ ---   │\n",
       "│ str           ┆ str                     ┆ str                     ┆ str      ┆ str       ┆ i64   │\n",
       "╞═══════════════╪═════════════════════════╪═════════════════════════╪══════════╪═══════════╪═══════╡\n",
       "│ 025d127b.json ┆ |0000000000|0044444400| ┆ dc6dff245394753e3001d85 ┆ expv0    ┆ training  ┆ 1     │\n",
       "│               ┆ 0040000040|0004000004|… ┆ 5fff1ec09               ┆          ┆           ┆       │\n",
       "│ 025d127b.json ┆ |0000000000|0044444400| ┆ da376bc568b03d7f5702d4e ┆ expv0    ┆ training  ┆ 2     │\n",
       "│               ┆ 0040000040|0004000004|… ┆ bb8e4f0ed               ┆          ┆           ┆       │\n",
       "│ 025d127b.json ┆ |0000000000|0044444400| ┆ 15768d2cdee1eba0a55d9d4 ┆ expv0    ┆ training  ┆ 3     │\n",
       "│               ┆ 0040000040|0040000004|… ┆ 00d9037ad               ┆          ┆           ┆       │\n",
       "│ 025d127b.json ┆ |0000000000|0444444000| ┆ e75d4ea97fffc3d9801520e ┆ expv0    ┆ training  ┆ 1     │\n",
       "│               ┆ 0400000400|0040000040|… ┆ 1d724ff4c               ┆          ┆           ┆       │\n",
       "│ 025d127b.json ┆ |0000000000|4444440000| ┆ 6e8528c1fd343e319806885 ┆ expv0    ┆ training  ┆ 1     │\n",
       "│               ┆ 4000004000|0400000400|… ┆ 52cae311b               ┆          ┆           ┆       │\n",
       "└───────────────┴─────────────────────────┴─────────────────────────┴──────────┴───────────┴───────┘"
      ]
     },
     "execution_count": 10,
     "metadata": {},
     "output_type": "execute_result"
    }
   ],
   "source": [
    "df_errors.head()"
   ]
  },
  {
   "cell_type": "code",
   "execution_count": 11,
   "metadata": {},
   "outputs": [],
   "source": [
    "df_errors = (\n",
    "    df_errors.group_by([\"task_name\", \"test_output_grid\"])\n",
    "    .agg(\n",
    "        pl.first(\"hashed_output_grid\"),\n",
    "        pl.first(\"task_type\"),\n",
    "        pl.sum(\"count\").alias(\"count\"),\n",
    "    )\n",
    "    .sort(\"count\", descending=True)\n",
    ")"
   ]
  },
  {
   "cell_type": "code",
   "execution_count": 12,
   "metadata": {},
   "outputs": [],
   "source": [
    "df_errors.write_csv(\"../../data/clean_errors.csv\")"
   ]
  },
  {
   "cell_type": "code",
   "execution_count": 13,
   "metadata": {},
   "outputs": [
    {
     "data": {
      "text/html": [
       "<div><style>\n",
       ".dataframe > thead > tr,\n",
       ".dataframe > tbody > tr {\n",
       "  text-align: right;\n",
       "  white-space: pre-wrap;\n",
       "}\n",
       "</style>\n",
       "<small>shape: (5, 5)</small><table border=\"1\" class=\"dataframe\"><thead><tr><th>task_name</th><th>test_output_grid</th><th>hashed_output_grid</th><th>task_type</th><th>count</th></tr><tr><td>str</td><td>str</td><td>str</td><td>str</td><td>u32</td></tr></thead><tbody><tr><td>&quot;25094a63.json&quot;</td><td>&quot;|683338183881631231113122682386|1668813363882…</td><td>&quot;044024c693f80e3993a94ec260b4aa83&quot;</td><td>&quot;evaluation&quot;</td><td>1</td></tr><tr><td>&quot;9b4c17c4.json&quot;</td><td>&quot;|11111188888|11111182888|11111188888|11112288…</td><td>&quot;2578d66c85002b64a79ad7d66f55c74a&quot;</td><td>&quot;evaluation&quot;</td><td>5</td></tr><tr><td>&quot;0a2355a6.json&quot;</td><td>&quot;|00000000000000000|00888800000002220|00800800…</td><td>&quot;2bf8e14b411bd9dad27708d7bd19b318&quot;</td><td>&quot;evaluation&quot;</td><td>1</td></tr><tr><td>&quot;b457fec5.json&quot;</td><td>&quot;|00000000000000000000000|00000013420000000111…</td><td>&quot;d00959947318b386cf23b73d6d145f49&quot;</td><td>&quot;evaluation&quot;</td><td>1</td></tr><tr><td>&quot;c62e2108.json&quot;</td><td>&quot;|000000000400400000000000|0000000004004000000…</td><td>&quot;3a034462aa6b1293509f43c0aa9aafa3&quot;</td><td>&quot;evaluation&quot;</td><td>1</td></tr></tbody></table></div>"
      ],
      "text/plain": [
       "shape: (5, 5)\n",
       "┌───────────────┬──────────────────────────────┬──────────────────────────────┬────────────┬───────┐\n",
       "│ task_name     ┆ test_output_grid             ┆ hashed_output_grid           ┆ task_type  ┆ count │\n",
       "│ ---           ┆ ---                          ┆ ---                          ┆ ---        ┆ ---   │\n",
       "│ str           ┆ str                          ┆ str                          ┆ str        ┆ u32   │\n",
       "╞═══════════════╪══════════════════════════════╪══════════════════════════════╪════════════╪═══════╡\n",
       "│ 25094a63.json ┆ |683338183881631231113122682 ┆ 044024c693f80e3993a94ec260b4 ┆ evaluation ┆ 1     │\n",
       "│               ┆ 386|1668813363882…           ┆ aa83                         ┆            ┆       │\n",
       "│ 9b4c17c4.json ┆ |11111188888|11111182888|111 ┆ 2578d66c85002b64a79ad7d66f55 ┆ evaluation ┆ 5     │\n",
       "│               ┆ 11188888|11112288…           ┆ c74a                         ┆            ┆       │\n",
       "│ 0a2355a6.json ┆ |00000000000000000|008888000 ┆ 2bf8e14b411bd9dad27708d7bd19 ┆ evaluation ┆ 1     │\n",
       "│               ┆ 00002220|00800800…           ┆ b318                         ┆            ┆       │\n",
       "│ b457fec5.json ┆ |00000000000000000000000|000 ┆ d00959947318b386cf23b73d6d14 ┆ evaluation ┆ 1     │\n",
       "│               ┆ 00013420000000111…           ┆ 5f49                         ┆            ┆       │\n",
       "│ c62e2108.json ┆ |000000000400400000000000|00 ┆ 3a034462aa6b1293509f43c0aa9a ┆ evaluation ┆ 1     │\n",
       "│               ┆ 00000004004000000…           ┆ afa3                         ┆            ┆       │\n",
       "└───────────────┴──────────────────────────────┴──────────────────────────────┴────────────┴───────┘"
      ]
     },
     "execution_count": 13,
     "metadata": {},
     "output_type": "execute_result"
    }
   ],
   "source": [
    "df_errors_incomplete = get_errors(df_incomplete)\n",
    "df_errors_incomplete.select(df_errors.columns).head()"
   ]
  },
  {
   "cell_type": "code",
   "execution_count": 14,
   "metadata": {},
   "outputs": [],
   "source": [
    "df_errors_incomplete.write_csv(\"../../data/clean_errors_incomplete.csv\")"
   ]
  },
  {
   "cell_type": "markdown",
   "metadata": {},
   "source": [
    "Clean summary\n"
   ]
  },
  {
   "cell_type": "code",
   "execution_count": 15,
   "metadata": {},
   "outputs": [
    {
     "data": {
      "text/html": [
       "<div><style>\n",
       ".dataframe > thead > tr,\n",
       ".dataframe > tbody > tr {\n",
       "  text-align: right;\n",
       "  white-space: pre-wrap;\n",
       "}\n",
       "</style>\n",
       "<small>shape: (5, 13)</small><table border=\"1\" class=\"dataframe\"><thead><tr><th>hashed_id</th><th>task_name</th><th>joint_id_task</th><th>task_number</th><th>attempt_number</th><th>solved</th><th>test_output_grid</th><th>first_written_solution</th><th>last_written_solution</th><th>num_actions</th><th>exp_name</th><th>condition</th><th>task_type</th></tr><tr><td>str</td><td>str</td><td>str</td><td>i64</td><td>i64</td><td>bool</td><td>str</td><td>str</td><td>str</td><td>i64</td><td>str</td><td>str</td><td>str</td></tr></thead><tbody><tr><td>&quot;195f0749824286cb4b24f431004a3b87&quot;</td><td>&quot;b8cdaf2b.json&quot;</td><td>&quot;195f0749824286cb4b24f431004a3b87_b8cdaf2b.jso…</td><td>1</td><td>1</td><td>true</td><td>&quot;|000000000|000000000|000000000|000000000|2000…</td><td>&quot;To add the opposite color diagonally&quot;</td><td>&quot;To add the opposite color diagonally&quot;</td><td>20</td><td>&quot;expv0&quot;</td><td>null</td><td>&quot;training&quot;</td></tr><tr><td>&quot;195f0749824286cb4b24f431004a3b87&quot;</td><td>&quot;a87f7484.json&quot;</td><td>&quot;195f0749824286cb4b24f431004a3b87_a87f7484.jso…</td><td>2</td><td>1</td><td>true</td><td>&quot;|606|660|606|&quot;</td><td>&quot;To duplicate the odd one&quot;</td><td>&quot;To duplicate the odd one&quot;</td><td>10</td><td>&quot;expv0&quot;</td><td>null</td><td>&quot;training&quot;</td></tr><tr><td>&quot;195f0749824286cb4b24f431004a3b87&quot;</td><td>&quot;6773b310.json&quot;</td><td>&quot;195f0749824286cb4b24f431004a3b87_6773b310.jso…</td><td>4</td><td>1</td><td>false</td><td>&quot;|006|600|006|&quot;</td><td>&quot;I have no idea&quot;</td><td>&quot;Lines across that has only 1 colored square i…</td><td>8</td><td>&quot;expv0&quot;</td><td>null</td><td>&quot;training&quot;</td></tr><tr><td>&quot;195f0749824286cb4b24f431004a3b87&quot;</td><td>&quot;6773b310.json&quot;</td><td>&quot;195f0749824286cb4b24f431004a3b87_6773b310.jso…</td><td>4</td><td>2</td><td>false</td><td>&quot;|006|066|600|&quot;</td><td>&quot;I have no idea&quot;</td><td>&quot;Lines across that has only 1 colored square i…</td><td>15</td><td>&quot;expv0&quot;</td><td>null</td><td>&quot;training&quot;</td></tr><tr><td>&quot;195f0749824286cb4b24f431004a3b87&quot;</td><td>&quot;6773b310.json&quot;</td><td>&quot;195f0749824286cb4b24f431004a3b87_6773b310.jso…</td><td>4</td><td>3</td><td>false</td><td>&quot;|006|066|600|&quot;</td><td>&quot;I have no idea&quot;</td><td>&quot;Lines across that has only 1 colored square i…</td><td>16</td><td>&quot;expv0&quot;</td><td>null</td><td>&quot;training&quot;</td></tr></tbody></table></div>"
      ],
      "text/plain": [
       "shape: (5, 13)\n",
       "┌───────────┬───────────┬───────────┬───────────┬───┬───────────┬──────────┬───────────┬───────────┐\n",
       "│ hashed_id ┆ task_name ┆ joint_id_ ┆ task_numb ┆ … ┆ num_actio ┆ exp_name ┆ condition ┆ task_type │\n",
       "│ ---       ┆ ---       ┆ task      ┆ er        ┆   ┆ ns        ┆ ---      ┆ ---       ┆ ---       │\n",
       "│ str       ┆ str       ┆ ---       ┆ ---       ┆   ┆ ---       ┆ str      ┆ str       ┆ str       │\n",
       "│           ┆           ┆ str       ┆ i64       ┆   ┆ i64       ┆          ┆           ┆           │\n",
       "╞═══════════╪═══════════╪═══════════╪═══════════╪═══╪═══════════╪══════════╪═══════════╪═══════════╡\n",
       "│ 195f07498 ┆ b8cdaf2b. ┆ 195f07498 ┆ 1         ┆ … ┆ 20        ┆ expv0    ┆ null      ┆ training  │\n",
       "│ 24286cb4b ┆ json      ┆ 24286cb4b ┆           ┆   ┆           ┆          ┆           ┆           │\n",
       "│ 24f431004 ┆           ┆ 24f431004 ┆           ┆   ┆           ┆          ┆           ┆           │\n",
       "│ a3b87     ┆           ┆ a3b87_b8c ┆           ┆   ┆           ┆          ┆           ┆           │\n",
       "│           ┆           ┆ daf2b.jso ┆           ┆   ┆           ┆          ┆           ┆           │\n",
       "│           ┆           ┆ …         ┆           ┆   ┆           ┆          ┆           ┆           │\n",
       "│ 195f07498 ┆ a87f7484. ┆ 195f07498 ┆ 2         ┆ … ┆ 10        ┆ expv0    ┆ null      ┆ training  │\n",
       "│ 24286cb4b ┆ json      ┆ 24286cb4b ┆           ┆   ┆           ┆          ┆           ┆           │\n",
       "│ 24f431004 ┆           ┆ 24f431004 ┆           ┆   ┆           ┆          ┆           ┆           │\n",
       "│ a3b87     ┆           ┆ a3b87_a87 ┆           ┆   ┆           ┆          ┆           ┆           │\n",
       "│           ┆           ┆ f7484.jso ┆           ┆   ┆           ┆          ┆           ┆           │\n",
       "│           ┆           ┆ …         ┆           ┆   ┆           ┆          ┆           ┆           │\n",
       "│ 195f07498 ┆ 6773b310. ┆ 195f07498 ┆ 4         ┆ … ┆ 8         ┆ expv0    ┆ null      ┆ training  │\n",
       "│ 24286cb4b ┆ json      ┆ 24286cb4b ┆           ┆   ┆           ┆          ┆           ┆           │\n",
       "│ 24f431004 ┆           ┆ 24f431004 ┆           ┆   ┆           ┆          ┆           ┆           │\n",
       "│ a3b87     ┆           ┆ a3b87_677 ┆           ┆   ┆           ┆          ┆           ┆           │\n",
       "│           ┆           ┆ 3b310.jso ┆           ┆   ┆           ┆          ┆           ┆           │\n",
       "│           ┆           ┆ …         ┆           ┆   ┆           ┆          ┆           ┆           │\n",
       "│ 195f07498 ┆ 6773b310. ┆ 195f07498 ┆ 4         ┆ … ┆ 15        ┆ expv0    ┆ null      ┆ training  │\n",
       "│ 24286cb4b ┆ json      ┆ 24286cb4b ┆           ┆   ┆           ┆          ┆           ┆           │\n",
       "│ 24f431004 ┆           ┆ 24f431004 ┆           ┆   ┆           ┆          ┆           ┆           │\n",
       "│ a3b87     ┆           ┆ a3b87_677 ┆           ┆   ┆           ┆          ┆           ┆           │\n",
       "│           ┆           ┆ 3b310.jso ┆           ┆   ┆           ┆          ┆           ┆           │\n",
       "│           ┆           ┆ …         ┆           ┆   ┆           ┆          ┆           ┆           │\n",
       "│ 195f07498 ┆ 6773b310. ┆ 195f07498 ┆ 4         ┆ … ┆ 16        ┆ expv0    ┆ null      ┆ training  │\n",
       "│ 24286cb4b ┆ json      ┆ 24286cb4b ┆           ┆   ┆           ┆          ┆           ┆           │\n",
       "│ 24f431004 ┆           ┆ 24f431004 ┆           ┆   ┆           ┆          ┆           ┆           │\n",
       "│ a3b87     ┆           ┆ a3b87_677 ┆           ┆   ┆           ┆          ┆           ┆           │\n",
       "│           ┆           ┆ 3b310.jso ┆           ┆   ┆           ┆          ┆           ┆           │\n",
       "│           ┆           ┆ …         ┆           ┆   ┆           ┆          ┆           ┆           │\n",
       "└───────────┴───────────┴───────────┴───────────┴───┴───────────┴──────────┴───────────┴───────────┘"
      ]
     },
     "execution_count": 15,
     "metadata": {},
     "output_type": "execute_result"
    }
   ],
   "source": [
    "df_summary.head()"
   ]
  },
  {
   "cell_type": "code",
   "execution_count": 16,
   "metadata": {},
   "outputs": [],
   "source": [
    "reordered_columns_summary = [\n",
    "    # Experiment metadata\n",
    "    \"exp_name\",\n",
    "    \"task_type\",\n",
    "    # Identifiers and metadata\n",
    "    \"hashed_id\",\n",
    "    \"joint_id_task\",\n",
    "    # Task-related information\n",
    "    \"task_name\",\n",
    "    \"task_number\",\n",
    "    # Task performance\n",
    "    \"attempt_number\",\n",
    "    \"num_actions\",\n",
    "    \"solved\",\n",
    "    # Output data\n",
    "    \"test_output_grid\",\n",
    "    # User solutions\n",
    "    \"first_written_solution\",\n",
    "    \"last_written_solution\",\n",
    "]"
   ]
  },
  {
   "cell_type": "code",
   "execution_count": 17,
   "metadata": {},
   "outputs": [
    {
     "data": {
      "text/html": [
       "<div><style>\n",
       ".dataframe > thead > tr,\n",
       ".dataframe > tbody > tr {\n",
       "  text-align: right;\n",
       "  white-space: pre-wrap;\n",
       "}\n",
       "</style>\n",
       "<small>shape: (5, 13)</small><table border=\"1\" class=\"dataframe\"><thead><tr><th>exp_name</th><th>task_type</th><th>hashed_id</th><th>joint_id_task</th><th>task_name</th><th>task_number</th><th>attempt_number</th><th>num_actions</th><th>solved</th><th>test_output_grid</th><th>first_written_solution</th><th>last_written_solution</th><th>complete</th></tr><tr><td>str</td><td>str</td><td>str</td><td>str</td><td>str</td><td>i64</td><td>i64</td><td>i64</td><td>bool</td><td>str</td><td>str</td><td>str</td><td>bool</td></tr></thead><tbody><tr><td>&quot;expv0&quot;</td><td>&quot;training&quot;</td><td>&quot;195f0749824286cb4b24f431004a3b87&quot;</td><td>&quot;195f0749824286cb4b24f431004a3b87_b8cdaf2b.jso…</td><td>&quot;b8cdaf2b.json&quot;</td><td>1</td><td>1</td><td>20</td><td>true</td><td>&quot;|000000000|000000000|000000000|000000000|2000…</td><td>&quot;To add the opposite color diagonally&quot;</td><td>&quot;To add the opposite color diagonally&quot;</td><td>true</td></tr><tr><td>&quot;expv0&quot;</td><td>&quot;training&quot;</td><td>&quot;195f0749824286cb4b24f431004a3b87&quot;</td><td>&quot;195f0749824286cb4b24f431004a3b87_a87f7484.jso…</td><td>&quot;a87f7484.json&quot;</td><td>2</td><td>1</td><td>10</td><td>true</td><td>&quot;|606|660|606|&quot;</td><td>&quot;To duplicate the odd one&quot;</td><td>&quot;To duplicate the odd one&quot;</td><td>true</td></tr><tr><td>&quot;expv0&quot;</td><td>&quot;training&quot;</td><td>&quot;195f0749824286cb4b24f431004a3b87&quot;</td><td>&quot;195f0749824286cb4b24f431004a3b87_6773b310.jso…</td><td>&quot;6773b310.json&quot;</td><td>4</td><td>1</td><td>8</td><td>false</td><td>&quot;|006|600|006|&quot;</td><td>&quot;I have no idea&quot;</td><td>&quot;Lines across that has only 1 colored square i…</td><td>true</td></tr><tr><td>&quot;expv0&quot;</td><td>&quot;training&quot;</td><td>&quot;195f0749824286cb4b24f431004a3b87&quot;</td><td>&quot;195f0749824286cb4b24f431004a3b87_6773b310.jso…</td><td>&quot;6773b310.json&quot;</td><td>4</td><td>2</td><td>15</td><td>false</td><td>&quot;|006|066|600|&quot;</td><td>&quot;I have no idea&quot;</td><td>&quot;Lines across that has only 1 colored square i…</td><td>true</td></tr><tr><td>&quot;expv0&quot;</td><td>&quot;training&quot;</td><td>&quot;195f0749824286cb4b24f431004a3b87&quot;</td><td>&quot;195f0749824286cb4b24f431004a3b87_6773b310.jso…</td><td>&quot;6773b310.json&quot;</td><td>4</td><td>3</td><td>16</td><td>false</td><td>&quot;|006|066|600|&quot;</td><td>&quot;I have no idea&quot;</td><td>&quot;Lines across that has only 1 colored square i…</td><td>true</td></tr></tbody></table></div>"
      ],
      "text/plain": [
       "shape: (5, 13)\n",
       "┌──────────┬───────────┬────────────┬───────────┬───┬───────────┬───────────┬───────────┬──────────┐\n",
       "│ exp_name ┆ task_type ┆ hashed_id  ┆ joint_id_ ┆ … ┆ test_outp ┆ first_wri ┆ last_writ ┆ complete │\n",
       "│ ---      ┆ ---       ┆ ---        ┆ task      ┆   ┆ ut_grid   ┆ tten_solu ┆ ten_solut ┆ ---      │\n",
       "│ str      ┆ str       ┆ str        ┆ ---       ┆   ┆ ---       ┆ tion      ┆ ion       ┆ bool     │\n",
       "│          ┆           ┆            ┆ str       ┆   ┆ str       ┆ ---       ┆ ---       ┆          │\n",
       "│          ┆           ┆            ┆           ┆   ┆           ┆ str       ┆ str       ┆          │\n",
       "╞══════════╪═══════════╪════════════╪═══════════╪═══╪═══════════╪═══════════╪═══════════╪══════════╡\n",
       "│ expv0    ┆ training  ┆ 195f074982 ┆ 195f07498 ┆ … ┆ |00000000 ┆ To add    ┆ To add    ┆ true     │\n",
       "│          ┆           ┆ 4286cb4b24 ┆ 24286cb4b ┆   ┆ 0|0000000 ┆ the       ┆ the       ┆          │\n",
       "│          ┆           ┆ f431004a3b ┆ 24f431004 ┆   ┆ 00|000000 ┆ opposite  ┆ opposite  ┆          │\n",
       "│          ┆           ┆ 87         ┆ a3b87_b8c ┆   ┆ 000|00000 ┆ color dia ┆ color dia ┆          │\n",
       "│          ┆           ┆            ┆ daf2b.jso ┆   ┆ 0000|2000 ┆ gonally   ┆ gonally   ┆          │\n",
       "│          ┆           ┆            ┆ …         ┆   ┆ …         ┆           ┆           ┆          │\n",
       "│ expv0    ┆ training  ┆ 195f074982 ┆ 195f07498 ┆ … ┆ |606|660| ┆ To        ┆ To        ┆ true     │\n",
       "│          ┆           ┆ 4286cb4b24 ┆ 24286cb4b ┆   ┆ 606|      ┆ duplicate ┆ duplicate ┆          │\n",
       "│          ┆           ┆ f431004a3b ┆ 24f431004 ┆   ┆           ┆ the odd   ┆ the odd   ┆          │\n",
       "│          ┆           ┆ 87         ┆ a3b87_a87 ┆   ┆           ┆ one       ┆ one       ┆          │\n",
       "│          ┆           ┆            ┆ f7484.jso ┆   ┆           ┆           ┆           ┆          │\n",
       "│          ┆           ┆            ┆ …         ┆   ┆           ┆           ┆           ┆          │\n",
       "│ expv0    ┆ training  ┆ 195f074982 ┆ 195f07498 ┆ … ┆ |006|600| ┆ I have no ┆ Lines     ┆ true     │\n",
       "│          ┆           ┆ 4286cb4b24 ┆ 24286cb4b ┆   ┆ 006|      ┆ idea      ┆ across    ┆          │\n",
       "│          ┆           ┆ f431004a3b ┆ 24f431004 ┆   ┆           ┆           ┆ that has  ┆          │\n",
       "│          ┆           ┆ 87         ┆ a3b87_677 ┆   ┆           ┆           ┆ only 1    ┆          │\n",
       "│          ┆           ┆            ┆ 3b310.jso ┆   ┆           ┆           ┆ colored   ┆          │\n",
       "│          ┆           ┆            ┆ …         ┆   ┆           ┆           ┆ square i… ┆          │\n",
       "│ expv0    ┆ training  ┆ 195f074982 ┆ 195f07498 ┆ … ┆ |006|066| ┆ I have no ┆ Lines     ┆ true     │\n",
       "│          ┆           ┆ 4286cb4b24 ┆ 24286cb4b ┆   ┆ 600|      ┆ idea      ┆ across    ┆          │\n",
       "│          ┆           ┆ f431004a3b ┆ 24f431004 ┆   ┆           ┆           ┆ that has  ┆          │\n",
       "│          ┆           ┆ 87         ┆ a3b87_677 ┆   ┆           ┆           ┆ only 1    ┆          │\n",
       "│          ┆           ┆            ┆ 3b310.jso ┆   ┆           ┆           ┆ colored   ┆          │\n",
       "│          ┆           ┆            ┆ …         ┆   ┆           ┆           ┆ square i… ┆          │\n",
       "│ expv0    ┆ training  ┆ 195f074982 ┆ 195f07498 ┆ … ┆ |006|066| ┆ I have no ┆ Lines     ┆ true     │\n",
       "│          ┆           ┆ 4286cb4b24 ┆ 24286cb4b ┆   ┆ 600|      ┆ idea      ┆ across    ┆          │\n",
       "│          ┆           ┆ f431004a3b ┆ 24f431004 ┆   ┆           ┆           ┆ that has  ┆          │\n",
       "│          ┆           ┆ 87         ┆ a3b87_677 ┆   ┆           ┆           ┆ only 1    ┆          │\n",
       "│          ┆           ┆            ┆ 3b310.jso ┆   ┆           ┆           ┆ colored   ┆          │\n",
       "│          ┆           ┆            ┆ …         ┆   ┆           ┆           ┆ square i… ┆          │\n",
       "└──────────┴───────────┴────────────┴───────────┴───┴───────────┴───────────┴───────────┴──────────┘"
      ]
     },
     "execution_count": 17,
     "metadata": {},
     "output_type": "execute_result"
    }
   ],
   "source": [
    "df_summary = df_summary.select(reordered_columns_summary)\n",
    "df_summary = df_summary.with_columns(pl.lit(True).alias(\"complete\"))\n",
    "df_summary.head()"
   ]
  },
  {
   "cell_type": "code",
   "execution_count": 18,
   "metadata": {},
   "outputs": [],
   "source": [
    "df_summary.write_csv(\"../../data/clean_summary_data.csv\")"
   ]
  },
  {
   "cell_type": "markdown",
   "metadata": {},
   "source": [
    "Clean feedback\n"
   ]
  },
  {
   "cell_type": "code",
   "execution_count": 19,
   "metadata": {},
   "outputs": [],
   "source": [
    "reordered_columns_feedback = [\n",
    "    # Experiment metadata\n",
    "    \"exp_name\",\n",
    "    \"task_type\",\n",
    "    # Identifiers and metadata\n",
    "    \"hashed_id\",\n",
    "    # feeedback\n",
    "    \"feedback\",\n",
    "]"
   ]
  },
  {
   "cell_type": "code",
   "execution_count": 20,
   "metadata": {},
   "outputs": [
    {
     "data": {
      "text/html": [
       "<div><style>\n",
       ".dataframe > thead > tr,\n",
       ".dataframe > tbody > tr {\n",
       "  text-align: right;\n",
       "  white-space: pre-wrap;\n",
       "}\n",
       "</style>\n",
       "<small>shape: (5, 4)</small><table border=\"1\" class=\"dataframe\"><thead><tr><th>exp_name</th><th>task_type</th><th>hashed_id</th><th>feedback</th></tr><tr><td>str</td><td>str</td><td>str</td><td>str</td></tr></thead><tbody><tr><td>&quot;expv0&quot;</td><td>&quot;training&quot;</td><td>&quot;195f0749824286cb4b24f431004a3b87&quot;</td><td>&quot;Interesting. I can&#x27;t really explain my strate…</td></tr><tr><td>&quot;expv0&quot;</td><td>&quot;training&quot;</td><td>&quot;bf66a164234034d4709666dc364c8d55&quot;</td><td>&quot;this was fun - thanks! &quot;</td></tr><tr><td>&quot;expv0&quot;</td><td>&quot;training&quot;</td><td>&quot;2b06355cea411af7a6fa212c90eb3c6d&quot;</td><td>&quot;Thank you.&quot;</td></tr><tr><td>&quot;expv0&quot;</td><td>&quot;training&quot;</td><td>&quot;19f69ac203258689f6823e2c49cea6b7&quot;</td><td>&quot;Very interesting.&quot;</td></tr><tr><td>&quot;expv0&quot;</td><td>&quot;training&quot;</td><td>&quot;37289334396727fffe878187ca738a35&quot;</td><td>&quot;The first 5 were jacked up. The controls didn…</td></tr></tbody></table></div>"
      ],
      "text/plain": [
       "shape: (5, 4)\n",
       "┌──────────┬───────────┬──────────────────────────────────┬────────────────────────────────────────┐\n",
       "│ exp_name ┆ task_type ┆ hashed_id                        ┆ feedback                               │\n",
       "│ ---      ┆ ---       ┆ ---                              ┆ ---                                    │\n",
       "│ str      ┆ str       ┆ str                              ┆ str                                    │\n",
       "╞══════════╪═══════════╪══════════════════════════════════╪════════════════════════════════════════╡\n",
       "│ expv0    ┆ training  ┆ 195f0749824286cb4b24f431004a3b87 ┆ Interesting. I can't really explain my │\n",
       "│          ┆           ┆                                  ┆ strate…                                │\n",
       "│ expv0    ┆ training  ┆ bf66a164234034d4709666dc364c8d55 ┆ this was fun - thanks!                 │\n",
       "│ expv0    ┆ training  ┆ 2b06355cea411af7a6fa212c90eb3c6d ┆ Thank you.                             │\n",
       "│ expv0    ┆ training  ┆ 19f69ac203258689f6823e2c49cea6b7 ┆ Very interesting.                      │\n",
       "│ expv0    ┆ training  ┆ 37289334396727fffe878187ca738a35 ┆ The first 5 were jacked up. The        │\n",
       "│          ┆           ┆                                  ┆ controls didn…                         │\n",
       "└──────────┴───────────┴──────────────────────────────────┴────────────────────────────────────────┘"
      ]
     },
     "execution_count": 20,
     "metadata": {},
     "output_type": "execute_result"
    }
   ],
   "source": [
    "df_feedback = df_feedback.select(reordered_columns_feedback)\n",
    "df_feedback.head()"
   ]
  },
  {
   "cell_type": "code",
   "execution_count": 21,
   "metadata": {},
   "outputs": [],
   "source": [
    "df_feedback.write_csv(\"../../data/clean_feedback_data.csv\")"
   ]
  },
  {
   "cell_type": "markdown",
   "metadata": {},
   "source": [
    "make df_summary_incomplete\n"
   ]
  },
  {
   "cell_type": "code",
   "execution_count": 22,
   "metadata": {},
   "outputs": [
    {
     "data": {
      "text/html": [
       "<div><style>\n",
       ".dataframe > thead > tr,\n",
       ".dataframe > tbody > tr {\n",
       "  text-align: right;\n",
       "  white-space: pre-wrap;\n",
       "}\n",
       "</style>\n",
       "<small>shape: (5, 13)</small><table border=\"1\" class=\"dataframe\"><thead><tr><th>exp_name</th><th>task_type</th><th>hashed_id</th><th>joint_id_task</th><th>task_name</th><th>task_number</th><th>attempt_number</th><th>num_actions</th><th>solved</th><th>test_output_grid</th><th>first_written_solution</th><th>last_written_solution</th><th>complete</th></tr><tr><td>str</td><td>str</td><td>str</td><td>str</td><td>str</td><td>i64</td><td>i64</td><td>i64</td><td>bool</td><td>str</td><td>str</td><td>str</td><td>bool</td></tr></thead><tbody><tr><td>&quot;expv1&quot;</td><td>&quot;training&quot;</td><td>&quot;1468bc4d0ad517332fe1e682f039e9c7&quot;</td><td>&quot;1468bc4d0ad517332fe1e682f039e9c7_4093f84a.jso…</td><td>&quot;4093f84a.json&quot;</td><td>1</td><td>1</td><td>99</td><td>true</td><td>&quot;|00000550000000|00005555000000|00000550000000…</td><td>&quot;I put the gray rows going down in the 6th and…</td><td>&quot;I put the gray rows going down in the 6th and…</td><td>false</td></tr><tr><td>&quot;expv1&quot;</td><td>&quot;training&quot;</td><td>&quot;92c7f74d6cf7b775003571db2840a855&quot;</td><td>&quot;92c7f74d6cf7b775003571db2840a855_1bfc4729.jso…</td><td>&quot;1bfc4729.json&quot;</td><td>1</td><td>1</td><td>82</td><td>true</td><td>&quot;|2222222222|2000000002|2222222222|2000000002|…</td><td>&quot;On the same size grid as the test input grid …</td><td>&quot;On the same size grid as the test input grid …</td><td>false</td></tr><tr><td>&quot;expv1&quot;</td><td>&quot;training&quot;</td><td>&quot;92c7f74d6cf7b775003571db2840a855&quot;</td><td>&quot;92c7f74d6cf7b775003571db2840a855_48d8fb45.jso…</td><td>&quot;48d8fb45.json&quot;</td><td>2</td><td>1</td><td>10</td><td>true</td><td>&quot;|030|330|033|&quot;</td><td>&quot;Make a copy of the the shape that has a grey …</td><td>&quot;Make a copy of the the shape that has a grey …</td><td>false</td></tr><tr><td>&quot;expv1&quot;</td><td>&quot;training&quot;</td><td>&quot;4be4044cfed6f294a7f25d61c8736329&quot;</td><td>&quot;4be4044cfed6f294a7f25d61c8736329_6aa20dc0.jso…</td><td>&quot;6aa20dc0.json&quot;</td><td>1</td><td>1</td><td>9</td><td>false</td><td>&quot;|3333333333333333333333|333333333344433333333…</td><td>&quot;I can&#x27;t do it because the grid is 22x22 and I…</td><td>&quot;On the test input there is a complete small i…</td><td>false</td></tr><tr><td>&quot;expv1&quot;</td><td>&quot;training&quot;</td><td>&quot;4be4044cfed6f294a7f25d61c8736329&quot;</td><td>&quot;4be4044cfed6f294a7f25d61c8736329_6aa20dc0.jso…</td><td>&quot;6aa20dc0.json&quot;</td><td>1</td><td>2</td><td>157</td><td>false</td><td>&quot;|3333333333333333333333|333333333344488888833…</td><td>&quot;I can&#x27;t do it because the grid is 22x22 and I…</td><td>&quot;On the test input there is a complete small i…</td><td>false</td></tr></tbody></table></div>"
      ],
      "text/plain": [
       "shape: (5, 13)\n",
       "┌──────────┬───────────┬────────────┬───────────┬───┬───────────┬───────────┬───────────┬──────────┐\n",
       "│ exp_name ┆ task_type ┆ hashed_id  ┆ joint_id_ ┆ … ┆ test_outp ┆ first_wri ┆ last_writ ┆ complete │\n",
       "│ ---      ┆ ---       ┆ ---        ┆ task      ┆   ┆ ut_grid   ┆ tten_solu ┆ ten_solut ┆ ---      │\n",
       "│ str      ┆ str       ┆ str        ┆ ---       ┆   ┆ ---       ┆ tion      ┆ ion       ┆ bool     │\n",
       "│          ┆           ┆            ┆ str       ┆   ┆ str       ┆ ---       ┆ ---       ┆          │\n",
       "│          ┆           ┆            ┆           ┆   ┆           ┆ str       ┆ str       ┆          │\n",
       "╞══════════╪═══════════╪════════════╪═══════════╪═══╪═══════════╪═══════════╪═══════════╪══════════╡\n",
       "│ expv1    ┆ training  ┆ 1468bc4d0a ┆ 1468bc4d0 ┆ … ┆ |00000550 ┆ I put the ┆ I put the ┆ false    │\n",
       "│          ┆           ┆ d517332fe1 ┆ ad517332f ┆   ┆ 000000|00 ┆ gray rows ┆ gray rows ┆          │\n",
       "│          ┆           ┆ e682f039e9 ┆ e1e682f03 ┆   ┆ 005555000 ┆ going     ┆ going     ┆          │\n",
       "│          ┆           ┆ c7         ┆ 9e9c7_409 ┆   ┆ 000|00000 ┆ down in   ┆ down in   ┆          │\n",
       "│          ┆           ┆            ┆ 3f84a.jso ┆   ┆ 550000000 ┆ the 6th   ┆ the 6th   ┆          │\n",
       "│          ┆           ┆            ┆ …         ┆   ┆ …         ┆ and…      ┆ and…      ┆          │\n",
       "│ expv1    ┆ training  ┆ 92c7f74d6c ┆ 92c7f74d6 ┆ … ┆ |22222222 ┆ On the    ┆ On the    ┆ false    │\n",
       "│          ┆           ┆ f7b7750035 ┆ cf7b77500 ┆   ┆ 22|200000 ┆ same size ┆ same size ┆          │\n",
       "│          ┆           ┆ 71db2840a8 ┆ 3571db284 ┆   ┆ 0002|2222 ┆ grid as   ┆ grid as   ┆          │\n",
       "│          ┆           ┆ 55         ┆ 0a855_1bf ┆   ┆ 222222|20 ┆ the test  ┆ the test  ┆          │\n",
       "│          ┆           ┆            ┆ c4729.jso ┆   ┆ 00000002| ┆ input     ┆ input     ┆          │\n",
       "│          ┆           ┆            ┆ …         ┆   ┆ …         ┆ grid …    ┆ grid …    ┆          │\n",
       "│ expv1    ┆ training  ┆ 92c7f74d6c ┆ 92c7f74d6 ┆ … ┆ |030|330| ┆ Make a    ┆ Make a    ┆ false    │\n",
       "│          ┆           ┆ f7b7750035 ┆ cf7b77500 ┆   ┆ 033|      ┆ copy of   ┆ copy of   ┆          │\n",
       "│          ┆           ┆ 71db2840a8 ┆ 3571db284 ┆   ┆           ┆ the the   ┆ the the   ┆          │\n",
       "│          ┆           ┆ 55         ┆ 0a855_48d ┆   ┆           ┆ shape     ┆ shape     ┆          │\n",
       "│          ┆           ┆            ┆ 8fb45.jso ┆   ┆           ┆ that has  ┆ that has  ┆          │\n",
       "│          ┆           ┆            ┆ …         ┆   ┆           ┆ a grey …  ┆ a grey …  ┆          │\n",
       "│ expv1    ┆ training  ┆ 4be4044cfe ┆ 4be4044cf ┆ … ┆ |33333333 ┆ I can't   ┆ On the    ┆ false    │\n",
       "│          ┆           ┆ d6f294a7f2 ┆ ed6f294a7 ┆   ┆ 333333333 ┆ do it     ┆ test      ┆          │\n",
       "│          ┆           ┆ 5d61c87363 ┆ f25d61c87 ┆   ┆ 33333|333 ┆ because   ┆ input     ┆          │\n",
       "│          ┆           ┆ 29         ┆ 36329_6aa ┆   ┆ 333333344 ┆ the grid  ┆ there is  ┆          │\n",
       "│          ┆           ┆            ┆ 20dc0.jso ┆   ┆ 433333333 ┆ is 22x22  ┆ a         ┆          │\n",
       "│          ┆           ┆            ┆ …         ┆   ┆ …         ┆ and I…    ┆ complete  ┆          │\n",
       "│          ┆           ┆            ┆           ┆   ┆           ┆           ┆ small i…  ┆          │\n",
       "│ expv1    ┆ training  ┆ 4be4044cfe ┆ 4be4044cf ┆ … ┆ |33333333 ┆ I can't   ┆ On the    ┆ false    │\n",
       "│          ┆           ┆ d6f294a7f2 ┆ ed6f294a7 ┆   ┆ 333333333 ┆ do it     ┆ test      ┆          │\n",
       "│          ┆           ┆ 5d61c87363 ┆ f25d61c87 ┆   ┆ 33333|333 ┆ because   ┆ input     ┆          │\n",
       "│          ┆           ┆ 29         ┆ 36329_6aa ┆   ┆ 333333344 ┆ the grid  ┆ there is  ┆          │\n",
       "│          ┆           ┆            ┆ 20dc0.jso ┆   ┆ 488888833 ┆ is 22x22  ┆ a         ┆          │\n",
       "│          ┆           ┆            ┆ …         ┆   ┆ …         ┆ and I…    ┆ complete  ┆          │\n",
       "│          ┆           ┆            ┆           ┆   ┆           ┆           ┆ small i…  ┆          │\n",
       "└──────────┴───────────┴────────────┴───────────┴───┴───────────┴───────────┴───────────┴──────────┘"
      ]
     },
     "execution_count": 22,
     "metadata": {},
     "output_type": "execute_result"
    }
   ],
   "source": [
    "df_summary_incomplete = get_summary(df_incomplete)\n",
    "df_summary_incomplete = df_summary_incomplete.select(reordered_columns_summary)\n",
    "df_summary_incomplete = df_summary_incomplete.with_columns(\n",
    "    pl.lit(False).alias(\"complete\")\n",
    ")\n",
    "df_summary_incomplete.head()"
   ]
  },
  {
   "cell_type": "code",
   "execution_count": 23,
   "metadata": {},
   "outputs": [],
   "source": [
    "df_summary_incomplete.write_csv(\"../../data/clean_summary_data_incomplete.csv\")"
   ]
  },
  {
   "cell_type": "markdown",
   "metadata": {},
   "source": [
    "Make df demographics\n"
   ]
  },
  {
   "cell_type": "code",
   "execution_count": 24,
   "metadata": {},
   "outputs": [
    {
     "data": {
      "text/html": [
       "<div><style>\n",
       ".dataframe > thead > tr,\n",
       ".dataframe > tbody > tr {\n",
       "  text-align: right;\n",
       "  white-space: pre-wrap;\n",
       "}\n",
       "</style>\n",
       "<small>shape: (5, 12)</small><table border=\"1\" class=\"dataframe\"><thead><tr><th>exp_name</th><th>task_type</th><th>hashed_id</th><th>age</th><th>gender</th><th>race</th><th>education_level</th><th>household_income</th><th>normal_vision</th><th>color_blind</th><th>fluent_english</th><th>complete</th></tr><tr><td>str</td><td>str</td><td>str</td><td>f32</td><td>str</td><td>str</td><td>str</td><td>str</td><td>str</td><td>str</td><td>str</td><td>bool</td></tr></thead><tbody><tr><td>&quot;expv4&quot;</td><td>&quot;training&quot;</td><td>&quot;481ce76744c8f53d50e08cb4370d38da&quot;</td><td>27.0</td><td>&quot;Woman&quot;</td><td>&quot;Black/African American&quot;</td><td>&quot;Undergraduate Degree (BA/BS/Other)&quot;</td><td>&quot;Prefer not to specify&quot;</td><td>&quot;Yes&quot;</td><td>&quot;No&quot;</td><td>&quot;Yes&quot;</td><td>true</td></tr><tr><td>&quot;expv2&quot;</td><td>&quot;training&quot;</td><td>&quot;64dc330327b5ee130bf34b5e32c36d3f&quot;</td><td>27.0</td><td>&quot;Man&quot;</td><td>&quot;Black/African American&quot;</td><td>&quot;Undergraduate Degree (BA/BS/Other)&quot;</td><td>&quot;$60,000–$79,999&quot;</td><td>&quot;Yes&quot;</td><td>&quot;No&quot;</td><td>&quot;Yes&quot;</td><td>true</td></tr><tr><td>&quot;expv6_3&quot;</td><td>&quot;evaluation&quot;</td><td>&quot;de83e970874255a0c9bef2b767dbb753&quot;</td><td>32.0</td><td>&quot;Woman&quot;</td><td>&quot;White&quot;</td><td>&quot;Undergraduate Degree (BA/BS/Other)&quot;</td><td>&quot;$80,000–$99,999&quot;</td><td>&quot;Yes&quot;</td><td>&quot;No&quot;</td><td>&quot;Yes&quot;</td><td>true</td></tr><tr><td>&quot;expv4&quot;</td><td>&quot;training&quot;</td><td>&quot;1123c2a5c52bff42c22de6fc5715b9ae&quot;</td><td>26.0</td><td>&quot;Woman&quot;</td><td>&quot;White&quot;</td><td>&quot;Undergraduate Degree (BA/BS/Other)&quot;</td><td>&quot;$40,000–$59,999&quot;</td><td>&quot;Yes&quot;</td><td>&quot;No&quot;</td><td>&quot;Yes&quot;</td><td>true</td></tr><tr><td>&quot;expv6_1&quot;</td><td>&quot;evaluation&quot;</td><td>&quot;f8bd63c74cf0dc6f371ab972c0e425a4&quot;</td><td>54.0</td><td>&quot;Woman&quot;</td><td>&quot;White&quot;</td><td>&quot;High School Diploma (A-levels)&quot;</td><td>&quot;Less than $20,000&quot;</td><td>&quot;Yes&quot;</td><td>&quot;No&quot;</td><td>&quot;Yes&quot;</td><td>true</td></tr></tbody></table></div>"
      ],
      "text/plain": [
       "shape: (5, 12)\n",
       "┌──────────┬────────────┬─────────────┬──────┬───┬────────────┬────────────┬────────────┬──────────┐\n",
       "│ exp_name ┆ task_type  ┆ hashed_id   ┆ age  ┆ … ┆ normal_vis ┆ color_blin ┆ fluent_eng ┆ complete │\n",
       "│ ---      ┆ ---        ┆ ---         ┆ ---  ┆   ┆ ion        ┆ d          ┆ lish       ┆ ---      │\n",
       "│ str      ┆ str        ┆ str         ┆ f32  ┆   ┆ ---        ┆ ---        ┆ ---        ┆ bool     │\n",
       "│          ┆            ┆             ┆      ┆   ┆ str        ┆ str        ┆ str        ┆          │\n",
       "╞══════════╪════════════╪═════════════╪══════╪═══╪════════════╪════════════╪════════════╪══════════╡\n",
       "│ expv4    ┆ training   ┆ 481ce76744c ┆ 27.0 ┆ … ┆ Yes        ┆ No         ┆ Yes        ┆ true     │\n",
       "│          ┆            ┆ 8f53d50e08c ┆      ┆   ┆            ┆            ┆            ┆          │\n",
       "│          ┆            ┆ b4370d38da  ┆      ┆   ┆            ┆            ┆            ┆          │\n",
       "│ expv2    ┆ training   ┆ 64dc330327b ┆ 27.0 ┆ … ┆ Yes        ┆ No         ┆ Yes        ┆ true     │\n",
       "│          ┆            ┆ 5ee130bf34b ┆      ┆   ┆            ┆            ┆            ┆          │\n",
       "│          ┆            ┆ 5e32c36d3f  ┆      ┆   ┆            ┆            ┆            ┆          │\n",
       "│ expv6_3  ┆ evaluation ┆ de83e970874 ┆ 32.0 ┆ … ┆ Yes        ┆ No         ┆ Yes        ┆ true     │\n",
       "│          ┆            ┆ 255a0c9bef2 ┆      ┆   ┆            ┆            ┆            ┆          │\n",
       "│          ┆            ┆ b767dbb753  ┆      ┆   ┆            ┆            ┆            ┆          │\n",
       "│ expv4    ┆ training   ┆ 1123c2a5c52 ┆ 26.0 ┆ … ┆ Yes        ┆ No         ┆ Yes        ┆ true     │\n",
       "│          ┆            ┆ bff42c22de6 ┆      ┆   ┆            ┆            ┆            ┆          │\n",
       "│          ┆            ┆ fc5715b9ae  ┆      ┆   ┆            ┆            ┆            ┆          │\n",
       "│ expv6_1  ┆ evaluation ┆ f8bd63c74cf ┆ 54.0 ┆ … ┆ Yes        ┆ No         ┆ Yes        ┆ true     │\n",
       "│          ┆            ┆ 0dc6f371ab9 ┆      ┆   ┆            ┆            ┆            ┆          │\n",
       "│          ┆            ┆ 72c0e425a4  ┆      ┆   ┆            ┆            ┆            ┆          │\n",
       "└──────────┴────────────┴─────────────┴──────┴───┴────────────┴────────────┴────────────┴──────────┘"
      ]
     },
     "execution_count": 24,
     "metadata": {},
     "output_type": "execute_result"
    }
   ],
   "source": [
    "df_demographics_complete = (\n",
    "    df_all.select(\n",
    "        \"exp_name\",\n",
    "        \"task_type\",\n",
    "        \"hashed_id\",\n",
    "        \"age\",\n",
    "        \"gender\",\n",
    "        \"race\",\n",
    "        \"education_level\",\n",
    "        \"household_income\",\n",
    "        \"normal_vision\",\n",
    "        \"color_blind\",\n",
    "        \"fluent_english\",\n",
    "    )\n",
    "    .with_columns(pl.lit(True).alias(\"complete\"))\n",
    "    .unique(\"hashed_id\")\n",
    ")\n",
    "df_demographics_incomplete = (\n",
    "    df_incomplete.select(\n",
    "        \"exp_name\",\n",
    "        \"task_type\",\n",
    "        \"hashed_id\",\n",
    "        \"age\",\n",
    "        \"gender\",\n",
    "        \"race\",\n",
    "        \"education_level\",\n",
    "        \"household_income\",\n",
    "        \"normal_vision\",\n",
    "        \"color_blind\",\n",
    "        \"fluent_english\",\n",
    "    )\n",
    "    .with_columns(pl.lit(False).alias(\"complete\"))\n",
    "    .unique(\"hashed_id\")\n",
    ")\n",
    "df_demographics = pl.concat([df_demographics_complete, df_demographics_incomplete])\n",
    "df_demographics.head()"
   ]
  },
  {
   "cell_type": "code",
   "execution_count": 25,
   "metadata": {},
   "outputs": [],
   "source": [
    "df_demographics.write_csv(\"../../data/clean_demographics_data.csv\")"
   ]
  },
  {
   "cell_type": "markdown",
   "metadata": {},
   "source": [
    "make df_withdraw\n"
   ]
  },
  {
   "cell_type": "code",
   "execution_count": 26,
   "metadata": {},
   "outputs": [],
   "source": [
    "reordered_columns_withdraw = [\n",
    "    # Experiment metadata\n",
    "    \"exp_name\",\n",
    "    \"task_type\",\n",
    "    # Identifiers and metadata\n",
    "    \"hashed_id\",\n",
    "    \"withdraw\",\n",
    "    \"withdraw_reason\",\n",
    "    \"withdraw_comment\",\n",
    "]"
   ]
  },
  {
   "cell_type": "code",
   "execution_count": 27,
   "metadata": {},
   "outputs": [
    {
     "data": {
      "text/html": [
       "<div><style>\n",
       ".dataframe > thead > tr,\n",
       ".dataframe > tbody > tr {\n",
       "  text-align: right;\n",
       "  white-space: pre-wrap;\n",
       "}\n",
       "</style>\n",
       "<small>shape: (5, 7)</small><table border=\"1\" class=\"dataframe\"><thead><tr><th>exp_name</th><th>task_type</th><th>hashed_id</th><th>withdraw</th><th>withdraw_reason</th><th>withdraw_comment</th><th>complete</th></tr><tr><td>str</td><td>str</td><td>str</td><td>bool</td><td>str</td><td>str</td><td>bool</td></tr></thead><tbody><tr><td>&quot;expv4&quot;</td><td>&quot;training&quot;</td><td>&quot;ef31fe508f1ed204a67a1cf0856c1954&quot;</td><td>false</td><td>null</td><td>null</td><td>true</td></tr><tr><td>&quot;expv6_2&quot;</td><td>&quot;evaluation&quot;</td><td>&quot;ca48922121ec9d3b3882d92da45dd1f1&quot;</td><td>true</td><td>&quot;I do not understand what I am supposed to do.&quot;</td><td>&quot;This is not clear.  What are the additional e…</td><td>false</td></tr><tr><td>&quot;expv6_4&quot;</td><td>&quot;evaluation&quot;</td><td>&quot;6968ac1f90e3a9420cf04e1068570777&quot;</td><td>false</td><td>null</td><td>null</td><td>false</td></tr><tr><td>&quot;expv6_1&quot;</td><td>&quot;evaluation&quot;</td><td>&quot;f7d75bfe95153df73f32082ebd500aba&quot;</td><td>false</td><td>null</td><td>null</td><td>false</td></tr><tr><td>&quot;expv6_1&quot;</td><td>&quot;evaluation&quot;</td><td>&quot;2184ab698209e9f20e99a8a7fbaec9df&quot;</td><td>false</td><td>null</td><td>null</td><td>true</td></tr></tbody></table></div>"
      ],
      "text/plain": [
       "shape: (5, 7)\n",
       "┌──────────┬────────────┬─────────────────┬──────────┬─────────────────┬────────────────┬──────────┐\n",
       "│ exp_name ┆ task_type  ┆ hashed_id       ┆ withdraw ┆ withdraw_reason ┆ withdraw_comme ┆ complete │\n",
       "│ ---      ┆ ---        ┆ ---             ┆ ---      ┆ ---             ┆ nt             ┆ ---      │\n",
       "│ str      ┆ str        ┆ str             ┆ bool     ┆ str             ┆ ---            ┆ bool     │\n",
       "│          ┆            ┆                 ┆          ┆                 ┆ str            ┆          │\n",
       "╞══════════╪════════════╪═════════════════╪══════════╪═════════════════╪════════════════╪══════════╡\n",
       "│ expv4    ┆ training   ┆ ef31fe508f1ed20 ┆ false    ┆ null            ┆ null           ┆ true     │\n",
       "│          ┆            ┆ 4a67a1cf0856c19 ┆          ┆                 ┆                ┆          │\n",
       "│          ┆            ┆ 54              ┆          ┆                 ┆                ┆          │\n",
       "│ expv6_2  ┆ evaluation ┆ ca48922121ec9d3 ┆ true     ┆ I do not        ┆ This is not    ┆ false    │\n",
       "│          ┆            ┆ b3882d92da45dd1 ┆          ┆ understand what ┆ clear.  What   ┆          │\n",
       "│          ┆            ┆ f1              ┆          ┆ I am supposed   ┆ are the        ┆          │\n",
       "│          ┆            ┆                 ┆          ┆ to do.          ┆ additional e…  ┆          │\n",
       "│ expv6_4  ┆ evaluation ┆ 6968ac1f90e3a94 ┆ false    ┆ null            ┆ null           ┆ false    │\n",
       "│          ┆            ┆ 20cf04e10685707 ┆          ┆                 ┆                ┆          │\n",
       "│          ┆            ┆ 77              ┆          ┆                 ┆                ┆          │\n",
       "│ expv6_1  ┆ evaluation ┆ f7d75bfe95153df ┆ false    ┆ null            ┆ null           ┆ false    │\n",
       "│          ┆            ┆ 73f32082ebd500a ┆          ┆                 ┆                ┆          │\n",
       "│          ┆            ┆ ba              ┆          ┆                 ┆                ┆          │\n",
       "│ expv6_1  ┆ evaluation ┆ 2184ab698209e9f ┆ false    ┆ null            ┆ null           ┆ true     │\n",
       "│          ┆            ┆ 20e99a8a7fbaec9 ┆          ┆                 ┆                ┆          │\n",
       "│          ┆            ┆ df              ┆          ┆                 ┆                ┆          │\n",
       "└──────────┴────────────┴─────────────────┴──────────┴─────────────────┴────────────────┴──────────┘"
      ]
     },
     "execution_count": 27,
     "metadata": {},
     "output_type": "execute_result"
    }
   ],
   "source": [
    "df_withdraw_incomplete = df_incomplete.select(reordered_columns_withdraw).with_columns(\n",
    "    pl.lit(False).alias(\"complete\")\n",
    ")\n",
    "df_withdraw_complete = df_all.select(reordered_columns_withdraw).with_columns(\n",
    "    pl.lit(True).alias(\"complete\")\n",
    ")\n",
    "df_withdraw = pl.concat([df_withdraw_incomplete, df_withdraw_complete])\n",
    "df_withdraw = df_withdraw.unique(\"hashed_id\")\n",
    "df_withdraw.head()"
   ]
  },
  {
   "cell_type": "code",
   "execution_count": 28,
   "metadata": {},
   "outputs": [],
   "source": [
    "df_withdraw.write_csv(\"../../data/clean_withdraw_data.csv\")"
   ]
  }
 ],
 "metadata": {
  "kernelspec": {
   "display_name": ".venv",
   "language": "python",
   "name": "python3"
  },
  "language_info": {
   "codemirror_mode": {
    "name": "ipython",
    "version": 3
   },
   "file_extension": ".py",
   "mimetype": "text/x-python",
   "name": "python",
   "nbconvert_exporter": "python",
   "pygments_lexer": "ipython3",
   "version": "3.12.5"
  }
 },
 "nbformat": 4,
 "nbformat_minor": 2
}

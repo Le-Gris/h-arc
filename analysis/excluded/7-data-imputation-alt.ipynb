{
 "cells": [
  {
   "cell_type": "code",
   "execution_count": 1,
   "metadata": {},
   "outputs": [
    {
     "name": "stderr",
     "output_type": "stream",
     "text": [
      "WARNING (pytensor.tensor.blas): Using NumPy C-API based implementation for BLAS functions.\n"
     ]
    }
   ],
   "source": [
    "# imports\n",
    "import seaborn as sns\n",
    "import matplotlib.pyplot as plt\n",
    "import sys\n",
    "import numpy as np\n",
    "import json\n",
    "import pymc as pm\n",
    "\n",
    "sys.path.append(\"..\")\n",
    "from src.utils import *\n",
    "from scipy.stats import ttest_ind, permutation_test\n",
    "from scipy import stats"
   ]
  },
  {
   "cell_type": "code",
   "execution_count": 2,
   "metadata": {},
   "outputs": [
    {
     "data": {
      "text/plain": [
       "<polars.config.Config at 0x284d061b0>"
      ]
     },
     "execution_count": 2,
     "metadata": {},
     "output_type": "execute_result"
    }
   ],
   "source": [
    "# polars config\n",
    "pl.Config.load_from_file(\"../polars_cfg.json\")"
   ]
  },
  {
   "cell_type": "code",
   "execution_count": 3,
   "metadata": {},
   "outputs": [
    {
     "name": "stdout",
     "output_type": "stream",
     "text": [
      "Filtered out 59/783 incomplete participant task attempts\n"
     ]
    }
   ],
   "source": [
    "# load / process data\n",
    "df_summary = pl.read_csv(\"../../arc_project/data/clean_summary_data_merged.csv\")\n",
    "df_incomplete = pl.read_csv(\"../../arc_project/data/clean_incomplete_data_merged.csv\")\n",
    "_, df_incomplete_summary = include_incomplete(df_summary, df_incomplete)\n",
    "\n",
    "# load task acc\n",
    "mean_task_acc_one_attempt = pl.read_csv(\"../data/mean_task_acc_one_attempts.csv\")\n",
    "mean_task_acc_two_attempts = pl.read_csv(\"../data/mean_task_acc_two_attempts.csv\")\n",
    "mean_task_acc_three_attempts = pl.read_csv(\"../data/mean_task_acc_three_attempts.csv\")"
   ]
  },
  {
   "cell_type": "code",
   "execution_count": 4,
   "metadata": {},
   "outputs": [],
   "source": [
    "def sample_tasks(\n",
    "    hashed_id, completed_tasks, task_type=\"training\", shots=3, type=\"mean\"\n",
    "):\n",
    "    if shots == 3:\n",
    "        tasks = mean_task_acc_three_attempts\n",
    "    elif shots == 2:\n",
    "        tasks = mean_task_acc_two_attempts\n",
    "    elif shots == 1:\n",
    "        tasks = mean_task_acc_one_attempt\n",
    "    else:\n",
    "        raise ValueError(f\"Shots must be 1, 2, or 3, got {shots}\")\n",
    "    tasks = tasks.filter(\n",
    "        (pl.col(\"task_type\") == task_type) & ~pl.col(\"task_name\").is_in(completed_tasks)\n",
    "    )\n",
    "    tasks = tasks.sample(n=5 - len(completed_tasks))\n",
    "    # sample from binomial with p = mean_solved for each task\n",
    "    if type == \"mean\":\n",
    "        func = lambda x: np.random.binomial(1, x)\n",
    "    elif type == \"floor\":\n",
    "        func = lambda x: 0\n",
    "    elif type == \"ceiling\":\n",
    "        func = lambda x: 1\n",
    "    tasks = tasks.with_columns(\n",
    "        pl.col(\"mean_solved\")\n",
    "        .map_elements(func, return_dtype=pl.Int32)\n",
    "        .alias(\"solved\")\n",
    "        .cast(pl.Boolean)\n",
    "    )\n",
    "    tasks = tasks.with_columns(pl.lit(hashed_id).alias(\"hashed_id\"))\n",
    "    return tasks"
   ]
  },
  {
   "cell_type": "code",
   "execution_count": 7,
   "metadata": {},
   "outputs": [],
   "source": [
    "# simulate range of possible performance values\n",
    "def simulate_performance(\n",
    "    df_summary, df_incomplete_summary, shots, task_type, n_samples=1000, type=\"mean\"\n",
    "):\n",
    "    # list to store performance estimates\n",
    "    performance_estimates = []\n",
    "    # columns to keep\n",
    "    columns = [\n",
    "        \"hashed_id\",\n",
    "        \"task_name\",\n",
    "        \"solved\",\n",
    "        \"task_type\",\n",
    "    ]\n",
    "    df_summary = (\n",
    "        df_summary.filter(\n",
    "            (pl.col(\"attempt_number\") <= shots) & (pl.col(\"task_type\") == task_type)\n",
    "        )\n",
    "        .group_by(\"joint_id_task\")\n",
    "        .agg(\n",
    "            pl.col(\"solved\").any(),\n",
    "            pl.first(\"task_name\"),\n",
    "            pl.first(\"task_type\"),\n",
    "            pl.first(\"hashed_id\"),\n",
    "        )\n",
    "    ).select(columns)\n",
    "\n",
    "    df_incomplete_summary = (\n",
    "        df_incomplete_summary.filter(\n",
    "            (pl.col(\"attempt_number\") <= shots) & (pl.col(\"task_type\") == task_type)\n",
    "        )\n",
    "        .group_by(\"joint_id_task\")\n",
    "        .agg(\n",
    "            pl.col(\"solved\").any(),\n",
    "            pl.first(\"task_name\"),\n",
    "            pl.first(\"task_type\"),\n",
    "            pl.first(\"hashed_id\"),\n",
    "        )\n",
    "    ).select(columns)\n",
    "\n",
    "    # get unique hashed_ids for incomplete participants\n",
    "    hashed_ids = (\n",
    "        df_incomplete_summary.unique(subset=[\"hashed_id\"])\n",
    "        .select(pl.col(\"hashed_id\"))\n",
    "        .to_series()\n",
    "        .to_list()\n",
    "    )\n",
    "    for _ in range(n_samples):\n",
    "        df_summary_augmented = df_summary.clone()\n",
    "        for hashed_id in hashed_ids:\n",
    "            completed_tasks = (\n",
    "                df_incomplete_summary.filter((pl.col(\"hashed_id\") == hashed_id))\n",
    "                .unique(subset=[\"task_name\"])\n",
    "                .select(pl.col(\"task_name\"))\n",
    "                .to_series()\n",
    "                .to_list()\n",
    "            )\n",
    "            sample = sample_tasks(\n",
    "                hashed_id, completed_tasks, task_type=task_type, shots=shots, type=type\n",
    "            )\n",
    "            sample = sample.select(columns)\n",
    "            p_data = df_incomplete_summary.filter(pl.col(\"hashed_id\") == hashed_id)\n",
    "            p_data = p_data.vstack(sample)\n",
    "            df_summary_augmented = df_summary_augmented.vstack(p_data)\n",
    "        performance_estimates.append(\n",
    "            df_summary_augmented.group_by(\"task_name\")\n",
    "            .agg(pl.col(\"solved\").mean().alias(\"mean_solved\"))\n",
    "            .select(pl.mean(\"mean_solved\"))\n",
    "            .item()\n",
    "        )\n",
    "    return performance_estimates"
   ]
  },
  {
   "cell_type": "code",
   "execution_count": 11,
   "metadata": {},
   "outputs": [],
   "source": [
    "task_types = [\"training\", \"evaluation\"]\n",
    "shots = [1, 2, 3]\n",
    "performance_dfs = []\n",
    "type_samples = [(\"mean\", 500), (\"floor\", 500), (\"ceiling\", 500)]\n",
    "for type, n_samples in type_samples:\n",
    "    performance_df = {\n",
    "        \"estimates\": [],\n",
    "        \"shots\": [],\n",
    "        \"task_type\": [],\n",
    "        \"type\": [],\n",
    "    }\n",
    "    for task_type in task_types:\n",
    "        for shot in shots:\n",
    "            simulated_performance = simulate_performance(\n",
    "                df_summary,\n",
    "                df_incomplete_summary,\n",
    "                shots=shot,\n",
    "                task_type=task_type,\n",
    "                n_samples=n_samples,\n",
    "                type=type,\n",
    "            )\n",
    "            performance_df[\"estimates\"].extend(simulated_performance)\n",
    "            performance_df[\"shots\"].extend([shot] * n_samples)\n",
    "            performance_df[\"task_type\"].extend([task_type] * n_samples)\n",
    "            performance_df[\"type\"].extend([type] * n_samples)\n",
    "    performance_df = pl.DataFrame(performance_df)\n",
    "    performance_dfs.append(performance_df)"
   ]
  },
  {
   "cell_type": "code",
   "execution_count": 12,
   "metadata": {},
   "outputs": [
    {
     "data": {
      "text/html": [
       "<div><style>\n",
       ".dataframe > thead > tr,\n",
       ".dataframe > tbody > tr {\n",
       "  text-align: right;\n",
       "  white-space: pre-wrap;\n",
       "}\n",
       "</style>\n",
       "<small>shape: (5, 4)</small><table border=\"1\" class=\"dataframe\"><thead><tr><th>estimates</th><th>shots</th><th>task_type</th><th>type</th></tr><tr><td>f64</td><td>i64</td><td>str</td><td>str</td></tr></thead><tbody><tr><td>0.598784</td><td>1</td><td>&quot;training&quot;</td><td>&quot;mean&quot;</td></tr><tr><td>0.5974</td><td>1</td><td>&quot;training&quot;</td><td>&quot;mean&quot;</td></tr><tr><td>0.60067</td><td>1</td><td>&quot;training&quot;</td><td>&quot;mean&quot;</td></tr><tr><td>0.599062</td><td>1</td><td>&quot;training&quot;</td><td>&quot;mean&quot;</td></tr><tr><td>0.600927</td><td>1</td><td>&quot;training&quot;</td><td>&quot;mean&quot;</td></tr></tbody></table></div>"
      ],
      "text/plain": [
       "shape: (5, 4)\n",
       "┌───────────┬───────┬───────────┬──────┐\n",
       "│ estimates ┆ shots ┆ task_type ┆ type │\n",
       "│ ---       ┆ ---   ┆ ---       ┆ ---  │\n",
       "│ f64       ┆ i64   ┆ str       ┆ str  │\n",
       "╞═══════════╪═══════╪═══════════╪══════╡\n",
       "│ 0.598784  ┆ 1     ┆ training  ┆ mean │\n",
       "│ 0.5974    ┆ 1     ┆ training  ┆ mean │\n",
       "│ 0.60067   ┆ 1     ┆ training  ┆ mean │\n",
       "│ 0.599062  ┆ 1     ┆ training  ┆ mean │\n",
       "│ 0.600927  ┆ 1     ┆ training  ┆ mean │\n",
       "└───────────┴───────┴───────────┴──────┘"
      ]
     },
     "execution_count": 12,
     "metadata": {},
     "output_type": "execute_result"
    }
   ],
   "source": [
    "performance_df = pl.concat(performance_dfs)\n",
    "performance_df.write_csv(\"../../arc_project/data/simulated_performance_estimates.csv\")\n",
    "performance_df.head()"
   ]
  },
  {
   "cell_type": "code",
   "execution_count": 31,
   "metadata": {},
   "outputs": [
    {
     "data": {
      "image/png": "[encoded data removed]",
      "text/plain": [
       "<Figure size 900x600 with 1 Axes>"
      ]
     },
     "metadata": {},
     "output_type": "display_data"
    }
   ],
   "source": [
    "fig, axs = plt.subplots(figsize=(9, 6))\n",
    "filtered_df = performance_df.filter(\n",
    "    (pl.col(\"task_type\") == \"training\") & (pl.col(\"type\") == \"floor\")\n",
    ")\n",
    "sns.barplot(\n",
    "    filtered_df,\n",
    "    x=\"estimates\",\n",
    "    hue=\"shots\",\n",
    "    alpha=0.5,\n",
    "    ax=axs,\n",
    "    errorbar=\"ci\",\n",
    ")\n",
    "# # add credible interval\n",
    "# plt.axvline(np.percentile(one_shot_training.get_column(\"estimates\"), 2.5), color=\"red\")\n",
    "# plt.axvline(np.percentile(one_shot_training.get_column(\"estimates\"), 97.5), color=\"red\")\n",
    "axs.legend()\n",
    "axs.set_title(f\"Sampling: Training\")\n",
    "plt.tight_layout()\n",
    "plt.show()"
   ]
  },
  {
   "cell_type": "code",
   "execution_count": 38,
   "metadata": {},
   "outputs": [
    {
     "name": "stdout",
     "output_type": "stream",
     "text": [
      "Task Type: training, Shots: 1\n",
      "--------------------------------------------------\n",
      "Mean Floor: 0.576\n",
      "Mean Ceiling: 0.615\n",
      "Std Floor: 0.001\n",
      "Std Ceiling: 0.001\n",
      "95% Confidence Interval Floor: 0.574 to 0.578\n",
      "95% Confidence Interval Ceiling: 0.613 to 0.617\n",
      "--------------------------------------------------\n",
      "Task Type: training, Shots: 2\n",
      "--------------------------------------------------\n",
      "Mean Floor: 0.697\n",
      "Mean Ceiling: 0.737\n",
      "Std Floor: 0.001\n",
      "Std Ceiling: 0.001\n",
      "95% Confidence Interval Floor: 0.695 to 0.7\n",
      "95% Confidence Interval Ceiling: 0.735 to 0.739\n",
      "--------------------------------------------------\n",
      "Task Type: training, Shots: 3\n",
      "--------------------------------------------------\n",
      "Mean Floor: 0.733\n",
      "Mean Ceiling: 0.772\n",
      "Std Floor: 0.001\n",
      "Std Ceiling: 0.001\n",
      "95% Confidence Interval Floor: 0.73 to 0.735\n",
      "95% Confidence Interval Ceiling: 0.77 to 0.774\n",
      "--------------------------------------------------\n",
      "Task Type: evaluation, Shots: 1\n",
      "--------------------------------------------------\n",
      "Mean Floor: 0.416\n",
      "Mean Ceiling: 0.546\n",
      "Std Floor: 0.001\n",
      "Std Ceiling: 0.001\n",
      "95% Confidence Interval Floor: 0.414 to 0.418\n",
      "95% Confidence Interval Ceiling: 0.544 to 0.549\n",
      "--------------------------------------------------\n",
      "Task Type: evaluation, Shots: 2\n",
      "--------------------------------------------------\n",
      "Mean Floor: 0.524\n",
      "Mean Ceiling: 0.654\n",
      "Std Floor: 0.001\n",
      "Std Ceiling: 0.001\n",
      "95% Confidence Interval Floor: 0.522 to 0.526\n",
      "95% Confidence Interval Ceiling: 0.651 to 0.656\n",
      "--------------------------------------------------\n",
      "Task Type: evaluation, Shots: 3\n",
      "--------------------------------------------------\n",
      "Mean Floor: 0.559\n",
      "Mean Ceiling: 0.689\n",
      "Std Floor: 0.001\n",
      "Std Ceiling: 0.001\n",
      "95% Confidence Interval Floor: 0.557 to 0.561\n",
      "95% Confidence Interval Ceiling: 0.687 to 0.691\n",
      "--------------------------------------------------\n"
     ]
    }
   ],
   "source": [
    "# print mean, std and credible interval for 1,2,3 shots for training and evaluation\n",
    "for task_type in task_types:\n",
    "    for shot in [1, 2, 3]:\n",
    "        performance_df_filtered = performance_df.filter(\n",
    "            (pl.col(\"shots\") == shot) & (pl.col(\"task_type\") == task_type)\n",
    "        )\n",
    "        print(f\"Task Type: {task_type}, Shots: {shot}\")\n",
    "        print(\"-\" * 50)\n",
    "        mean_floor = (\n",
    "            performance_df_filtered.filter(pl.col(\"type\") == \"floor\")\n",
    "            .select(pl.mean(\"estimates\"))\n",
    "            .item()\n",
    "        )\n",
    "        mean_ceiling = (\n",
    "            performance_df_filtered.filter(pl.col(\"type\") == \"ceiling\")\n",
    "            .select(pl.mean(\"estimates\"))\n",
    "            .item()\n",
    "        )\n",
    "        print(f\"Mean Floor: {round(mean_floor, 3)}\")\n",
    "        print(f\"Mean Ceiling: {round(mean_ceiling, 3)}\")\n",
    "        std_floor = (\n",
    "            performance_df_filtered.filter(pl.col(\"type\") == \"floor\")\n",
    "            .select(pl.std(\"estimates\"))\n",
    "            .item()\n",
    "        )\n",
    "        std_ceiling = (\n",
    "            performance_df_filtered.filter(pl.col(\"type\") == \"ceiling\")\n",
    "            .select(pl.std(\"estimates\"))\n",
    "            .item()\n",
    "        )\n",
    "        print(f\"Std Floor: {round(std_floor, 3)}\")\n",
    "        print(f\"Std Ceiling: {round(std_ceiling, 3)}\")\n",
    "        print(\n",
    "            f\"95% Confidence Interval Floor: {round(mean_floor - 1.96 * std_floor, 3)} to {round(mean_floor + 1.96 * std_floor, 3)}\"\n",
    "        )\n",
    "        print(\n",
    "            f\"95% Confidence Interval Ceiling: {round(mean_ceiling - 1.96 * std_ceiling, 3)} to {round(mean_ceiling + 1.96 * std_ceiling, 3)}\"\n",
    "        )\n",
    "        print(\"-\" * 50)"
   ]
  },
  {
   "cell_type": "code",
   "execution_count": null,
   "metadata": {},
   "outputs": [],
   "source": [
    "# Use the new function\n",
    "trace, participants, tasks = simulate_performance_with_irt(\n",
    "    df_summary, df_incomplete_summary, shots=3, task_type=\"training\"\n",
    ")\n",
    "\n",
    "# Analyze results\n",
    "pm.plot_posterior(trace)\n",
    "plt.show()\n",
    "\n",
    "# Print summary statistics\n",
    "print(pm.summary(trace, var_names=[\"mu_alpha\", \"sigma_alpha\", \"mu_beta\", \"sigma_beta\"]))\n",
    "\n",
    "# Plot ability and difficulty distributions\n",
    "ability_means = trace[\"alpha\"].mean(axis=0)\n",
    "difficulty_means = trace[\"beta\"].mean(axis=0)\n",
    "\n",
    "plt.figure(figsize=(12, 6))\n",
    "plt.subplot(1, 2, 1)\n",
    "plt.hist(ability_means, bins=20)\n",
    "plt.title(\"Distribution of Participant Abilities\")\n",
    "plt.xlabel(\"Ability (alpha)\")\n",
    "\n",
    "plt.subplot(1, 2, 2)\n",
    "plt.hist(difficulty_means, bins=20)\n",
    "plt.title(\"Distribution of Task Difficulties\")\n",
    "plt.xlabel(\"Difficulty (beta)\")\n",
    "\n",
    "plt.tight_layout()\n",
    "plt.show()\n",
    "\n",
    "# Print top 5 easiest and hardest tasks\n",
    "task_difficulties = pd.DataFrame({\"task\": tasks, \"difficulty\": difficulty_means})\n",
    "print(\"Top 5 Easiest Tasks:\")\n",
    "print(task_difficulties.sort_values(\"difficulty\").head())\n",
    "print(\"\\nTop 5 Hardest Tasks:\")\n",
    "print(task_difficulties.sort_values(\"difficulty\", ascending=False).head())"
   ]
  }
 ],
 "metadata": {
  "kernelspec": {
   "display_name": ".venv",
   "language": "python",
   "name": "python3"
  },
  "language_info": {
   "codemirror_mode": {
    "name": "ipython",
    "version": 3
   },
   "file_extension": ".py",
   "mimetype": "text/x-python",
   "name": "python",
   "nbconvert_exporter": "python",
   "pygments_lexer": "ipython3",
   "version": "3.12.5"
  }
 },
 "nbformat": 4,
 "nbformat_minor": 2
}

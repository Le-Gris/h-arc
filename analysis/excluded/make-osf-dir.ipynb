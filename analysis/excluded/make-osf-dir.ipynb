{
 "cells": [
  {
   "cell_type": "code",
   "execution_count": 1,
   "metadata": {},
   "outputs": [],
   "source": [
    "import polars as pl\n",
    "import sys\n",
    "\n",
    "sys.path.append(\"../../\")\n",
    "from src.utils import *"
   ]
  },
  {
   "cell_type": "code",
   "execution_count": 2,
   "metadata": {},
   "outputs": [
    {
     "data": {
      "text/plain": [
       "<polars.config.Config at 0x1299a6510>"
      ]
     },
     "execution_count": 2,
     "metadata": {},
     "output_type": "execute_result"
    }
   ],
   "source": [
    "pl.Config.load_from_file(\"../../polars_cfg.json\")"
   ]
  },
  {
   "cell_type": "code",
   "execution_count": 3,
   "metadata": {},
   "outputs": [],
   "source": [
    "all_data_path = \"../../data/clean_all_data_merged.csv\"\n",
    "errors_path = \"../../data/clean_errors_merged.csv\"\n",
    "feedback_path = \"../../data/clean_feedback_data_merged.csv\"\n",
    "incomplete_path = \"../../data/clean_incomplete_data_merged.csv\"\n",
    "summary_path = \"../../data/clean_summary_data_merged.csv\"\n",
    "demographics_path = \"../../data/clean_demographics_merged.csv\"\n",
    "\n",
    "df_all = pl.read_csv(all_data_path)\n",
    "df_errors = pl.read_csv(errors_path)\n",
    "df_feedback = pl.read_csv(feedback_path)\n",
    "df_incomplete = pl.read_csv(incomplete_path)\n",
    "df_summary = pl.read_csv(summary_path)"
   ]
  },
  {
   "cell_type": "markdown",
   "metadata": {},
   "source": [
    "# data\n"
   ]
  },
  {
   "cell_type": "code",
   "execution_count": 4,
   "metadata": {},
   "outputs": [],
   "source": [
    "reordered_columns = [\n",
    "    # Experiment metadata\n",
    "    \"exp_name\",\n",
    "    \"task_type\",\n",
    "    # Identifiers and metadata\n",
    "    \"hashed_id\",\n",
    "    \"joint_id_task\",\n",
    "    # Task-related information\n",
    "    \"task_name\",\n",
    "    \"task_number\",\n",
    "    \"is_tutorial\",\n",
    "    # Time-related information\n",
    "    \"time\",\n",
    "    # Task performance\n",
    "    \"attempt_number\",\n",
    "    \"num_actions\",\n",
    "    \"solved\",\n",
    "    \"done\",\n",
    "    # Input and output data\n",
    "    \"test_input_grid\",\n",
    "    \"test_input_size_x\",\n",
    "    \"test_input_size_y\",\n",
    "    \"test_output_grid\",\n",
    "    \"test_output_size_x\",\n",
    "    \"test_output_size_y\",\n",
    "    # User actions\n",
    "    \"action\",\n",
    "    \"action_x\",\n",
    "    \"action_y\",\n",
    "    \"select_loc\",\n",
    "    \"selected_data\",\n",
    "    \"selected_symbol\",\n",
    "    \"selected_tool\",\n",
    "    \"copy_paste_data\",\n",
    "    # User solutions\n",
    "    \"first_written_solution\",\n",
    "    \"last_written_solution\",\n",
    "    # Withdrawal information\n",
    "    \"withdraw\",\n",
    "    \"withdraw_reason\",\n",
    "    \"withdraw_comment\",\n",
    "    # Demographic information\n",
    "    \"age\",\n",
    "    \"gender\",\n",
    "    \"race\",\n",
    "    \"education_level\",\n",
    "    \"household_income\",\n",
    "    \"normal_vision\",\n",
    "    \"color_blind\",\n",
    "    \"fluent_english\",\n",
    "]"
   ]
  },
  {
   "cell_type": "code",
   "execution_count": 5,
   "metadata": {},
   "outputs": [],
   "source": [
    "def standardize_test_input_size(df):\n",
    "    df = (\n",
    "        df.with_columns(\n",
    "            pl.col(\"test_input_size\")\n",
    "            .str.strip_chars(\"[]\")\n",
    "            .str.split(\",\")\n",
    "            .list.to_struct(fields=[\"test_input_size_x\", \"test_input_size_y\"])\n",
    "        )\n",
    "        .unnest(\"test_input_size\")\n",
    "        .with_columns(\n",
    "            [\n",
    "                pl.col(\"test_input_size_x\").str.strip_chars(\" \").cast(pl.Int32),\n",
    "                pl.col(\"test_input_size_y\").str.strip_chars(\" \").cast(pl.Int32),\n",
    "            ]\n",
    "        )\n",
    "    )\n",
    "    df = (\n",
    "        df.with_columns(\n",
    "            pl.col(\"test_output_size\")\n",
    "            .map_elements(lambda x: eval(x), return_dtype=pl.List(pl.String))\n",
    "            .list.to_struct(fields=[\"test_output_size_x\", \"test_output_size_y\"])\n",
    "        )\n",
    "        .unnest(\"test_output_size\")\n",
    "        .with_columns(\n",
    "            [\n",
    "                pl.col(\"test_output_size_x\").str.strip_chars(\" \").cast(pl.Int32),\n",
    "                pl.col(\"test_output_size_y\").str.strip_chars(\" \").cast(pl.Int32),\n",
    "            ]\n",
    "        )\n",
    "    )\n",
    "    return df"
   ]
  },
  {
   "cell_type": "code",
   "execution_count": 6,
   "metadata": {},
   "outputs": [],
   "source": [
    "df_incomplete = standardize_test_input_size(df_incomplete)\n",
    "df_all = standardize_test_input_size(df_all)"
   ]
  },
  {
   "cell_type": "code",
   "execution_count": 7,
   "metadata": {},
   "outputs": [],
   "source": [
    "# output time in standard format\n",
    "df_all = df_all.with_columns(\n",
    "    pl.col(\"time\").map_elements(parse_mixed_datetime, return_dtype=pl.Datetime),\n",
    ")\n",
    "df_incomplete = df_incomplete.with_columns(\n",
    "    pl.col(\"time\").map_elements(parse_mixed_datetime, return_dtype=pl.Datetime),\n",
    ")"
   ]
  },
  {
   "cell_type": "code",
   "execution_count": 8,
   "metadata": {},
   "outputs": [
    {
     "data": {
      "text/html": [
       "<div><style>\n",
       ".dataframe > thead > tr,\n",
       ".dataframe > tbody > tr {\n",
       "  text-align: right;\n",
       "  white-space: pre-wrap;\n",
       "}\n",
       "</style>\n",
       "<small>shape: (5, 3)</small><table border=\"1\" class=\"dataframe\"><thead><tr><th>hashed_id</th><th>count</th><th>exp_name</th></tr><tr><td>str</td><td>u32</td><td>str</td></tr></thead><tbody><tr><td>&quot;62ef141694b004752bc4d6352148b6aa&quot;</td><td>6</td><td>&quot;expv1&quot;</td></tr><tr><td>&quot;c3cd77edefb6b3c9bffcc4ae6940d182&quot;</td><td>7</td><td>&quot;expv1&quot;</td></tr><tr><td>&quot;945cd915c78988165db7af93206ec325&quot;</td><td>7</td><td>&quot;expv1&quot;</td></tr><tr><td>&quot;00e515b84bc3a0e4c555e208aded5f96&quot;</td><td>5</td><td>&quot;expv1&quot;</td></tr><tr><td>&quot;f2225b6c4d0910cf5b10543f22de2dd5&quot;</td><td>5</td><td>&quot;expv1&quot;</td></tr></tbody></table></div>"
      ],
      "text/plain": [
       "shape: (5, 3)\n",
       "┌──────────────────────────────────┬───────┬──────────┐\n",
       "│ hashed_id                        ┆ count ┆ exp_name │\n",
       "│ ---                              ┆ ---   ┆ ---      │\n",
       "│ str                              ┆ u32   ┆ str      │\n",
       "╞══════════════════════════════════╪═══════╪══════════╡\n",
       "│ 62ef141694b004752bc4d6352148b6aa ┆ 6     ┆ expv1    │\n",
       "│ c3cd77edefb6b3c9bffcc4ae6940d182 ┆ 7     ┆ expv1    │\n",
       "│ 945cd915c78988165db7af93206ec325 ┆ 7     ┆ expv1    │\n",
       "│ 00e515b84bc3a0e4c555e208aded5f96 ┆ 5     ┆ expv1    │\n",
       "│ f2225b6c4d0910cf5b10543f22de2dd5 ┆ 5     ┆ expv1    │\n",
       "└──────────────────────────────────┴───────┴──────────┘"
      ]
     },
     "execution_count": 8,
     "metadata": {},
     "output_type": "execute_result"
    }
   ],
   "source": [
    "# missed complete\n",
    "missed_complete = df_incomplete.select(\n",
    "    pl.all()\n",
    "    .top_k_by([\"num_actions\"], k=1)\n",
    "    .over([\"joint_id_task\"], mapping_strategy=\"explode\")\n",
    ").filter(\n",
    "    pl.col(\"action\").is_in(\n",
    "        [\"no_last_description\", \"write_description\", \"write_last_description\", \"submit\"]\n",
    "    )\n",
    ")\n",
    "missed_complete.group_by(\"hashed_id\").agg(\n",
    "    pl.len().alias(\"count\"), pl.first(\"exp_name\")\n",
    ").filter(\n",
    "    pl.col(\"count\") >= 5\n",
    ")  # there are no missed complete data"
   ]
  },
  {
   "cell_type": "code",
   "execution_count": 9,
   "metadata": {},
   "outputs": [],
   "source": [
    "# edge case not accounted for by initial filtering (all happen to be in expv0 or expv1)\n",
    "edge_cases = (\n",
    "    df_all.filter((pl.col(\"done\").is_null()))\n",
    "    .unique(\"joint_id_task\")\n",
    "    .select(\"hashed_id\")\n",
    ")\n",
    "missed_incomplete = (\n",
    "    df_all.filter(pl.col(\"hashed_id\").is_in(edge_cases))\n",
    "    .select(\n",
    "        pl.all()\n",
    "        .top_k_by([\"num_actions\"], k=1)\n",
    "        .over([\"joint_id_task\"], mapping_strategy=\"explode\")\n",
    "    )\n",
    "    .group_by(\"hashed_id\")\n",
    "    .agg(pl.len().alias(\"count\"), pl.first(\"exp_name\"))\n",
    "    .filter(pl.col(\"count\") < 10)\n",
    ")\n",
    "missed_incomplete = df_all.filter(\n",
    "    pl.col(\"hashed_id\").is_in(missed_incomplete.select(\"hashed_id\"))\n",
    ")"
   ]
  },
  {
   "cell_type": "code",
   "execution_count": 10,
   "metadata": {},
   "outputs": [],
   "source": [
    "df_all = df_all.filter(\n",
    "    ~pl.col(\"hashed_id\").is_in(missed_incomplete.select(\"hashed_id\"))\n",
    ")"
   ]
  },
  {
   "cell_type": "code",
   "execution_count": 11,
   "metadata": {},
   "outputs": [],
   "source": [
    "missed_incomplete = missed_incomplete.select(reordered_columns)\n",
    "df_incomplete = df_incomplete.select(reordered_columns)"
   ]
  },
  {
   "cell_type": "code",
   "execution_count": 12,
   "metadata": {},
   "outputs": [],
   "source": [
    "df_incomplete = df_incomplete.with_columns(\n",
    "    pl.when(pl.col(\"withdraw\").str.to_lowercase() == \"true\")\n",
    "    .then(True)\n",
    "    .when(pl.col(\"withdraw\").str.to_lowercase() == \"false\")\n",
    "    .then(False)\n",
    "    .otherwise(None)\n",
    "    .alias(\"withdraw\")\n",
    "    .cast(pl.Boolean),\n",
    "    pl.col(\"age\").cast(pl.Float32),\n",
    "    pl.lit(False).alias(\"complete\"),\n",
    "    pl.when(True).then(False).alias(\"done\"),  # force done to false\n",
    ")\n",
    "\n",
    "missed_incomplete = missed_incomplete.with_columns(\n",
    "    pl.col(\"withdraw\").cast(pl.Boolean),\n",
    "    pl.col(\"age\").cast(pl.Float32),\n",
    "    pl.lit(False).alias(\"complete\"),\n",
    "    pl.lit(True).alias(\"done\"),\n",
    ")\n",
    "\n",
    "df_incomplete = pl.concat([df_incomplete, missed_incomplete])\n",
    "\n",
    "# Get the hashed_id and attempt_number combinations where action is submit\n",
    "submit_rows = df_incomplete.filter(\n",
    "    (\n",
    "        pl.col(\"action\").is_in(\n",
    "            [\n",
    "                \"no_last_description\",\n",
    "                \"write_description\",\n",
    "                \"write_last_description\",\n",
    "            ]\n",
    "        )\n",
    "    )\n",
    ").select([\"joint_id_task\", \"attempt_number\"])\n",
    "\n",
    "# Update done to True for all rows matching those combinations\n",
    "df_incomplete = df_incomplete.with_columns(\n",
    "    pl.when(\n",
    "        pl.struct([\"joint_id_task\", \"attempt_number\"]).is_in(\n",
    "            submit_rows.select([\"joint_id_task\", \"attempt_number\"])\n",
    "        )\n",
    "    )\n",
    "    .then(True)\n",
    "    .otherwise(False)\n",
    "    .alias(\"done\")\n",
    ")\n",
    "\n",
    "\n",
    "df_all = df_all.select(reordered_columns).with_columns(\n",
    "    pl.col(\"withdraw\").cast(pl.Boolean),\n",
    "    pl.col(\"age\").cast(pl.Float32),\n",
    "    pl.lit(True).alias(\"complete\"),\n",
    "    pl.lit(True).alias(\"done\"),\n",
    ")"
   ]
  },
  {
   "cell_type": "markdown",
   "metadata": {},
   "source": [
    "Got rid of:\n",
    "\n",
    "- feedback\n",
    "- indexOf\n",
    "- phase\n",
    "- template\n",
    "- templates\n",
    "- viewTime\n",
    "- tutorial_response\n",
    "- beginHit\n",
    "- endHit\n"
   ]
  },
  {
   "cell_type": "code",
   "execution_count": 13,
   "metadata": {},
   "outputs": [],
   "source": [
    "df_all_ = pl.concat([df_all, df_incomplete])"
   ]
  },
  {
   "cell_type": "code",
   "execution_count": 14,
   "metadata": {},
   "outputs": [],
   "source": [
    "df_all_.rename({\"num_actions\": \"action_id\"}).write_csv(\n",
    "    \"/Users/solimlegris/Projects/h-arc-osf/data/data.csv\"\n",
    ")"
   ]
  },
  {
   "cell_type": "markdown",
   "metadata": {},
   "source": [
    "# clean summary\n"
   ]
  },
  {
   "cell_type": "code",
   "execution_count": 15,
   "metadata": {},
   "outputs": [
    {
     "name": "stdout",
     "output_type": "stream",
     "text": [
      "Filtered out 62/8899 participant task attempts\n"
     ]
    }
   ],
   "source": [
    "df_summary = get_summary(df_all_, verbose=True)"
   ]
  },
  {
   "cell_type": "code",
   "execution_count": 16,
   "metadata": {},
   "outputs": [],
   "source": [
    "reordered_columns_summary = [\n",
    "    # Experiment metadata\n",
    "    \"exp_name\",\n",
    "    \"task_type\",\n",
    "    # Identifiers and metadata\n",
    "    \"hashed_id\",\n",
    "    \"joint_id_task\",\n",
    "    # Task-related information\n",
    "    \"task_name\",\n",
    "    \"task_number\",\n",
    "    # Task performance\n",
    "    \"attempt_number\",\n",
    "    \"num_actions\",\n",
    "    \"solved\",\n",
    "    # Output data\n",
    "    \"test_output_grid\",\n",
    "    # User solutions\n",
    "    \"first_written_solution\",\n",
    "    \"last_written_solution\",\n",
    "    # complete\n",
    "    \"complete\",\n",
    "]"
   ]
  },
  {
   "cell_type": "code",
   "execution_count": 17,
   "metadata": {},
   "outputs": [
    {
     "data": {
      "text/html": [
       "<div><style>\n",
       ".dataframe > thead > tr,\n",
       ".dataframe > tbody > tr {\n",
       "  text-align: right;\n",
       "  white-space: pre-wrap;\n",
       "}\n",
       "</style>\n",
       "<small>shape: (5, 13)</small><table border=\"1\" class=\"dataframe\"><thead><tr><th>exp_name</th><th>task_type</th><th>hashed_id</th><th>joint_id_task</th><th>task_name</th><th>task_number</th><th>attempt_number</th><th>num_actions</th><th>solved</th><th>test_output_grid</th><th>first_written_solution</th><th>last_written_solution</th><th>complete</th></tr><tr><td>str</td><td>str</td><td>str</td><td>str</td><td>str</td><td>i64</td><td>i64</td><td>i64</td><td>bool</td><td>str</td><td>str</td><td>str</td><td>bool</td></tr></thead><tbody><tr><td>&quot;expv2&quot;</td><td>&quot;training&quot;</td><td>&quot;59e36641c3391529505bdf7af902cec0&quot;</td><td>&quot;59e36641c3391529505bdf7af902cec0_32597951.jso…</td><td>&quot;32597951.json&quot;</td><td>1</td><td>1</td><td>133</td><td>false</td><td>&quot;|10010010010010010|01001001001001001|00100100…</td><td>&quot;YES DONE EASILY&quot;</td><td>&quot;INTERESTING TO COMPLETE&quot;</td><td>true</td></tr><tr><td>&quot;expv2&quot;</td><td>&quot;training&quot;</td><td>&quot;59e36641c3391529505bdf7af902cec0&quot;</td><td>&quot;59e36641c3391529505bdf7af902cec0_32597951.jso…</td><td>&quot;32597951.json&quot;</td><td>1</td><td>2</td><td>151</td><td>false</td><td>&quot;|10010010010010010|01001001001001001|00100100…</td><td>&quot;YES DONE EASILY&quot;</td><td>&quot;INTERESTING TO COMPLETE&quot;</td><td>true</td></tr><tr><td>&quot;expv2&quot;</td><td>&quot;training&quot;</td><td>&quot;59e36641c3391529505bdf7af902cec0&quot;</td><td>&quot;59e36641c3391529505bdf7af902cec0_32597951.jso…</td><td>&quot;32597951.json&quot;</td><td>1</td><td>3</td><td>182</td><td>false</td><td>&quot;|10010010010010010|01001001001001001|00100100…</td><td>&quot;YES DONE EASILY&quot;</td><td>&quot;INTERESTING TO COMPLETE&quot;</td><td>true</td></tr><tr><td>&quot;expv2&quot;</td><td>&quot;training&quot;</td><td>&quot;59e36641c3391529505bdf7af902cec0&quot;</td><td>&quot;59e36641c3391529505bdf7af902cec0_321b1fc6.jso…</td><td>&quot;321b1fc6.json&quot;</td><td>2</td><td>1</td><td>43</td><td>false</td><td>&quot;|0000000000|0440004400|3433034330|0030000300|…</td><td>&quot;SUPER EXPERIMENT KEEP COMPELETE THE TASK&quot;</td><td>&quot;INTERESTING TO COMPLE THE TASKS&quot;</td><td>true</td></tr><tr><td>&quot;expv2&quot;</td><td>&quot;training&quot;</td><td>&quot;59e36641c3391529505bdf7af902cec0&quot;</td><td>&quot;59e36641c3391529505bdf7af902cec0_321b1fc6.jso…</td><td>&quot;321b1fc6.json&quot;</td><td>2</td><td>2</td><td>53</td><td>true</td><td>&quot;|0000000000|0440004400|3433034330|0030000300|…</td><td>&quot;SUPER EXPERIMENT KEEP COMPELETE THE TASK&quot;</td><td>&quot;INTERESTING TO COMPLE THE TASKS&quot;</td><td>true</td></tr></tbody></table></div>"
      ],
      "text/plain": [
       "shape: (5, 13)\n",
       "┌──────────┬───────────┬────────────┬───────────┬───┬───────────┬───────────┬───────────┬──────────┐\n",
       "│ exp_name ┆ task_type ┆ hashed_id  ┆ joint_id_ ┆ … ┆ test_outp ┆ first_wri ┆ last_writ ┆ complete │\n",
       "│ ---      ┆ ---       ┆ ---        ┆ task      ┆   ┆ ut_grid   ┆ tten_solu ┆ ten_solut ┆ ---      │\n",
       "│ str      ┆ str       ┆ str        ┆ ---       ┆   ┆ ---       ┆ tion      ┆ ion       ┆ bool     │\n",
       "│          ┆           ┆            ┆ str       ┆   ┆ str       ┆ ---       ┆ ---       ┆          │\n",
       "│          ┆           ┆            ┆           ┆   ┆           ┆ str       ┆ str       ┆          │\n",
       "╞══════════╪═══════════╪════════════╪═══════════╪═══╪═══════════╪═══════════╪═══════════╪══════════╡\n",
       "│ expv2    ┆ training  ┆ 59e36641c3 ┆ 59e36641c ┆ … ┆ |10010010 ┆ YES DONE  ┆ INTERESTI ┆ true     │\n",
       "│          ┆           ┆ 391529505b ┆ 339152950 ┆   ┆ 010010010 ┆ EASILY    ┆ NG TO     ┆          │\n",
       "│          ┆           ┆ df7af902ce ┆ 5bdf7af90 ┆   ┆ |01001001 ┆           ┆ COMPLETE  ┆          │\n",
       "│          ┆           ┆ c0         ┆ 2cec0_325 ┆   ┆ 001001001 ┆           ┆           ┆          │\n",
       "│          ┆           ┆            ┆ 97951.jso ┆   ┆ |00100100 ┆           ┆           ┆          │\n",
       "│          ┆           ┆            ┆ …         ┆   ┆ …         ┆           ┆           ┆          │\n",
       "│ expv2    ┆ training  ┆ 59e36641c3 ┆ 59e36641c ┆ … ┆ |10010010 ┆ YES DONE  ┆ INTERESTI ┆ true     │\n",
       "│          ┆           ┆ 391529505b ┆ 339152950 ┆   ┆ 010010010 ┆ EASILY    ┆ NG TO     ┆          │\n",
       "│          ┆           ┆ df7af902ce ┆ 5bdf7af90 ┆   ┆ |01001001 ┆           ┆ COMPLETE  ┆          │\n",
       "│          ┆           ┆ c0         ┆ 2cec0_325 ┆   ┆ 001001001 ┆           ┆           ┆          │\n",
       "│          ┆           ┆            ┆ 97951.jso ┆   ┆ |00100100 ┆           ┆           ┆          │\n",
       "│          ┆           ┆            ┆ …         ┆   ┆ …         ┆           ┆           ┆          │\n",
       "│ expv2    ┆ training  ┆ 59e36641c3 ┆ 59e36641c ┆ … ┆ |10010010 ┆ YES DONE  ┆ INTERESTI ┆ true     │\n",
       "│          ┆           ┆ 391529505b ┆ 339152950 ┆   ┆ 010010010 ┆ EASILY    ┆ NG TO     ┆          │\n",
       "│          ┆           ┆ df7af902ce ┆ 5bdf7af90 ┆   ┆ |01001001 ┆           ┆ COMPLETE  ┆          │\n",
       "│          ┆           ┆ c0         ┆ 2cec0_325 ┆   ┆ 001001001 ┆           ┆           ┆          │\n",
       "│          ┆           ┆            ┆ 97951.jso ┆   ┆ |00100100 ┆           ┆           ┆          │\n",
       "│          ┆           ┆            ┆ …         ┆   ┆ …         ┆           ┆           ┆          │\n",
       "│ expv2    ┆ training  ┆ 59e36641c3 ┆ 59e36641c ┆ … ┆ |00000000 ┆ SUPER EXP ┆ INTERESTI ┆ true     │\n",
       "│          ┆           ┆ 391529505b ┆ 339152950 ┆   ┆ 00|044000 ┆ ERIMENT   ┆ NG TO     ┆          │\n",
       "│          ┆           ┆ df7af902ce ┆ 5bdf7af90 ┆   ┆ 4400|3433 ┆ KEEP      ┆ COMPLE    ┆          │\n",
       "│          ┆           ┆ c0         ┆ 2cec0_321 ┆   ┆ 034330|00 ┆ COMPELETE ┆ THE TASKS ┆          │\n",
       "│          ┆           ┆            ┆ b1fc6.jso ┆   ┆ 30000300| ┆ THE TASK  ┆           ┆          │\n",
       "│          ┆           ┆            ┆ …         ┆   ┆ …         ┆           ┆           ┆          │\n",
       "│ expv2    ┆ training  ┆ 59e36641c3 ┆ 59e36641c ┆ … ┆ |00000000 ┆ SUPER EXP ┆ INTERESTI ┆ true     │\n",
       "│          ┆           ┆ 391529505b ┆ 339152950 ┆   ┆ 00|044000 ┆ ERIMENT   ┆ NG TO     ┆          │\n",
       "│          ┆           ┆ df7af902ce ┆ 5bdf7af90 ┆   ┆ 4400|3433 ┆ KEEP      ┆ COMPLE    ┆          │\n",
       "│          ┆           ┆ c0         ┆ 2cec0_321 ┆   ┆ 034330|00 ┆ COMPELETE ┆ THE TASKS ┆          │\n",
       "│          ┆           ┆            ┆ b1fc6.jso ┆   ┆ 30000300| ┆ THE TASK  ┆           ┆          │\n",
       "│          ┆           ┆            ┆ …         ┆   ┆ …         ┆           ┆           ┆          │\n",
       "└──────────┴───────────┴────────────┴───────────┴───┴───────────┴───────────┴───────────┴──────────┘"
      ]
     },
     "execution_count": 17,
     "metadata": {},
     "output_type": "execute_result"
    }
   ],
   "source": [
    "df_summary = df_summary.select(reordered_columns_summary)\n",
    "df_summary.head()"
   ]
  },
  {
   "cell_type": "code",
   "execution_count": 18,
   "metadata": {},
   "outputs": [],
   "source": [
    "df_summary.write_csv(\"/Users/solimlegris/Projects/h-arc-osf/data/summary_data.csv\")"
   ]
  },
  {
   "cell_type": "markdown",
   "metadata": {},
   "source": [
    "# clean errors\n"
   ]
  },
  {
   "cell_type": "code",
   "execution_count": 19,
   "metadata": {},
   "outputs": [
    {
     "data": {
      "text/html": [
       "<div><style>\n",
       ".dataframe > thead > tr,\n",
       ".dataframe > tbody > tr {\n",
       "  text-align: right;\n",
       "  white-space: pre-wrap;\n",
       "}\n",
       "</style>\n",
       "<small>shape: (5, 5)</small><table border=\"1\" class=\"dataframe\"><thead><tr><th>task_name</th><th>test_output_grid</th><th>count</th><th>task_type</th><th>hashed_output_grid</th></tr><tr><td>str</td><td>str</td><td>u32</td><td>str</td><td>str</td></tr></thead><tbody><tr><td>&quot;f25fbde4.json&quot;</td><td>&quot;|000000000|444444444|444444444|444444444|0000…</td><td>1</td><td>&quot;training&quot;</td><td>&quot;fa0872eac83daf7dfc5c33fa4bc099bc&quot;</td></tr><tr><td>&quot;fcc82909.json&quot;</td><td>&quot;|0000000000|1100002900|2100001600|3304703300|…</td><td>4</td><td>&quot;training&quot;</td><td>&quot;132c75dd645b5ce87f054175c766b295&quot;</td></tr><tr><td>&quot;913fb3ed.json&quot;</td><td>&quot;|1110000000000000|1310000000000000|1110000000…</td><td>1</td><td>&quot;training&quot;</td><td>&quot;42bfc6a865dc372f0452e8074dd27b6e&quot;</td></tr><tr><td>&quot;ac3e2b04.json&quot;</td><td>&quot;|002000020002000020|033300111002000020|132311…</td><td>1</td><td>&quot;evaluation&quot;</td><td>&quot;70a13709858b3a68c7b31b524a7f7d88&quot;</td></tr><tr><td>&quot;af22c60d.json&quot;</td><td>&quot;|885989585655225665225565859895|8998898566562…</td><td>1</td><td>&quot;evaluation&quot;</td><td>&quot;429693fd10a5269c09dad69c4e53ce5b&quot;</td></tr></tbody></table></div>"
      ],
      "text/plain": [
       "shape: (5, 5)\n",
       "┌───────────────┬──────────────────────────────┬───────┬────────────┬──────────────────────────────┐\n",
       "│ task_name     ┆ test_output_grid             ┆ count ┆ task_type  ┆ hashed_output_grid           │\n",
       "│ ---           ┆ ---                          ┆ ---   ┆ ---        ┆ ---                          │\n",
       "│ str           ┆ str                          ┆ u32   ┆ str        ┆ str                          │\n",
       "╞═══════════════╪══════════════════════════════╪═══════╪════════════╪══════════════════════════════╡\n",
       "│ f25fbde4.json ┆ |000000000|444444444|4444444 ┆ 1     ┆ training   ┆ fa0872eac83daf7dfc5c33fa4bc0 │\n",
       "│               ┆ 44|444444444|0000…           ┆       ┆            ┆ 99bc                         │\n",
       "│ fcc82909.json ┆ |0000000000|1100002900|21000 ┆ 4     ┆ training   ┆ 132c75dd645b5ce87f054175c766 │\n",
       "│               ┆ 01600|3304703300|…           ┆       ┆            ┆ b295                         │\n",
       "│ 913fb3ed.json ┆ |1110000000000000|1310000000 ┆ 1     ┆ training   ┆ 42bfc6a865dc372f0452e8074dd2 │\n",
       "│               ┆ 000000|1110000000…           ┆       ┆            ┆ 7b6e                         │\n",
       "│ ac3e2b04.json ┆ |002000020002000020|03330011 ┆ 1     ┆ evaluation ┆ 70a13709858b3a68c7b31b524a7f │\n",
       "│               ┆ 1002000020|132311…           ┆       ┆            ┆ 7d88                         │\n",
       "│ af22c60d.json ┆ |885989585655225665225565859 ┆ 1     ┆ evaluation ┆ 429693fd10a5269c09dad69c4e53 │\n",
       "│               ┆ 895|8998898566562…           ┆       ┆            ┆ ce5b                         │\n",
       "└───────────────┴──────────────────────────────┴───────┴────────────┴──────────────────────────────┘"
      ]
     },
     "execution_count": 19,
     "metadata": {},
     "output_type": "execute_result"
    }
   ],
   "source": [
    "df_errors = get_errors(df_summary)\n",
    "df_errors.head()"
   ]
  },
  {
   "cell_type": "code",
   "execution_count": 20,
   "metadata": {},
   "outputs": [],
   "source": [
    "df_errors.select([\"task_name\", \"task_type\", \"test_output_grid\", \"count\"]).write_csv(\n",
    "    \"/Users/solimlegris/Projects/h-arc-osf/data/incorrect_submissions.csv\"\n",
    ")"
   ]
  },
  {
   "cell_type": "markdown",
   "metadata": {},
   "source": [
    "# clean feedback\n"
   ]
  },
  {
   "cell_type": "code",
   "execution_count": 21,
   "metadata": {},
   "outputs": [],
   "source": [
    "reordered_columns_feedback = [\n",
    "    # Experiment metadata\n",
    "    \"exp_name\",\n",
    "    \"task_type\",\n",
    "    # Identifiers and metadata\n",
    "    \"hashed_id\",\n",
    "    # feedback\n",
    "    \"feedback\",\n",
    "]"
   ]
  },
  {
   "cell_type": "code",
   "execution_count": 22,
   "metadata": {},
   "outputs": [
    {
     "data": {
      "text/html": [
       "<div><style>\n",
       ".dataframe > thead > tr,\n",
       ".dataframe > tbody > tr {\n",
       "  text-align: right;\n",
       "  white-space: pre-wrap;\n",
       "}\n",
       "</style>\n",
       "<small>shape: (5, 4)</small><table border=\"1\" class=\"dataframe\"><thead><tr><th>exp_name</th><th>task_type</th><th>hashed_id</th><th>feedback</th></tr><tr><td>str</td><td>str</td><td>str</td><td>str</td></tr></thead><tbody><tr><td>&quot;expv0&quot;</td><td>&quot;training&quot;</td><td>&quot;195f0749824286cb4b24f431004a3b87&quot;</td><td>&quot;Interesting. I can&#x27;t really explain my strate…</td></tr><tr><td>&quot;expv0&quot;</td><td>&quot;training&quot;</td><td>&quot;bf66a164234034d4709666dc364c8d55&quot;</td><td>&quot;this was fun - thanks! &quot;</td></tr><tr><td>&quot;expv0&quot;</td><td>&quot;training&quot;</td><td>&quot;2b06355cea411af7a6fa212c90eb3c6d&quot;</td><td>&quot;Thank you.&quot;</td></tr><tr><td>&quot;expv0&quot;</td><td>&quot;training&quot;</td><td>&quot;19f69ac203258689f6823e2c49cea6b7&quot;</td><td>&quot;Very interesting.&quot;</td></tr><tr><td>&quot;expv0&quot;</td><td>&quot;training&quot;</td><td>&quot;37289334396727fffe878187ca738a35&quot;</td><td>&quot;The first 5 were jacked up. The controls didn…</td></tr></tbody></table></div>"
      ],
      "text/plain": [
       "shape: (5, 4)\n",
       "┌──────────┬───────────┬──────────────────────────────────┬────────────────────────────────────────┐\n",
       "│ exp_name ┆ task_type ┆ hashed_id                        ┆ feedback                               │\n",
       "│ ---      ┆ ---       ┆ ---                              ┆ ---                                    │\n",
       "│ str      ┆ str       ┆ str                              ┆ str                                    │\n",
       "╞══════════╪═══════════╪══════════════════════════════════╪════════════════════════════════════════╡\n",
       "│ expv0    ┆ training  ┆ 195f0749824286cb4b24f431004a3b87 ┆ Interesting. I can't really explain my │\n",
       "│          ┆           ┆                                  ┆ strate…                                │\n",
       "│ expv0    ┆ training  ┆ bf66a164234034d4709666dc364c8d55 ┆ this was fun - thanks!                 │\n",
       "│ expv0    ┆ training  ┆ 2b06355cea411af7a6fa212c90eb3c6d ┆ Thank you.                             │\n",
       "│ expv0    ┆ training  ┆ 19f69ac203258689f6823e2c49cea6b7 ┆ Very interesting.                      │\n",
       "│ expv0    ┆ training  ┆ 37289334396727fffe878187ca738a35 ┆ The first 5 were jacked up. The        │\n",
       "│          ┆           ┆                                  ┆ controls didn…                         │\n",
       "└──────────┴───────────┴──────────────────────────────────┴────────────────────────────────────────┘"
      ]
     },
     "execution_count": 22,
     "metadata": {},
     "output_type": "execute_result"
    }
   ],
   "source": [
    "df_feedback = df_feedback.select(reordered_columns_feedback)\n",
    "df_feedback.head()"
   ]
  },
  {
   "cell_type": "code",
   "execution_count": 23,
   "metadata": {},
   "outputs": [],
   "source": [
    "df_feedback.write_csv(\"/Users/solimlegris/Projects/h-arc-osf/survey/feedback.csv\")"
   ]
  },
  {
   "cell_type": "markdown",
   "metadata": {},
   "source": [
    "# demographics\n"
   ]
  },
  {
   "cell_type": "code",
   "execution_count": 24,
   "metadata": {},
   "outputs": [
    {
     "data": {
      "text/html": [
       "<div><style>\n",
       ".dataframe > thead > tr,\n",
       ".dataframe > tbody > tr {\n",
       "  text-align: right;\n",
       "  white-space: pre-wrap;\n",
       "}\n",
       "</style>\n",
       "<small>shape: (5, 11)</small><table border=\"1\" class=\"dataframe\"><thead><tr><th>exp_name</th><th>task_type</th><th>hashed_id</th><th>age</th><th>gender</th><th>race</th><th>education_level</th><th>household_income</th><th>normal_vision</th><th>color_blind</th><th>fluent_english</th></tr><tr><td>str</td><td>str</td><td>str</td><td>f32</td><td>str</td><td>str</td><td>str</td><td>str</td><td>str</td><td>str</td><td>str</td></tr></thead><tbody><tr><td>&quot;expv6_4&quot;</td><td>&quot;evaluation&quot;</td><td>&quot;bd5156b61b4c1e8436fd9c6f4b56e518&quot;</td><td>53.0</td><td>&quot;Man&quot;</td><td>&quot;Asian&quot;</td><td>&quot;Graduate Degree (MA/MS/MPhil/Other)&quot;</td><td>&quot;$40,000–$59,999&quot;</td><td>&quot;Yes&quot;</td><td>&quot;No&quot;</td><td>&quot;Yes&quot;</td></tr><tr><td>&quot;expv2&quot;</td><td>&quot;training&quot;</td><td>&quot;fb11b459ca7e8efc451096a15f906516&quot;</td><td>36.0</td><td>&quot;Man&quot;</td><td>&quot;White&quot;</td><td>&quot;Undergraduate Degree (BA/BS/Other)&quot;</td><td>&quot;$20,000–$39,999&quot;</td><td>&quot;Yes&quot;</td><td>&quot;No&quot;</td><td>&quot;Yes&quot;</td></tr><tr><td>&quot;expv1&quot;</td><td>&quot;training&quot;</td><td>&quot;2e0aa57f3c0e4f5995206a9446937e3b&quot;</td><td>54.0</td><td>&quot;female&quot;</td><td>null</td><td>null</td><td>null</td><td>null</td><td>null</td><td>null</td></tr><tr><td>&quot;expv6_6&quot;</td><td>&quot;evaluation&quot;</td><td>&quot;cae2d6af70f490bec3c0c3539002ac67&quot;</td><td>35.0</td><td>&quot;Man&quot;</td><td>&quot;White&quot;</td><td>&quot;Technical/Community College&quot;</td><td>&quot;Less than $20,000&quot;</td><td>&quot;Yes&quot;</td><td>&quot;No&quot;</td><td>&quot;Yes&quot;</td></tr><tr><td>&quot;expv6_4&quot;</td><td>&quot;evaluation&quot;</td><td>&quot;660da56639d6c1adf6d11cb40caa07a2&quot;</td><td>44.0</td><td>&quot;Man&quot;</td><td>&quot;White&quot;</td><td>&quot;Undergraduate Degree (BA/BS/Other)&quot;</td><td>&quot;$100,000–$199,999&quot;</td><td>&quot;Yes&quot;</td><td>&quot;No&quot;</td><td>&quot;Yes&quot;</td></tr></tbody></table></div>"
      ],
      "text/plain": [
       "shape: (5, 11)\n",
       "┌──────────┬────────────┬────────────┬──────┬───┬────────────┬────────────┬────────────┬───────────┐\n",
       "│ exp_name ┆ task_type  ┆ hashed_id  ┆ age  ┆ … ┆ household_ ┆ normal_vis ┆ color_blin ┆ fluent_en │\n",
       "│ ---      ┆ ---        ┆ ---        ┆ ---  ┆   ┆ income     ┆ ion        ┆ d          ┆ glish     │\n",
       "│ str      ┆ str        ┆ str        ┆ f32  ┆   ┆ ---        ┆ ---        ┆ ---        ┆ ---       │\n",
       "│          ┆            ┆            ┆      ┆   ┆ str        ┆ str        ┆ str        ┆ str       │\n",
       "╞══════════╪════════════╪════════════╪══════╪═══╪════════════╪════════════╪════════════╪═══════════╡\n",
       "│ expv6_4  ┆ evaluation ┆ bd5156b61b ┆ 53.0 ┆ … ┆ $40,000–$5 ┆ Yes        ┆ No         ┆ Yes       │\n",
       "│          ┆            ┆ 4c1e8436fd ┆      ┆   ┆ 9,999      ┆            ┆            ┆           │\n",
       "│          ┆            ┆ 9c6f4b56e5 ┆      ┆   ┆            ┆            ┆            ┆           │\n",
       "│          ┆            ┆ 18         ┆      ┆   ┆            ┆            ┆            ┆           │\n",
       "│ expv2    ┆ training   ┆ fb11b459ca ┆ 36.0 ┆ … ┆ $20,000–$3 ┆ Yes        ┆ No         ┆ Yes       │\n",
       "│          ┆            ┆ 7e8efc4510 ┆      ┆   ┆ 9,999      ┆            ┆            ┆           │\n",
       "│          ┆            ┆ 96a15f9065 ┆      ┆   ┆            ┆            ┆            ┆           │\n",
       "│          ┆            ┆ 16         ┆      ┆   ┆            ┆            ┆            ┆           │\n",
       "│ expv1    ┆ training   ┆ 2e0aa57f3c ┆ 54.0 ┆ … ┆ null       ┆ null       ┆ null       ┆ null      │\n",
       "│          ┆            ┆ 0e4f599520 ┆      ┆   ┆            ┆            ┆            ┆           │\n",
       "│          ┆            ┆ 6a9446937e ┆      ┆   ┆            ┆            ┆            ┆           │\n",
       "│          ┆            ┆ 3b         ┆      ┆   ┆            ┆            ┆            ┆           │\n",
       "│ expv6_6  ┆ evaluation ┆ cae2d6af70 ┆ 35.0 ┆ … ┆ Less than  ┆ Yes        ┆ No         ┆ Yes       │\n",
       "│          ┆            ┆ f490bec3c0 ┆      ┆   ┆ $20,000    ┆            ┆            ┆           │\n",
       "│          ┆            ┆ c3539002ac ┆      ┆   ┆            ┆            ┆            ┆           │\n",
       "│          ┆            ┆ 67         ┆      ┆   ┆            ┆            ┆            ┆           │\n",
       "│ expv6_4  ┆ evaluation ┆ 660da56639 ┆ 44.0 ┆ … ┆ $100,000–$ ┆ Yes        ┆ No         ┆ Yes       │\n",
       "│          ┆            ┆ d6c1adf6d1 ┆      ┆   ┆ 199,999    ┆            ┆            ┆           │\n",
       "│          ┆            ┆ 1cb40caa07 ┆      ┆   ┆            ┆            ┆            ┆           │\n",
       "│          ┆            ┆ a2         ┆      ┆   ┆            ┆            ┆            ┆           │\n",
       "└──────────┴────────────┴────────────┴──────┴───┴────────────┴────────────┴────────────┴───────────┘"
      ]
     },
     "execution_count": 24,
     "metadata": {},
     "output_type": "execute_result"
    }
   ],
   "source": [
    "df_demographics = df_all_.select(\n",
    "    \"exp_name\",\n",
    "    \"task_type\",\n",
    "    \"hashed_id\",\n",
    "    \"age\",\n",
    "    \"gender\",\n",
    "    \"race\",\n",
    "    \"education_level\",\n",
    "    \"household_income\",\n",
    "    \"normal_vision\",\n",
    "    \"color_blind\",\n",
    "    \"fluent_english\",\n",
    ").unique(\"hashed_id\")\n",
    "df_demographics.head()"
   ]
  },
  {
   "cell_type": "code",
   "execution_count": 25,
   "metadata": {},
   "outputs": [],
   "source": [
    "df_demographics.write_csv(\n",
    "    \"/Users/solimlegris/Projects/h-arc-osf/survey/demographics.csv\"\n",
    ")"
   ]
  },
  {
   "cell_type": "markdown",
   "metadata": {},
   "source": [
    "# withdraw data\n"
   ]
  },
  {
   "cell_type": "code",
   "execution_count": 26,
   "metadata": {},
   "outputs": [],
   "source": [
    "reordered_columns_withdraw = [\n",
    "    # Experiment metadata\n",
    "    \"exp_name\",\n",
    "    \"task_type\",\n",
    "    # Identifiers and metadata\n",
    "    \"hashed_id\",\n",
    "    \"withdraw\",\n",
    "    \"withdraw_reason\",\n",
    "    \"withdraw_comment\",\n",
    "]"
   ]
  },
  {
   "cell_type": "code",
   "execution_count": 27,
   "metadata": {},
   "outputs": [
    {
     "data": {
      "text/html": [
       "<div><style>\n",
       ".dataframe > thead > tr,\n",
       ".dataframe > tbody > tr {\n",
       "  text-align: right;\n",
       "  white-space: pre-wrap;\n",
       "}\n",
       "</style>\n",
       "<small>shape: (5, 6)</small><table border=\"1\" class=\"dataframe\"><thead><tr><th>exp_name</th><th>task_type</th><th>hashed_id</th><th>withdraw</th><th>withdraw_reason</th><th>withdraw_comment</th></tr><tr><td>str</td><td>str</td><td>str</td><td>bool</td><td>str</td><td>str</td></tr></thead><tbody><tr><td>&quot;expv6_4&quot;</td><td>&quot;evaluation&quot;</td><td>&quot;28dfd3dab1bd5825869467245a1af7a8&quot;</td><td>false</td><td>null</td><td>null</td></tr><tr><td>&quot;expv4&quot;</td><td>&quot;training&quot;</td><td>&quot;e58568496d2090ed40f1c1614a51265c&quot;</td><td>false</td><td>null</td><td>null</td></tr><tr><td>&quot;expv4&quot;</td><td>&quot;training&quot;</td><td>&quot;faad81dd4a698db576d23febbfe9812b&quot;</td><td>false</td><td>null</td><td>null</td></tr><tr><td>&quot;expv0&quot;</td><td>&quot;training&quot;</td><td>&quot;2204a682efe5fa9182c972e992355d99&quot;</td><td>null</td><td>null</td><td>null</td></tr><tr><td>&quot;expv6_4&quot;</td><td>&quot;evaluation&quot;</td><td>&quot;832fcaa84fd16b40b5d030c1a50418ad&quot;</td><td>true</td><td>&quot;I do not understand what I am supposed to do.&quot;</td><td>&quot;The examples given as inputs (especially the …</td></tr></tbody></table></div>"
      ],
      "text/plain": [
       "shape: (5, 6)\n",
       "┌──────────┬────────────┬─────────────────────┬──────────┬────────────────────┬────────────────────┐\n",
       "│ exp_name ┆ task_type  ┆ hashed_id           ┆ withdraw ┆ withdraw_reason    ┆ withdraw_comment   │\n",
       "│ ---      ┆ ---        ┆ ---                 ┆ ---      ┆ ---                ┆ ---                │\n",
       "│ str      ┆ str        ┆ str                 ┆ bool     ┆ str                ┆ str                │\n",
       "╞══════════╪════════════╪═════════════════════╪══════════╪════════════════════╪════════════════════╡\n",
       "│ expv6_4  ┆ evaluation ┆ 28dfd3dab1bd5825869 ┆ false    ┆ null               ┆ null               │\n",
       "│          ┆            ┆ 467245a1af7a8       ┆          ┆                    ┆                    │\n",
       "│ expv4    ┆ training   ┆ e58568496d2090ed40f ┆ false    ┆ null               ┆ null               │\n",
       "│          ┆            ┆ 1c1614a51265c       ┆          ┆                    ┆                    │\n",
       "│ expv4    ┆ training   ┆ faad81dd4a698db576d ┆ false    ┆ null               ┆ null               │\n",
       "│          ┆            ┆ 23febbfe9812b       ┆          ┆                    ┆                    │\n",
       "│ expv0    ┆ training   ┆ 2204a682efe5fa9182c ┆ null     ┆ null               ┆ null               │\n",
       "│          ┆            ┆ 972e992355d99       ┆          ┆                    ┆                    │\n",
       "│ expv6_4  ┆ evaluation ┆ 832fcaa84fd16b40b5d ┆ true     ┆ I do not           ┆ The examples given │\n",
       "│          ┆            ┆ 030c1a50418ad       ┆          ┆ understand what I  ┆ as inputs          │\n",
       "│          ┆            ┆                     ┆          ┆ am supposed to do. ┆ (especially the …  │\n",
       "└──────────┴────────────┴─────────────────────┴──────────┴────────────────────┴────────────────────┘"
      ]
     },
     "execution_count": 27,
     "metadata": {},
     "output_type": "execute_result"
    }
   ],
   "source": [
    "df_withdraw = df_all_.select(reordered_columns_withdraw)\n",
    "df_withdraw = df_withdraw.unique(\"hashed_id\")\n",
    "df_withdraw.head()"
   ]
  },
  {
   "cell_type": "code",
   "execution_count": 28,
   "metadata": {},
   "outputs": [],
   "source": [
    "df_withdraw.write_csv(\"/Users/solimlegris/Projects/h-arc-osf/survey/withdraw.csv\")"
   ]
  }
 ],
 "metadata": {
  "kernelspec": {
   "display_name": ".venv",
   "language": "python",
   "name": "python3"
  },
  "language_info": {
   "codemirror_mode": {
    "name": "ipython",
    "version": 3
   },
   "file_extension": ".py",
   "mimetype": "text/x-python",
   "name": "python",
   "nbconvert_exporter": "python",
   "pygments_lexer": "ipython3",
   "version": "3.12.5"
  }
 },
 "nbformat": 4,
 "nbformat_minor": 2
}

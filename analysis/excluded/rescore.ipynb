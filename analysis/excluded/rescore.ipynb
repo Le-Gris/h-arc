{
 "cells": [
  {
   "cell_type": "code",
   "execution_count": 61,
   "metadata": {},
   "outputs": [],
   "source": [
    "import polars as pl\n",
    "import sys\n",
    "\n",
    "sys.path.append(\"../..\")\n",
    "from src.utils import *\n",
    "import json\n",
    "import numpy as np\n",
    "\n",
    "import matplotlib.pyplot as plt\n",
    "from matplotlib.colors import ListedColormap, Normalize\n",
    "from typing import List, Tuple\n",
    "import json\n",
    "\n",
    "Integer = int\n",
    "Grid = Tuple[Tuple[Integer]]"
   ]
  },
  {
   "cell_type": "code",
   "execution_count": 62,
   "metadata": {},
   "outputs": [],
   "source": [
    "clean_summary_path = \"../../data/clean_summary_data.csv\"\n",
    "clean_summary_incomplete_path = \"../../data/clean_summary_data_incomplete.csv\"\n",
    "clean_data_path = \"../../data/clean_data.csv\"\n",
    "clean_incomplete_path = \"../../data/clean_data_incomplete.csv\"\n",
    "clean_errors_path = \"../../data/clean_errors.csv\"\n",
    "clean_errors_incomplete_path = \"../../data/clean_errors_incomplete.csv\"\n",
    "\n",
    "df_summary = pl.read_csv(clean_summary_path)\n",
    "df_summary_incomplete = pl.read_csv(clean_summary_incomplete_path)\n",
    "df_all = pl.read_csv(clean_data_path)\n",
    "df_all_incomplete = pl.read_csv(clean_incomplete_path)\n",
    "df_errors = pl.read_csv(clean_errors_path)\n",
    "df_errors_incomplete = pl.read_csv(clean_errors_incomplete_path)"
   ]
  },
  {
   "cell_type": "code",
   "execution_count": 63,
   "metadata": {},
   "outputs": [],
   "source": [
    "ARC_eval_path = \"../../../ARC/data/evaluation\"\n",
    "ARC_training_path = \"../../../ARC/data/training\""
   ]
  },
  {
   "cell_type": "markdown",
   "metadata": {},
   "source": [
    "Note: if ever I want to recover the original files, I can simply get the files from the arc_project repo and rerun the \"clean-data-files.ipynb\" pipeline.\n"
   ]
  },
  {
   "cell_type": "markdown",
   "metadata": {},
   "source": [
    "The ARC .csv files should also be regenerated according to updates.\n"
   ]
  },
  {
   "cell_type": "markdown",
   "metadata": {},
   "source": [
    "# 79fb03f4\n",
    "\n",
    "No participant got this one correct under any interpretation so I'll just leave it as is.\n",
    "\n",
    "The website will show the original version (revert back and update).\n"
   ]
  },
  {
   "cell_type": "markdown",
   "metadata": {},
   "source": [
    "# b4a43f3b\n",
    "\n",
    "For this task, I'll update the website so that the task examples are the latest versions. Participants that match the latest test output are scored correct and any further attempts (if any) are discarded.\n"
   ]
  },
  {
   "cell_type": "code",
   "execution_count": 64,
   "metadata": {},
   "outputs": [],
   "source": [
    "task_name = \"b4a43f3b.json\"\n",
    "task_json = json.load(open(f\"{ARC_eval_path}/{task_name}\"))\n",
    "correct_test_output = grid2str(task_json[\"test\"][0][\"output\"])"
   ]
  },
  {
   "cell_type": "code",
   "execution_count": 65,
   "metadata": {},
   "outputs": [],
   "source": [
    "def get_incorrectly_scored(df, task_name, correct_test_output):\n",
    "    return (\n",
    "        df.filter(\n",
    "            (pl.col(\"task_name\") == task_name)\n",
    "            & (pl.col(\"test_output_grid\") == correct_test_output)\n",
    "            & ~pl.col(\"solved\")\n",
    "        )\n",
    "        .group_by(\"joint_id_task\")\n",
    "        .agg(\n",
    "            pl.min(\"attempt_number\"),\n",
    "            pl.first(\"first_written_solution\"),\n",
    "            pl.first(\"last_written_solution\"),\n",
    "        )\n",
    "    )"
   ]
  },
  {
   "cell_type": "code",
   "execution_count": 66,
   "metadata": {},
   "outputs": [],
   "source": [
    "incorrectly_scored = get_incorrectly_scored(df_summary, task_name, correct_test_output)\n",
    "incorrectly_scored_incomplete = get_incorrectly_scored(\n",
    "    df_summary_incomplete, task_name, correct_test_output\n",
    ")"
   ]
  },
  {
   "cell_type": "code",
   "execution_count": 67,
   "metadata": {},
   "outputs": [],
   "source": [
    "def update_scoring(\n",
    "    df_summary, df_all, df_errors, incorrectly_scored, task_name, correct_test_output\n",
    "):\n",
    "    for row in incorrectly_scored.iter_rows(named=True):\n",
    "        joint_id_task = row[\"joint_id_task\"]\n",
    "        attempt_number = row[\"attempt_number\"]\n",
    "\n",
    "        # update to solved\n",
    "        df_summary = df_summary.with_columns(\n",
    "            pl.when(\n",
    "                (pl.col(\"joint_id_task\") == joint_id_task)\n",
    "                & (pl.col(\"attempt_number\") == attempt_number)\n",
    "            )\n",
    "            .then(True)\n",
    "            .otherwise(pl.col(\"solved\"))\n",
    "            .alias(\"solved\"),\n",
    "        )\n",
    "        max_action = (\n",
    "            df_all.filter(\n",
    "                (pl.col(\"joint_id_task\") == joint_id_task)\n",
    "                & (pl.col(\"attempt_number\") == attempt_number)\n",
    "            )\n",
    "            .select(pl.max(\"num_actions\"))\n",
    "            .item()\n",
    "        )\n",
    "        df_all = df_all.with_columns(\n",
    "            pl.when(\n",
    "                (pl.col(\"joint_id_task\") == joint_id_task)\n",
    "                & (pl.col(\"attempt_number\") == attempt_number)\n",
    "                & (pl.col(\"num_actions\") == max_action)\n",
    "            )\n",
    "            .then(True)\n",
    "            .otherwise(pl.col(\"solved\"))\n",
    "            .alias(\"solved\")\n",
    "        )\n",
    "\n",
    "        # check if attempt number 1 to switch written solution to first one\n",
    "        if attempt_number == 1:\n",
    "            df_summary = df_summary.with_columns(\n",
    "                pl.when(\n",
    "                    (pl.col(\"joint_id_task\") == joint_id_task)\n",
    "                    & (pl.col(\"attempt_number\") == attempt_number)\n",
    "                )\n",
    "                .then(pl.col(\"first_written_solution\"))\n",
    "                .otherwise(pl.col(\"last_written_solution\"))\n",
    "                .alias(\"last_written_solution\"),\n",
    "            )\n",
    "            df_all = df_all.with_columns(\n",
    "                pl.when(\n",
    "                    (pl.col(\"joint_id_task\") == joint_id_task)\n",
    "                    & (pl.col(\"attempt_number\") == attempt_number)\n",
    "                )\n",
    "                .then(pl.col(\"first_written_solution\"))\n",
    "                .otherwise(pl.col(\"last_written_solution\"))\n",
    "                .alias(\"last_written_solution\"),\n",
    "            )\n",
    "\n",
    "        # remove correct grid from errors\n",
    "        df_errors = df_errors.filter(\n",
    "            ~(\n",
    "                (pl.col(\"test_output_grid\") == correct_test_output)\n",
    "                & (pl.col(\"task_name\") == task_name)\n",
    "            )\n",
    "        )\n",
    "\n",
    "        # remove subsequent submissions from errors\n",
    "        other_submissions = (\n",
    "            (\n",
    "                df_summary.filter(\n",
    "                    (\n",
    "                        (pl.col(\"joint_id_task\") == joint_id_task)\n",
    "                        & (pl.col(\"attempt_number\") > attempt_number)\n",
    "                    )\n",
    "                )\n",
    "            )\n",
    "            .group_by(\"test_output_grid\")\n",
    "            .agg(pl.len().alias(\"count\"))\n",
    "        )\n",
    "        other_submission_errors = df_errors.filter(\n",
    "            pl.col(\"test_output_grid\").is_in(\n",
    "                other_submissions.select(\"test_output_grid\")\n",
    "            )\n",
    "            & (pl.col(\"task_name\") == task_name)\n",
    "        )\n",
    "        other_submission_errors = other_submission_errors.join(\n",
    "            other_submissions, on=\"test_output_grid\"\n",
    "        )\n",
    "        other_submission_errors = other_submission_errors.with_columns(\n",
    "            pl.col(\"count\") - pl.col(\"count_right\")\n",
    "        ).drop(\"count_right\")\n",
    "        other_submission_errors = other_submission_errors.filter(pl.col(\"count\") > 0)\n",
    "        df_errors = df_errors.filter(\n",
    "            ~(\n",
    "                pl.col(\"test_output_grid\").is_in(\n",
    "                    other_submissions.select(\"test_output_grid\")\n",
    "                )\n",
    "                & (pl.col(\"task_name\") == task_name)\n",
    "            )\n",
    "        ).vstack(other_submission_errors)\n",
    "\n",
    "        # remove further attempts\n",
    "        df_summary = df_summary.filter(\n",
    "            ~(\n",
    "                (pl.col(\"joint_id_task\") == joint_id_task)\n",
    "                & (pl.col(\"attempt_number\") > attempt_number)\n",
    "            )\n",
    "        )\n",
    "        df_all = df_all.filter(\n",
    "            ~(\n",
    "                (pl.col(\"joint_id_task\") == joint_id_task)\n",
    "                & (pl.col(\"attempt_number\") > attempt_number)\n",
    "            )\n",
    "        )\n",
    "\n",
    "    return df_summary, df_all, df_errors"
   ]
  },
  {
   "cell_type": "code",
   "execution_count": 68,
   "metadata": {},
   "outputs": [],
   "source": [
    "# Run for complete data\n",
    "df_summary, df_all, df_errors = update_scoring(\n",
    "    df_summary, df_all, df_errors, incorrectly_scored, task_name, correct_test_output\n",
    ")\n",
    "\n",
    "# Run for incomplete data\n",
    "df_summary_incomplete, df_all_incomplete, df_errors_incomplete = update_scoring(\n",
    "    df_summary_incomplete,\n",
    "    df_all_incomplete,\n",
    "    df_errors_incomplete,\n",
    "    incorrectly_scored_incomplete,\n",
    "    task_name,\n",
    "    correct_test_output,\n",
    ")"
   ]
  },
  {
   "cell_type": "markdown",
   "metadata": {},
   "source": [
    "# e6de6e8f\n",
    "\n",
    "For this task, leave to current state. Participants were given incorrect training examples but the rule could still be inferred.\n",
    "\n",
    "This task should be excluded from accuracy and IRT model.\n"
   ]
  },
  {
   "cell_type": "markdown",
   "metadata": {},
   "source": [
    "# 423a55dc\n",
    "\n",
    "Update to latest version and manually score participants\n"
   ]
  },
  {
   "cell_type": "code",
   "execution_count": 69,
   "metadata": {},
   "outputs": [],
   "source": [
    "task_name = \"423a55dc.json\"\n",
    "task_json = json.load(open(f\"{ARC_eval_path}/{task_name}\"))\n",
    "correct_test_output = grid2str(task_json[\"test\"][0][\"output\"])"
   ]
  },
  {
   "cell_type": "code",
   "execution_count": 70,
   "metadata": {},
   "outputs": [],
   "source": [
    "incorrectly_scored = get_incorrectly_scored(df_summary, task_name, correct_test_output)\n",
    "incorrectly_scored_incomplete = get_incorrectly_scored(\n",
    "    df_summary_incomplete, task_name, correct_test_output\n",
    ")"
   ]
  },
  {
   "cell_type": "code",
   "execution_count": 71,
   "metadata": {},
   "outputs": [],
   "source": [
    "# Run for complete data\n",
    "df_summary, df_all, df_errors = update_scoring(\n",
    "    df_summary, df_all, df_errors, incorrectly_scored, task_name, correct_test_output\n",
    ")\n",
    "\n",
    "# Run for incomplete data\n",
    "df_summary_incomplete, df_all_incomplete, df_errors_incomplete = update_scoring(\n",
    "    df_summary_incomplete,\n",
    "    df_all_incomplete,\n",
    "    df_errors_incomplete,\n",
    "    incorrectly_scored_incomplete,\n",
    "    task_name,\n",
    "    correct_test_output,\n",
    ")"
   ]
  },
  {
   "cell_type": "markdown",
   "metadata": {},
   "source": [
    "# 58e15b12\n",
    "\n",
    "Update to latest version and manually score participants. Two participants got it right accidentally, score as wrong and discard as incomplete attempt data (clear).\n"
   ]
  },
  {
   "cell_type": "code",
   "execution_count": 72,
   "metadata": {},
   "outputs": [],
   "source": [
    "task_name = \"58e15b12.json\"\n",
    "task_json = json.load(open(f\"{ARC_eval_path}/{task_name}\"))\n",
    "correct_test_output = grid2str(task_json[\"test\"][0][\"output\"])"
   ]
  },
  {
   "cell_type": "code",
   "execution_count": 73,
   "metadata": {},
   "outputs": [],
   "source": [
    "wrong_but_right = df_summary.filter(\n",
    "    ((pl.col(\"task_name\") == task_name) & pl.col(\"solved\"))\n",
    ")\n",
    "df_summary = df_summary.filter(~((pl.col(\"task_name\") == task_name) & pl.col(\"solved\")))"
   ]
  },
  {
   "cell_type": "code",
   "execution_count": 74,
   "metadata": {},
   "outputs": [],
   "source": [
    "df_all = df_all.filter(\n",
    "    ~pl.col(\"joint_id_task\").is_in(wrong_but_right.select(\"joint_id_task\"))\n",
    ")"
   ]
  },
  {
   "cell_type": "code",
   "execution_count": 75,
   "metadata": {},
   "outputs": [],
   "source": [
    "incorrectly_scored = get_incorrectly_scored(df_summary, task_name, correct_test_output)\n",
    "incorrectly_scored_incomplete = get_incorrectly_scored(\n",
    "    df_summary_incomplete, task_name, correct_test_output\n",
    ")"
   ]
  },
  {
   "cell_type": "code",
   "execution_count": 76,
   "metadata": {},
   "outputs": [],
   "source": [
    "# Run for complete data\n",
    "df_summary, df_all, df_errors = update_scoring(\n",
    "    df_summary, df_all, df_errors, incorrectly_scored, task_name, correct_test_output\n",
    ")\n",
    "\n",
    "\n",
    "# Run for incomplete data\n",
    "df_summary_incomplete, df_all_incomplete, df_errors_incomplete = update_scoring(\n",
    "    df_summary_incomplete,\n",
    "    df_all_incomplete,\n",
    "    df_errors_incomplete,\n",
    "    incorrectly_scored_incomplete,\n",
    "    task_name,\n",
    "    correct_test_output,\n",
    ")"
   ]
  },
  {
   "cell_type": "markdown",
   "metadata": {},
   "source": [
    "# 20818e16\n",
    "\n",
    "Rule could be inferred so update to new.\n"
   ]
  },
  {
   "cell_type": "markdown",
   "metadata": {},
   "source": [
    "# 310f3251\n",
    "\n",
    "Revert to previous test example to match people's solutions. Accept alternative solution as well.\n",
    "\n",
    "-- webpage should mention this\n"
   ]
  },
  {
   "cell_type": "code",
   "execution_count": 77,
   "metadata": {},
   "outputs": [],
   "source": [
    "task_name = \"310f3251.json\"\n",
    "task_json = {\n",
    "    \"train\": [\n",
    "        {\n",
    "            \"input\": [[0, 0], [0, 7]],\n",
    "            \"output\": [\n",
    "                [2, 0, 2, 0, 2, 0],\n",
    "                [0, 7, 0, 7, 0, 7],\n",
    "                [2, 0, 2, 0, 2, 0],\n",
    "                [0, 7, 0, 7, 0, 7],\n",
    "                [2, 0, 2, 0, 2, 0],\n",
    "                [0, 7, 0, 7, 0, 7],\n",
    "            ],\n",
    "        },\n",
    "        {\n",
    "            \"input\": [[0, 0, 0], [0, 0, 6], [6, 0, 0]],\n",
    "            \"output\": [\n",
    "                [0, 2, 0, 0, 2, 0, 0, 2, 0],\n",
    "                [0, 0, 6, 0, 0, 6, 0, 0, 6],\n",
    "                [6, 0, 0, 6, 0, 0, 6, 0, 0],\n",
    "                [0, 2, 0, 0, 2, 0, 0, 2, 0],\n",
    "                [0, 0, 6, 0, 0, 6, 0, 0, 6],\n",
    "                [6, 0, 0, 6, 0, 0, 6, 0, 0],\n",
    "                [0, 2, 0, 0, 2, 0, 0, 2, 0],\n",
    "                [0, 0, 6, 0, 0, 6, 0, 0, 6],\n",
    "                [6, 0, 0, 6, 0, 0, 6, 0, 0],\n",
    "            ],\n",
    "        },\n",
    "        {\n",
    "            \"input\": [\n",
    "                [0, 0, 0, 0, 0],\n",
    "                [0, 8, 0, 0, 0],\n",
    "                [0, 8, 0, 0, 0],\n",
    "                [0, 0, 0, 0, 0],\n",
    "                [0, 0, 0, 0, 0],\n",
    "            ],\n",
    "            \"output\": [\n",
    "                [2, 0, 0, 0, 0, 2, 0, 0, 0, 0, 2, 0, 0, 0, 0],\n",
    "                [2, 8, 0, 0, 0, 2, 8, 0, 0, 0, 2, 8, 0, 0, 0],\n",
    "                [0, 8, 0, 0, 0, 0, 8, 0, 0, 0, 0, 8, 0, 0, 0],\n",
    "                [0, 0, 0, 0, 0, 0, 0, 0, 0, 0, 0, 0, 0, 0, 0],\n",
    "                [0, 0, 0, 0, 0, 0, 0, 0, 0, 0, 0, 0, 0, 0, 0],\n",
    "                [2, 0, 0, 0, 0, 2, 0, 0, 0, 0, 2, 0, 0, 0, 0],\n",
    "                [2, 8, 0, 0, 0, 2, 8, 0, 0, 0, 2, 8, 0, 0, 0],\n",
    "                [0, 8, 0, 0, 0, 0, 8, 0, 0, 0, 0, 8, 0, 0, 0],\n",
    "                [0, 0, 0, 0, 0, 0, 0, 0, 0, 0, 0, 0, 0, 0, 0],\n",
    "                [0, 0, 0, 0, 0, 0, 0, 0, 0, 0, 0, 0, 0, 0, 0],\n",
    "                [2, 0, 0, 0, 0, 2, 0, 0, 0, 0, 2, 0, 0, 0, 0],\n",
    "                [2, 8, 0, 0, 0, 2, 8, 0, 0, 0, 2, 8, 0, 0, 0],\n",
    "                [0, 8, 0, 0, 0, 0, 8, 0, 0, 0, 0, 8, 0, 0, 0],\n",
    "                [0, 0, 0, 0, 0, 0, 0, 0, 0, 0, 0, 0, 0, 0, 0],\n",
    "                [0, 0, 0, 0, 0, 0, 0, 0, 0, 0, 0, 0, 0, 0, 0],\n",
    "            ],\n",
    "        },\n",
    "        {\n",
    "            \"input\": [[0, 0, 0, 0], [0, 0, 5, 0], [0, 0, 0, 0], [0, 5, 0, 0]],\n",
    "            \"output\": [\n",
    "                [0, 2, 0, 0, 0, 2, 0, 0, 0, 2, 0, 0],\n",
    "                [0, 0, 5, 0, 0, 0, 5, 0, 0, 0, 5, 0],\n",
    "                [2, 0, 0, 0, 2, 0, 0, 0, 2, 0, 0, 0],\n",
    "                [0, 5, 0, 0, 0, 5, 0, 0, 0, 5, 0, 0],\n",
    "                [0, 2, 0, 0, 0, 2, 0, 0, 0, 2, 0, 0],\n",
    "                [0, 0, 5, 0, 0, 0, 5, 0, 0, 0, 5, 0],\n",
    "                [2, 0, 0, 0, 2, 0, 0, 0, 2, 0, 0, 0],\n",
    "                [0, 5, 0, 0, 0, 5, 0, 0, 0, 5, 0, 0],\n",
    "                [0, 2, 0, 0, 0, 2, 0, 0, 0, 2, 0, 0],\n",
    "                [0, 0, 5, 0, 0, 0, 5, 0, 0, 0, 5, 0],\n",
    "                [2, 0, 0, 0, 2, 0, 0, 0, 2, 0, 0, 0],\n",
    "                [0, 5, 0, 0, 0, 5, 0, 0, 0, 5, 0, 0],\n",
    "            ],\n",
    "        },\n",
    "    ],\n",
    "    \"test\": [\n",
    "        {\n",
    "            \"input\": [[0, 0, 4, 0], [0, 0, 0, 0], [0, 0, 0, 0], [4, 0, 0, 0]],\n",
    "            \"output\": [\n",
    "                [0, 0, 4, 0, 0, 0, 4, 0, 0, 0, 4, 0],\n",
    "                [0, 0, 0, 0, 0, 0, 0, 0, 0, 0, 0, 0],\n",
    "                [0, 0, 0, 2, 0, 0, 0, 2, 0, 0, 0, 0],\n",
    "                [4, 2, 0, 0, 4, 2, 0, 0, 4, 2, 0, 0],\n",
    "                [0, 0, 4, 0, 0, 0, 4, 0, 0, 0, 4, 0],\n",
    "                [0, 0, 0, 0, 0, 0, 0, 0, 0, 0, 0, 0],\n",
    "                [0, 0, 0, 2, 0, 0, 0, 2, 0, 0, 0, 0],\n",
    "                [4, 2, 0, 0, 4, 2, 0, 0, 4, 2, 0, 0],\n",
    "                [0, 0, 4, 0, 0, 0, 4, 0, 0, 0, 4, 0],\n",
    "                [0, 0, 0, 0, 0, 0, 0, 0, 0, 0, 0, 0],\n",
    "                [0, 0, 0, 2, 0, 0, 0, 2, 0, 0, 0, 0],\n",
    "                [4, 0, 0, 0, 4, 0, 0, 0, 4, 0, 0, 0],\n",
    "            ],\n",
    "        }\n",
    "    ],\n",
    "}\n",
    "correct_test_output = grid2str(task_json[\"test\"][0][\"output\"])"
   ]
  },
  {
   "cell_type": "code",
   "execution_count": 78,
   "metadata": {},
   "outputs": [],
   "source": [
    "def plot_grid(grid: Grid, ax: plt.Axes = None, title: str = None) -> None:\n",
    "    \"\"\"\n",
    "    Plots a single grid.\n",
    "\n",
    "    Args:\n",
    "    grid (Grid): The grid to be plotted.\n",
    "    ax (plt.Axes, optional): The axes on which to plot. If None, a new figure is created.\n",
    "    title (str, optional): The title for the plot.\n",
    "    \"\"\"\n",
    "    if ax is None:\n",
    "        _, ax = plt.subplots(figsize=(5, 5))\n",
    "\n",
    "    cmap = ListedColormap(\n",
    "        [\n",
    "            \"#000\",\n",
    "            \"#0074D9\",\n",
    "            \"#FF4136\",\n",
    "            \"#2ECC40\",\n",
    "            \"#FFDC00\",\n",
    "            \"#AAAAAA\",\n",
    "            \"#F012BE\",\n",
    "            \"#FF851B\",\n",
    "            \"#7FDBFF\",\n",
    "            \"#870C25\",\n",
    "        ]\n",
    "    )\n",
    "    norm = Normalize(vmin=0, vmax=9)\n",
    "\n",
    "    ax.imshow(grid, cmap=cmap, norm=norm)\n",
    "    ax.axis(\"off\")\n",
    "\n",
    "    if title:\n",
    "        ax.set_title(title)\n",
    "\n",
    "    plt.tight_layout()\n",
    "    if ax is None:\n",
    "        plt.show()\n",
    "\n",
    "\n",
    "def format_grid(grid: List[List[int]]) -> Grid:\n",
    "    \"\"\"\n",
    "    grid type casting\n",
    "    \"\"\"\n",
    "    return tuple(tuple(row) for row in grid)\n",
    "\n",
    "\n",
    "def format_example(example: dict) -> dict:\n",
    "    \"\"\"\n",
    "    example data type\n",
    "    \"\"\"\n",
    "    return {\n",
    "        \"input\": format_grid(example[\"input\"]),\n",
    "        \"output\": format_grid(example[\"output\"]),\n",
    "    }"
   ]
  },
  {
   "cell_type": "code",
   "execution_count": 79,
   "metadata": {},
   "outputs": [],
   "source": [
    "task_alt = [\n",
    "    format_example(example) for example in task_json[\"train\"] + task_json[\"test\"]\n",
    "]"
   ]
  },
  {
   "cell_type": "code",
   "execution_count": 80,
   "metadata": {},
   "outputs": [
    {
     "data": {
      "image/png": "[encoded data removed]",
      "text/plain": [
       "<Figure size 500x500 with 1 Axes>"
      ]
     },
     "metadata": {},
     "output_type": "display_data"
    }
   ],
   "source": [
    "plot_grid(task_alt[-1][\"output\"])"
   ]
  },
  {
   "cell_type": "code",
   "execution_count": 81,
   "metadata": {},
   "outputs": [],
   "source": [
    "alt_out = []\n",
    "for i, row in enumerate(task_alt[-1][\"output\"]):\n",
    "    new_row = []\n",
    "    for j, col in enumerate(row):\n",
    "        if (i in [2, 6, 10]) & (j == (len(row) - 1)) & (i != 0):\n",
    "            new_row.append(2)\n",
    "        elif (i == len(task_alt[-1][\"output\"]) - 1) & (j in [1, 5, 9]):\n",
    "            new_row.append(2)\n",
    "        else:\n",
    "            new_row.append(col)\n",
    "    alt_out.append(tuple(new_row))\n",
    "alt_out = tuple(alt_out)"
   ]
  },
  {
   "cell_type": "code",
   "execution_count": 82,
   "metadata": {},
   "outputs": [
    {
     "data": {
      "image/png": "[encoded data removed]",
      "text/plain": [
       "<Figure size 500x500 with 1 Axes>"
      ]
     },
     "metadata": {},
     "output_type": "display_data"
    }
   ],
   "source": [
    "plot_grid(alt_out)"
   ]
  },
  {
   "cell_type": "code",
   "execution_count": 83,
   "metadata": {},
   "outputs": [],
   "source": [
    "alt_out = grid2str(alt_out)"
   ]
  },
  {
   "cell_type": "code",
   "execution_count": 84,
   "metadata": {},
   "outputs": [],
   "source": [
    "incorrectly_scored = get_incorrectly_scored(df_summary, task_name, alt_out)\n",
    "incorrectly_scored_incomplete = get_incorrectly_scored(\n",
    "    df_summary_incomplete, task_name, alt_out\n",
    ")"
   ]
  },
  {
   "cell_type": "code",
   "execution_count": 85,
   "metadata": {},
   "outputs": [],
   "source": [
    "# Run for complete data\n",
    "df_summary, df_all, df_errors = update_scoring(\n",
    "    df_summary, df_all, df_errors, incorrectly_scored, task_name, alt_out\n",
    ")\n",
    "\n",
    "\n",
    "# Run for incomplete data\n",
    "df_summary_incomplete, df_all_incomplete, df_errors_incomplete = update_scoring(\n",
    "    df_summary_incomplete,\n",
    "    df_all_incomplete,\n",
    "    df_errors_incomplete,\n",
    "    incorrectly_scored_incomplete,\n",
    "    task_name,\n",
    "    alt_out,\n",
    ")"
   ]
  },
  {
   "cell_type": "markdown",
   "metadata": {},
   "source": [
    "# b230c067\n",
    "\n",
    "People got correct rule after two tries. Ambiguous rule when only given 2 examples so accept both and keep updated.\n",
    "\n",
    "-- webpage should mention this.\n"
   ]
  },
  {
   "cell_type": "code",
   "execution_count": 86,
   "metadata": {},
   "outputs": [],
   "source": [
    "task_name = \"b230c067.json\"\n",
    "task_json = json.load(open(f\"{ARC_training_path}/{task_name}\"))\n",
    "task_alt = [\n",
    "    format_example(example) for example in task_json[\"train\"] + task_json[\"test\"]\n",
    "]"
   ]
  },
  {
   "cell_type": "code",
   "execution_count": 87,
   "metadata": {},
   "outputs": [
    {
     "data": {
      "image/png": "[encoded data removed]",
      "text/plain": [
       "<Figure size 500x500 with 1 Axes>"
      ]
     },
     "metadata": {},
     "output_type": "display_data"
    }
   ],
   "source": [
    "plot_grid(task_alt[-1][\"output\"])"
   ]
  },
  {
   "cell_type": "code",
   "execution_count": 88,
   "metadata": {},
   "outputs": [],
   "source": [
    "alt_out = []\n",
    "for i, row in enumerate(task_alt[-1][\"output\"]):\n",
    "    new_row = []\n",
    "    for j, col in enumerate(row):\n",
    "        if i < 5 and j > 5 and col == 1:\n",
    "            new_row.append(2)\n",
    "        elif col == 2:\n",
    "            new_row.append(1)\n",
    "        else:\n",
    "            new_row.append(col)\n",
    "    alt_out.append(tuple(new_row))\n",
    "alt_out = tuple(alt_out)"
   ]
  },
  {
   "cell_type": "code",
   "execution_count": 89,
   "metadata": {},
   "outputs": [
    {
     "data": {
      "image/png": "[encoded data removed]",
      "text/plain": [
       "<Figure size 500x500 with 1 Axes>"
      ]
     },
     "metadata": {},
     "output_type": "display_data"
    }
   ],
   "source": [
    "plot_grid(alt_out)"
   ]
  },
  {
   "cell_type": "code",
   "execution_count": 90,
   "metadata": {},
   "outputs": [],
   "source": [
    "alt_out = grid2str(alt_out)"
   ]
  },
  {
   "cell_type": "code",
   "execution_count": 91,
   "metadata": {},
   "outputs": [],
   "source": [
    "incorrectly_scored = get_incorrectly_scored(df_summary, task_name, alt_out)\n",
    "incorrectly_scored_incomplete = get_incorrectly_scored(\n",
    "    df_summary_incomplete, task_name, alt_out\n",
    ")"
   ]
  },
  {
   "cell_type": "code",
   "execution_count": 92,
   "metadata": {},
   "outputs": [],
   "source": [
    "# Run for complete data\n",
    "df_summary, df_all, df_errors = update_scoring(\n",
    "    df_summary, df_all, df_errors, incorrectly_scored, task_name, alt_out\n",
    ")\n",
    "\n",
    "\n",
    "# Run for incomplete data\n",
    "df_summary_incomplete, df_all_incomplete, df_errors_incomplete = update_scoring(\n",
    "    df_summary_incomplete,\n",
    "    df_all_incomplete,\n",
    "    df_errors_incomplete,\n",
    "    incorrectly_scored_incomplete,\n",
    "    task_name,\n",
    "    alt_out,\n",
    ")"
   ]
  },
  {
   "cell_type": "code",
   "execution_count": 93,
   "metadata": {},
   "outputs": [],
   "source": [
    "# Save updated dataframes back to original files\n",
    "df_summary.write_csv(clean_summary_path)\n",
    "df_summary_incomplete.write_csv(clean_summary_incomplete_path)\n",
    "df_all.write_csv(clean_data_path)\n",
    "df_all_incomplete.write_csv(clean_incomplete_path)\n",
    "df_errors.write_csv(clean_errors_path)\n",
    "df_errors_incomplete.write_csv(clean_errors_incomplete_path)"
   ]
  }
 ],
 "metadata": {
  "kernelspec": {
   "display_name": ".venv",
   "language": "python",
   "name": "python3"
  },
  "language_info": {
   "codemirror_mode": {
    "name": "ipython",
    "version": 3
   },
   "file_extension": ".py",
   "mimetype": "text/x-python",
   "name": "python",
   "nbconvert_exporter": "python",
   "pygments_lexer": "ipython3",
   "version": "3.12.5"
  }
 },
 "nbformat": 4,
 "nbformat_minor": 2
}

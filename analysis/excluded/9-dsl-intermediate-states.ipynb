{
 "cells": [
  {
   "cell_type": "code",
   "execution_count": 48,
   "metadata": {},
   "outputs": [],
   "source": [
    "import polars as pl\n",
    "import json\n",
    "from Levenshtein import distance as levenshtein_distance\n",
    "import sys\n",
    "\n",
    "sys.path.append(\"../..\")\n",
    "from src.utils import *"
   ]
  },
  {
   "cell_type": "code",
   "execution_count": 49,
   "metadata": {},
   "outputs": [
    {
     "data": {
      "text/plain": [
       "<polars.config.Config at 0x10aac1880>"
      ]
     },
     "execution_count": 49,
     "metadata": {},
     "output_type": "execute_result"
    }
   ],
   "source": [
    "pl.Config.load_from_file(\"../../polars_cfg.json\")"
   ]
  },
  {
   "cell_type": "code",
   "execution_count": 50,
   "metadata": {},
   "outputs": [],
   "source": [
    "clean_errors = pl.read_csv(\"../../data/clean_errors.csv\").filter(\n",
    "    pl.col(\"task_type\") == \"training\"\n",
    ")\n",
    "clean_errors_incomplete = pl.read_csv(\"../../data/clean_errors_incomplete.csv\").filter(\n",
    "    pl.col(\"task_type\") == \"training\"\n",
    ")\n",
    "errors = clean_errors.vstack(clean_errors_incomplete.select(clean_errors.columns))"
   ]
  },
  {
   "cell_type": "code",
   "execution_count": 51,
   "metadata": {},
   "outputs": [],
   "source": [
    "with open(\"../../../re-arc/intermediate_states.json\", \"r\") as f:\n",
    "    intermediate_states = json.load(f)"
   ]
  },
  {
   "cell_type": "code",
   "execution_count": 52,
   "metadata": {},
   "outputs": [],
   "source": [
    "# for each task, compute edit distance between the intermediate states and errors for that task\n",
    "closest_intermediate = {\n",
    "    \"intermediate_state\": [],\n",
    "    \"edit_distance\": [],\n",
    "}\n",
    "for row in errors.iter_rows(named=True):\n",
    "    error = row[\"test_output_grid\"]\n",
    "    task_id = row[\"task_name\"].split(\".\")[0]\n",
    "    states = intermediate_states[task_id][\"states\"]\n",
    "    variables = intermediate_states[task_id][\"variables\"]\n",
    "    if len(states) == 0:\n",
    "        closest_intermediate[\"intermediate_state\"].append(\"\")\n",
    "        closest_intermediate[\"edit_distance\"].append(-1)\n",
    "        continue\n",
    "    edit_distance = []\n",
    "    for state in states:\n",
    "        state = grid2str(state)\n",
    "        edit_distance.append(levenshtein_distance(error, state))\n",
    "    min_distance = min(edit_distance)\n",
    "    min_index = edit_distance.index(min_distance)\n",
    "    closest_intermediate[\"intermediate_state\"].append(grid2str(states[min_index]))\n",
    "    closest_intermediate[\"edit_distance\"].append(min_distance)"
   ]
  },
  {
   "cell_type": "code",
   "execution_count": 53,
   "metadata": {},
   "outputs": [],
   "source": [
    "closest_intermediate = pl.DataFrame(closest_intermediate)\n",
    "errors = errors.hstack(closest_intermediate)"
   ]
  },
  {
   "cell_type": "code",
   "execution_count": 54,
   "metadata": {},
   "outputs": [],
   "source": [
    "exact_correspondance = errors.filter(pl.col(\"edit_distance\") == 0)\n",
    "num_exact_correspondance = exact_correspondance.sum().select(\"count\")"
   ]
  },
  {
   "cell_type": "code",
   "execution_count": 55,
   "metadata": {},
   "outputs": [
    {
     "data": {
      "text/html": [
       "<div><style>\n",
       ".dataframe > thead > tr,\n",
       ".dataframe > tbody > tr {\n",
       "  text-align: right;\n",
       "  white-space: pre-wrap;\n",
       "}\n",
       "</style>\n",
       "<small>shape: (15, 7)</small><table border=\"1\" class=\"dataframe\"><thead><tr><th>task_name</th><th>test_output_grid</th><th>hashed_output_grid</th><th>task_type</th><th>count</th><th>intermediate_state</th><th>edit_distance</th></tr><tr><td>str</td><td>str</td><td>str</td><td>str</td><td>i64</td><td>str</td><td>i64</td></tr></thead><tbody><tr><td>&quot;017c7c7b.json&quot;</td><td>&quot;|000|000|000|000|000|000|000|000|000|&quot;</td><td>&quot;26341a0d34bff6a9ab39013f22a05325&quot;</td><td>&quot;training&quot;</td><td>16</td><td>&quot;|000|000|000|000|000|000|000|000|000|&quot;</td><td>0</td></tr><tr><td>&quot;f9012d9b.json&quot;</td><td>&quot;|8188188|1881881|8818818|8188188|1881881|8818…</td><td>&quot;1c5fe1913239a349a52348493ed5c52e&quot;</td><td>&quot;training&quot;</td><td>12</td><td>&quot;|8188188|1881881|8818818|8188188|1881881|8818…</td><td>0</td></tr><tr><td>&quot;f8c80d96.json&quot;</td><td>&quot;|4444440040|0000040040|0000040040|4440040040|…</td><td>&quot;c60517fac73948ea0ee213e00736cc7a&quot;</td><td>&quot;training&quot;</td><td>9</td><td>&quot;|4444440040|0000040040|0000040040|4440040040|…</td><td>0</td></tr><tr><td>&quot;ff805c23.json&quot;</td><td>&quot;|444040033300003330040444|4444043333033033334…</td><td>&quot;8f1abb852eea0929f81d43f3fc75a6b9&quot;</td><td>&quot;training&quot;</td><td>9</td><td>&quot;|444040033300003330040444|4444043333033033334…</td><td>0</td></tr><tr><td>&quot;264363fd.json&quot;</td><td>&quot;|444444444444444444444444444444|4444444444444…</td><td>&quot;1c6a04dd58727e7d5dd5c4c05cae8b56&quot;</td><td>&quot;training&quot;</td><td>7</td><td>&quot;|444444444444444444444444444444|4444444444444…</td><td>0</td></tr><tr><td>&quot;7468f01a.json&quot;</td><td>&quot;|11118111|11111881|11111111|88811111|11111111…</td><td>&quot;f3d7bdc41a8cab1aac83c55bb6dc5c9a&quot;</td><td>&quot;training&quot;</td><td>5</td><td>&quot;|11118111|11111881|11111111|88811111|11111111…</td><td>0</td></tr><tr><td>&quot;88a62173.json&quot;</td><td>&quot;|55|05|&quot;</td><td>&quot;898f7815af9f75a41c484bce19af5bdd&quot;</td><td>&quot;training&quot;</td><td>5</td><td>&quot;|55|05|&quot;</td><td>0</td></tr><tr><td>&quot;f8ff0b80.json&quot;</td><td>&quot;|3|1|6|&quot;</td><td>&quot;dadbb5c36ba570a524f1b59c2fc0d3b9&quot;</td><td>&quot;training&quot;</td><td>4</td><td>&quot;|3|1|6|&quot;</td><td>0</td></tr><tr><td>&quot;321b1fc6.json&quot;</td><td>&quot;|0000000000|0440004400|3433034330|0030000300|…</td><td>&quot;36b5003d6e2e291120e445db2003873f&quot;</td><td>&quot;training&quot;</td><td>4</td><td>&quot;|0000000000|0440004400|3433034330|0030000300|…</td><td>0</td></tr><tr><td>&quot;99b1bc43.json&quot;</td><td>&quot;|1011|0111|0010|1011|&quot;</td><td>&quot;c88224aa576407eaf37d0a0e075f7d2e&quot;</td><td>&quot;training&quot;</td><td>4</td><td>&quot;|1011|0111|0010|1011|&quot;</td><td>0</td></tr><tr><td>&quot;e179c5f4.json&quot;</td><td>&quot;|01000|10000|01000|00100|00010|00001|00010|00…</td><td>&quot;7a20c1ab01391176e5377b1ddb45f6c9&quot;</td><td>&quot;training&quot;</td><td>4</td><td>&quot;|01000|10000|01000|00100|00010|00001|00010|00…</td><td>0</td></tr><tr><td>&quot;834ec97d.json&quot;</td><td>&quot;|000000000000|000000000000|000000000000|00000…</td><td>&quot;421639de5611720845e01beb7606c353&quot;</td><td>&quot;training&quot;</td><td>4</td><td>&quot;|000000000000|000000000000|000000000000|00000…</td><td>0</td></tr><tr><td>&quot;06df4c85.json&quot;</td><td>&quot;|00400400400400400400400400|00400400400400400…</td><td>&quot;e7249a9065094a73e71f1df613777ecf&quot;</td><td>&quot;training&quot;</td><td>4</td><td>&quot;|00400400400400400400400400|00400400400400400…</td><td>0</td></tr><tr><td>&quot;a65b410d.json&quot;</td><td>&quot;|333333300|333333000|222220000|000000000|0000…</td><td>&quot;634fa0d5f9b69bce6c221080e1774212&quot;</td><td>&quot;training&quot;</td><td>4</td><td>&quot;|333333300|333333000|222220000|000000000|0000…</td><td>0</td></tr><tr><td>&quot;80af3007.json&quot;</td><td>&quot;|555555555|555555555|555555555|000555000|0005…</td><td>&quot;d7be6724a05de34efdedb3ece205d1ca&quot;</td><td>&quot;training&quot;</td><td>4</td><td>&quot;|555555555|555555555|555555555|000555000|0005…</td><td>0</td></tr></tbody></table></div>"
      ],
      "text/plain": [
       "shape: (15, 7)\n",
       "┌───────────────┬───────────────┬───────────────┬───────────┬───────┬───────────────┬──────────────┐\n",
       "│ task_name     ┆ test_output_g ┆ hashed_output ┆ task_type ┆ count ┆ intermediate_ ┆ edit_distanc │\n",
       "│ ---           ┆ rid           ┆ _grid         ┆ ---       ┆ ---   ┆ state         ┆ e            │\n",
       "│ str           ┆ ---           ┆ ---           ┆ str       ┆ i64   ┆ ---           ┆ ---          │\n",
       "│               ┆ str           ┆ str           ┆           ┆       ┆ str           ┆ i64          │\n",
       "╞═══════════════╪═══════════════╪═══════════════╪═══════════╪═══════╪═══════════════╪══════════════╡\n",
       "│ 017c7c7b.json ┆ |000|000|000| ┆ 26341a0d34bff ┆ training  ┆ 16    ┆ |000|000|000| ┆ 0            │\n",
       "│               ┆ 000|000|000|0 ┆ 6a9ab39013f22 ┆           ┆       ┆ 000|000|000|0 ┆              │\n",
       "│               ┆ 00|000|000|   ┆ a05325        ┆           ┆       ┆ 00|000|000|   ┆              │\n",
       "│ f9012d9b.json ┆ |8188188|1881 ┆ 1c5fe1913239a ┆ training  ┆ 12    ┆ |8188188|1881 ┆ 0            │\n",
       "│               ┆ 881|8818818|8 ┆ 349a52348493e ┆           ┆       ┆ 881|8818818|8 ┆              │\n",
       "│               ┆ 188188|188188 ┆ d5c52e        ┆           ┆       ┆ 188188|188188 ┆              │\n",
       "│               ┆ 1|8818…       ┆               ┆           ┆       ┆ 1|8818…       ┆              │\n",
       "│ f8c80d96.json ┆ |4444440040|0 ┆ c60517fac7394 ┆ training  ┆ 9     ┆ |4444440040|0 ┆ 0            │\n",
       "│               ┆ 000040040|000 ┆ 8ea0ee213e007 ┆           ┆       ┆ 000040040|000 ┆              │\n",
       "│               ┆ 0040040|44400 ┆ 36cc7a        ┆           ┆       ┆ 0040040|44400 ┆              │\n",
       "│               ┆ 40040|…       ┆               ┆           ┆       ┆ 40040|…       ┆              │\n",
       "│ ff805c23.json ┆ |444040033300 ┆ 8f1abb852eea0 ┆ training  ┆ 9     ┆ |444040033300 ┆ 0            │\n",
       "│               ┆ 003330040444| ┆ 929f81d43f3fc ┆           ┆       ┆ 003330040444| ┆              │\n",
       "│               ┆ 4444043333033 ┆ 75a6b9        ┆           ┆       ┆ 4444043333033 ┆              │\n",
       "│               ┆ 033334…       ┆               ┆           ┆       ┆ 033334…       ┆              │\n",
       "│ 264363fd.json ┆ |444444444444 ┆ 1c6a04dd58727 ┆ training  ┆ 7     ┆ |444444444444 ┆ 0            │\n",
       "│               ┆ 4444444444444 ┆ e7d5dd5c4c05c ┆           ┆       ┆ 4444444444444 ┆              │\n",
       "│               ┆ 44444|4444444 ┆ ae8b56        ┆           ┆       ┆ 44444|4444444 ┆              │\n",
       "│               ┆ 444444…       ┆               ┆           ┆       ┆ 444444…       ┆              │\n",
       "│ 7468f01a.json ┆ |11118111|111 ┆ f3d7bdc41a8ca ┆ training  ┆ 5     ┆ |11118111|111 ┆ 0            │\n",
       "│               ┆ 11881|1111111 ┆ b1aac83c55bb6 ┆           ┆       ┆ 11881|1111111 ┆              │\n",
       "│               ┆ 1|88811111|11 ┆ dc5c9a        ┆           ┆       ┆ 1|88811111|11 ┆              │\n",
       "│               ┆ 111111…       ┆               ┆           ┆       ┆ 111111…       ┆              │\n",
       "│ 88a62173.json ┆ |55|05|       ┆ 898f7815af9f7 ┆ training  ┆ 5     ┆ |55|05|       ┆ 0            │\n",
       "│               ┆               ┆ 5a41c484bce19 ┆           ┆       ┆               ┆              │\n",
       "│               ┆               ┆ af5bdd        ┆           ┆       ┆               ┆              │\n",
       "│ f8ff0b80.json ┆ |3|1|6|       ┆ dadbb5c36ba57 ┆ training  ┆ 4     ┆ |3|1|6|       ┆ 0            │\n",
       "│               ┆               ┆ 0a524f1b59c2f ┆           ┆       ┆               ┆              │\n",
       "│               ┆               ┆ c0d3b9        ┆           ┆       ┆               ┆              │\n",
       "│ 321b1fc6.json ┆ |0000000000|0 ┆ 36b5003d6e2e2 ┆ training  ┆ 4     ┆ |0000000000|0 ┆ 0            │\n",
       "│               ┆ 440004400|343 ┆ 91120e445db20 ┆           ┆       ┆ 440004400|343 ┆              │\n",
       "│               ┆ 3034330|00300 ┆ 03873f        ┆           ┆       ┆ 3034330|00300 ┆              │\n",
       "│               ┆ 00300|…       ┆               ┆           ┆       ┆ 00300|…       ┆              │\n",
       "│ 99b1bc43.json ┆ |1011|0111|00 ┆ c88224aa57640 ┆ training  ┆ 4     ┆ |1011|0111|00 ┆ 0            │\n",
       "│               ┆ 10|1011|      ┆ 7eaf37d0a0e07 ┆           ┆       ┆ 10|1011|      ┆              │\n",
       "│               ┆               ┆ 5f7d2e        ┆           ┆       ┆               ┆              │\n",
       "│ e179c5f4.json ┆ |01000|10000| ┆ 7a20c1ab01391 ┆ training  ┆ 4     ┆ |01000|10000| ┆ 0            │\n",
       "│               ┆ 01000|00100|0 ┆ 176e5377b1ddb ┆           ┆       ┆ 01000|00100|0 ┆              │\n",
       "│               ┆ 0010|00001|00 ┆ 45f6c9        ┆           ┆       ┆ 0010|00001|00 ┆              │\n",
       "│               ┆ 010|00…       ┆               ┆           ┆       ┆ 010|00…       ┆              │\n",
       "│ 834ec97d.json ┆ |000000000000 ┆ 421639de56117 ┆ training  ┆ 4     ┆ |000000000000 ┆ 0            │\n",
       "│               ┆ |000000000000 ┆ 20845e01beb76 ┆           ┆       ┆ |000000000000 ┆              │\n",
       "│               ┆ |000000000000 ┆ 06c353        ┆           ┆       ┆ |000000000000 ┆              │\n",
       "│               ┆ |00000…       ┆               ┆           ┆       ┆ |00000…       ┆              │\n",
       "│ 06df4c85.json ┆ |004004004004 ┆ e7249a9065094 ┆ training  ┆ 4     ┆ |004004004004 ┆ 0            │\n",
       "│               ┆ 0040040040040 ┆ a73e71f1df613 ┆           ┆       ┆ 0040040040040 ┆              │\n",
       "│               ┆ 0|00400400400 ┆ 777ecf        ┆           ┆       ┆ 0|00400400400 ┆              │\n",
       "│               ┆ 400400…       ┆               ┆           ┆       ┆ 400400…       ┆              │\n",
       "│ a65b410d.json ┆ |333333300|33 ┆ 634fa0d5f9b69 ┆ training  ┆ 4     ┆ |333333300|33 ┆ 0            │\n",
       "│               ┆ 3333000|22222 ┆ bce6c221080e1 ┆           ┆       ┆ 3333000|22222 ┆              │\n",
       "│               ┆ 0000|00000000 ┆ 774212        ┆           ┆       ┆ 0000|00000000 ┆              │\n",
       "│               ┆ 0|0000…       ┆               ┆           ┆       ┆ 0|0000…       ┆              │\n",
       "│ 80af3007.json ┆ |555555555|55 ┆ d7be6724a05de ┆ training  ┆ 4     ┆ |555555555|55 ┆ 0            │\n",
       "│               ┆ 5555555|55555 ┆ 34efdedb3ece2 ┆           ┆       ┆ 5555555|55555 ┆              │\n",
       "│               ┆ 5555|00055500 ┆ 05d1ca        ┆           ┆       ┆ 5555|00055500 ┆              │\n",
       "│               ┆ 0|0005…       ┆               ┆           ┆       ┆ 0|0005…       ┆              │\n",
       "└───────────────┴───────────────┴───────────────┴───────────┴───────┴───────────────┴──────────────┘"
      ]
     },
     "execution_count": 55,
     "metadata": {},
     "output_type": "execute_result"
    }
   ],
   "source": [
    "exact_correspondance.sort(\"count\", descending=True).head(15)"
   ]
  },
  {
   "cell_type": "code",
   "execution_count": 56,
   "metadata": {},
   "outputs": [
    {
     "data": {
      "text/html": [
       "<div><style>\n",
       ".dataframe > thead > tr,\n",
       ".dataframe > tbody > tr {\n",
       "  text-align: right;\n",
       "  white-space: pre-wrap;\n",
       "}\n",
       "</style>\n",
       "<small>shape: (15, 7)</small><table border=\"1\" class=\"dataframe\"><thead><tr><th>task_name</th><th>test_output_grid</th><th>hashed_output_grid</th><th>task_type</th><th>count</th><th>intermediate_state</th><th>edit_distance</th></tr><tr><td>str</td><td>str</td><td>str</td><td>str</td><td>i64</td><td>str</td><td>i64</td></tr></thead><tbody><tr><td>&quot;fafffa47.json&quot;</td><td>&quot;|000|200|000|&quot;</td><td>&quot;2341e2b6474b63fa0996505c6f1b3fc8&quot;</td><td>&quot;training&quot;</td><td>3</td><td>&quot;|000|000|000|&quot;</td><td>1</td></tr><tr><td>&quot;88a62173.json&quot;</td><td>&quot;|50|05|&quot;</td><td>&quot;49fd9e8ee1c663a18693a61a6941e536&quot;</td><td>&quot;training&quot;</td><td>3</td><td>&quot;|55|05|&quot;</td><td>1</td></tr><tr><td>&quot;a740d043.json&quot;</td><td>&quot;|02|23|&quot;</td><td>&quot;25b7475260c50aae46e876d17b26c112&quot;</td><td>&quot;training&quot;</td><td>3</td><td>&quot;|12|23|&quot;</td><td>1</td></tr><tr><td>&quot;ce602527.json&quot;</td><td>&quot;|1111|1131|1311|&quot;</td><td>&quot;7a257151d7df6e2675497bed8d20e975&quot;</td><td>&quot;training&quot;</td><td>2</td><td>&quot;|1311|1131|1311|&quot;</td><td>1</td></tr><tr><td>&quot;a9f96cdd.json&quot;</td><td>&quot;|00030|00000|00000|&quot;</td><td>&quot;a211c4518f099927172972c748804679&quot;</td><td>&quot;training&quot;</td><td>2</td><td>&quot;|00000|00000|00000|&quot;</td><td>1</td></tr><tr><td>&quot;a61f2674.json&quot;</td><td>&quot;|000000000|000000000|000000000|000000000|0000…</td><td>&quot;92ebc8c6b21bb734c91ff7202a32bcda&quot;</td><td>&quot;training&quot;</td><td>2</td><td>&quot;|000000000|000000000|000000000|000000000|0000…</td><td>1</td></tr><tr><td>&quot;a61f2674.json&quot;</td><td>&quot;|000000000|000000010|000000010|000000010|0000…</td><td>&quot;44ff5a82e7fe44edff0273eeb2a626ce&quot;</td><td>&quot;training&quot;</td><td>2</td><td>&quot;|000000000|000000010|000000010|000000010|0000…</td><td>1</td></tr><tr><td>&quot;834ec97d.json&quot;</td><td>&quot;|000003000000|000000000000|000000000000|00000…</td><td>&quot;67f6aa228bf40853607accf591ae6ba6&quot;</td><td>&quot;training&quot;</td><td>2</td><td>&quot;|000000000000|000000000000|000000000000|00000…</td><td>1</td></tr><tr><td>&quot;017c7c7b.json&quot;</td><td>&quot;|000|000|000|000|000|000|000|000|010|&quot;</td><td>&quot;62f4f94e52db16db7c6e127243e792bb&quot;</td><td>&quot;training&quot;</td><td>2</td><td>&quot;|000|000|000|000|000|000|000|000|000|&quot;</td><td>1</td></tr><tr><td>&quot;ff805c23.json&quot;</td><td>&quot;|444040033300003330040444|4444043333033033334…</td><td>&quot;401424b3cf60b8fff8d745438df6ab29&quot;</td><td>&quot;training&quot;</td><td>2</td><td>&quot;|444040033300003330040444|4444043333033033334…</td><td>1</td></tr><tr><td>&quot;a79310a0.json&quot;</td><td>&quot;|00700|00000|00000|00000|00000|&quot;</td><td>&quot;efa5dbbfec31aca4dba74d5578187599&quot;</td><td>&quot;training&quot;</td><td>2</td><td>&quot;|00000|00000|00000|00000|00000|&quot;</td><td>1</td></tr><tr><td>&quot;a740d043.json&quot;</td><td>&quot;|12|13|&quot;</td><td>&quot;9d16da985f2dab26042882397d58759a&quot;</td><td>&quot;training&quot;</td><td>2</td><td>&quot;|12|23|&quot;</td><td>1</td></tr><tr><td>&quot;6455b5f5.json&quot;</td><td>&quot;|0000000000200000|0000000000200000|2222222222…</td><td>&quot;7aee266ea06fa0ddf6ddb43c2c3ad1d5&quot;</td><td>&quot;training&quot;</td><td>2</td><td>&quot;|0000000000200000|0000000000200000|2222222222…</td><td>1</td></tr><tr><td>&quot;5ad4f10b.json&quot;</td><td>&quot;|404|084|004|&quot;</td><td>&quot;8cb25e0c6cd5e33784084414e0812869&quot;</td><td>&quot;training&quot;</td><td>2</td><td>&quot;|404|044|004|&quot;</td><td>1</td></tr><tr><td>&quot;017c7c7b.json&quot;</td><td>&quot;|100|000|000|000|000|000|000|000|000|&quot;</td><td>&quot;ef891a258f68b69ea5d16b4e71f2792e&quot;</td><td>&quot;training&quot;</td><td>2</td><td>&quot;|000|000|000|000|000|000|000|000|000|&quot;</td><td>1</td></tr></tbody></table></div>"
      ],
      "text/plain": [
       "shape: (15, 7)\n",
       "┌───────────────┬───────────────┬───────────────┬───────────┬───────┬───────────────┬──────────────┐\n",
       "│ task_name     ┆ test_output_g ┆ hashed_output ┆ task_type ┆ count ┆ intermediate_ ┆ edit_distanc │\n",
       "│ ---           ┆ rid           ┆ _grid         ┆ ---       ┆ ---   ┆ state         ┆ e            │\n",
       "│ str           ┆ ---           ┆ ---           ┆ str       ┆ i64   ┆ ---           ┆ ---          │\n",
       "│               ┆ str           ┆ str           ┆           ┆       ┆ str           ┆ i64          │\n",
       "╞═══════════════╪═══════════════╪═══════════════╪═══════════╪═══════╪═══════════════╪══════════════╡\n",
       "│ fafffa47.json ┆ |000|200|000| ┆ 2341e2b6474b6 ┆ training  ┆ 3     ┆ |000|000|000| ┆ 1            │\n",
       "│               ┆               ┆ 3fa0996505c6f ┆           ┆       ┆               ┆              │\n",
       "│               ┆               ┆ 1b3fc8        ┆           ┆       ┆               ┆              │\n",
       "│ 88a62173.json ┆ |50|05|       ┆ 49fd9e8ee1c66 ┆ training  ┆ 3     ┆ |55|05|       ┆ 1            │\n",
       "│               ┆               ┆ 3a18693a61a69 ┆           ┆       ┆               ┆              │\n",
       "│               ┆               ┆ 41e536        ┆           ┆       ┆               ┆              │\n",
       "│ a740d043.json ┆ |02|23|       ┆ 25b7475260c50 ┆ training  ┆ 3     ┆ |12|23|       ┆ 1            │\n",
       "│               ┆               ┆ aae46e876d17b ┆           ┆       ┆               ┆              │\n",
       "│               ┆               ┆ 26c112        ┆           ┆       ┆               ┆              │\n",
       "│ ce602527.json ┆ |1111|1131|13 ┆ 7a257151d7df6 ┆ training  ┆ 2     ┆ |1311|1131|13 ┆ 1            │\n",
       "│               ┆ 11|           ┆ e2675497bed8d ┆           ┆       ┆ 11|           ┆              │\n",
       "│               ┆               ┆ 20e975        ┆           ┆       ┆               ┆              │\n",
       "│ a9f96cdd.json ┆ |00030|00000| ┆ a211c4518f099 ┆ training  ┆ 2     ┆ |00000|00000| ┆ 1            │\n",
       "│               ┆ 00000|        ┆ 927172972c748 ┆           ┆       ┆ 00000|        ┆              │\n",
       "│               ┆               ┆ 804679        ┆           ┆       ┆               ┆              │\n",
       "│ a61f2674.json ┆ |000000000|00 ┆ 92ebc8c6b21bb ┆ training  ┆ 2     ┆ |000000000|00 ┆ 1            │\n",
       "│               ┆ 0000000|00000 ┆ 734c91ff7202a ┆           ┆       ┆ 0000000|00000 ┆              │\n",
       "│               ┆ 0000|00000000 ┆ 32bcda        ┆           ┆       ┆ 0000|00000000 ┆              │\n",
       "│               ┆ 0|0000…       ┆               ┆           ┆       ┆ 0|0000…       ┆              │\n",
       "│ a61f2674.json ┆ |000000000|00 ┆ 44ff5a82e7fe4 ┆ training  ┆ 2     ┆ |000000000|00 ┆ 1            │\n",
       "│               ┆ 0000010|00000 ┆ 4edff0273eeb2 ┆           ┆       ┆ 0000010|00000 ┆              │\n",
       "│               ┆ 0010|00000001 ┆ a626ce        ┆           ┆       ┆ 0010|00000001 ┆              │\n",
       "│               ┆ 0|0000…       ┆               ┆           ┆       ┆ 0|0000…       ┆              │\n",
       "│ 834ec97d.json ┆ |000003000000 ┆ 67f6aa228bf40 ┆ training  ┆ 2     ┆ |000000000000 ┆ 1            │\n",
       "│               ┆ |000000000000 ┆ 853607accf591 ┆           ┆       ┆ |000000000000 ┆              │\n",
       "│               ┆ |000000000000 ┆ ae6ba6        ┆           ┆       ┆ |000000000000 ┆              │\n",
       "│               ┆ |00000…       ┆               ┆           ┆       ┆ |00000…       ┆              │\n",
       "│ 017c7c7b.json ┆ |000|000|000| ┆ 62f4f94e52db1 ┆ training  ┆ 2     ┆ |000|000|000| ┆ 1            │\n",
       "│               ┆ 000|000|000|0 ┆ 6db7c6e127243 ┆           ┆       ┆ 000|000|000|0 ┆              │\n",
       "│               ┆ 00|000|010|   ┆ e792bb        ┆           ┆       ┆ 00|000|000|   ┆              │\n",
       "│ ff805c23.json ┆ |444040033300 ┆ 401424b3cf60b ┆ training  ┆ 2     ┆ |444040033300 ┆ 1            │\n",
       "│               ┆ 003330040444| ┆ 8fff8d745438d ┆           ┆       ┆ 003330040444| ┆              │\n",
       "│               ┆ 4444043333033 ┆ f6ab29        ┆           ┆       ┆ 4444043333033 ┆              │\n",
       "│               ┆ 033334…       ┆               ┆           ┆       ┆ 033334…       ┆              │\n",
       "│ a79310a0.json ┆ |00700|00000| ┆ efa5dbbfec31a ┆ training  ┆ 2     ┆ |00000|00000| ┆ 1            │\n",
       "│               ┆ 00000|00000|0 ┆ ca4dba74d5578 ┆           ┆       ┆ 00000|00000|0 ┆              │\n",
       "│               ┆ 0000|         ┆ 187599        ┆           ┆       ┆ 0000|         ┆              │\n",
       "│ a740d043.json ┆ |12|13|       ┆ 9d16da985f2da ┆ training  ┆ 2     ┆ |12|23|       ┆ 1            │\n",
       "│               ┆               ┆ b26042882397d ┆           ┆       ┆               ┆              │\n",
       "│               ┆               ┆ 58759a        ┆           ┆       ┆               ┆              │\n",
       "│ 6455b5f5.json ┆ |000000000020 ┆ 7aee266ea06fa ┆ training  ┆ 2     ┆ |000000000020 ┆ 1            │\n",
       "│               ┆ 0000|00000000 ┆ 0ddf6ddb43c2c ┆           ┆       ┆ 0000|00000000 ┆              │\n",
       "│               ┆ 00200000|2222 ┆ 3ad1d5        ┆           ┆       ┆ 00200000|2222 ┆              │\n",
       "│               ┆ 222222…       ┆               ┆           ┆       ┆ 222222…       ┆              │\n",
       "│ 5ad4f10b.json ┆ |404|084|004| ┆ 8cb25e0c6cd5e ┆ training  ┆ 2     ┆ |404|044|004| ┆ 1            │\n",
       "│               ┆               ┆ 33784084414e0 ┆           ┆       ┆               ┆              │\n",
       "│               ┆               ┆ 812869        ┆           ┆       ┆               ┆              │\n",
       "│ 017c7c7b.json ┆ |100|000|000| ┆ ef891a258f68b ┆ training  ┆ 2     ┆ |000|000|000| ┆ 1            │\n",
       "│               ┆ 000|000|000|0 ┆ 69ea5d16b4e71 ┆           ┆       ┆ 000|000|000|0 ┆              │\n",
       "│               ┆ 00|000|000|   ┆ f2792e        ┆           ┆       ┆ 00|000|000|   ┆              │\n",
       "└───────────────┴───────────────┴───────────────┴───────────┴───────┴───────────────┴──────────────┘"
      ]
     },
     "execution_count": 56,
     "metadata": {},
     "output_type": "execute_result"
    }
   ],
   "source": [
    "errors.filter(pl.col(\"edit_distance\") == 1).sort(\"count\", descending=True).head(15)"
   ]
  },
  {
   "cell_type": "code",
   "execution_count": null,
   "metadata": {},
   "outputs": [],
   "source": []
  }
 ],
 "metadata": {
  "kernelspec": {
   "display_name": ".venv",
   "language": "python",
   "name": "python3"
  },
  "language_info": {
   "codemirror_mode": {
    "name": "ipython",
    "version": 3
   },
   "file_extension": ".py",
   "mimetype": "text/x-python",
   "name": "python",
   "nbconvert_exporter": "python",
   "pygments_lexer": "ipython3",
   "version": "3.12.5"
  }
 },
 "nbformat": 4,
 "nbformat_minor": 2
}

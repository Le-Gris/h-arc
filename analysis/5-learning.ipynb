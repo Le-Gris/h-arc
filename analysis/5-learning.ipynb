{
 "cells": [
  {
   "cell_type": "code",
   "execution_count": 1,
   "metadata": {
    "vscode": {
     "languageId": "r"
    }
   },
   "outputs": [
    {
     "name": "stderr",
     "output_type": "stream",
     "text": [
      "Le chargement a n'ecessit'e le package : Matrix\n",
      "\n",
      "************\n",
      "Welcome to afex. For support visit: http://afex.singmann.science/\n",
      "\n",
      "- Functions for ANOVAs: aov_car(), aov_ez(), and aov_4()\n",
      "- Methods for calculating p-values with mixed(): 'S', 'KR', 'LRT', and 'PB'\n",
      "- 'afex_aov' and 'mixed' objects can be passed to emmeans() for follow-up tests\n",
      "- Get and set global package options with: afex_options()\n",
      "- Set sum-to-zero contrasts globally: set_sum_contrasts()\n",
      "- For example analyses see: browseVignettes(\"afex\")\n",
      "************\n",
      "\n",
      "\n",
      "Attachement du package : 'afex'\n",
      "\n",
      "\n",
      "L'objet suivant est masqu'e depuis 'package:lme4':\n",
      "\n",
      "    lmer\n",
      "\n",
      "\n"
     ]
    }
   ],
   "source": [
    "library(lme4)\n",
    "library(ggplot2)\n",
    "library(afex)\n"
   ]
  },
  {
   "cell_type": "code",
   "execution_count": 2,
   "metadata": {
    "vscode": {
     "languageId": "r"
    }
   },
   "outputs": [],
   "source": [
    "# load data\n",
    "df_task_num_success <- read.csv(\"../data/task_number_outcomes.csv\")\n"
   ]
  },
  {
   "cell_type": "code",
   "execution_count": 3,
   "metadata": {
    "vscode": {
     "languageId": "r"
    }
   },
   "outputs": [
    {
     "data": {
      "text/plain": [
       "Generalized linear mixed model fit by maximum likelihood (Laplace\n",
       "  Approximation) [glmerMod]\n",
       " Family: binomial  ( logit )\n",
       "Formula: success ~ task_number + (1 | hashed_id)\n",
       "   Data: df_task_num_success\n",
       "Control: glmerControl(optimizer = \"bobyqa\")\n",
       "\n",
       "     AIC      BIC   logLik deviance df.resid \n",
       "  7368.7   7389.3  -3681.4   7362.7     7143 \n",
       "\n",
       "Scaled residuals: \n",
       "    Min      1Q  Median      3Q     Max \n",
       "-2.7843 -0.4753  0.2765  0.4093  2.0394 \n",
       "\n",
       "Random effects:\n",
       " Groups    Name        Variance Std.Dev.\n",
       " hashed_id (Intercept) 3.913    1.978   \n",
       "Number of obs: 7146, groups:  hashed_id, 1632\n",
       "\n",
       "Fixed effects:\n",
       "            Estimate Std. Error z value Pr(>|z|)    \n",
       "(Intercept)  1.37745    0.09074  15.180   <2e-16 ***\n",
       "task_number  0.02333    0.02044   1.141    0.254    \n",
       "---\n",
       "Signif. codes:  0 '***' 0.001 '**' 0.01 '*' 0.05 '.' 0.1 ' ' 1\n",
       "\n",
       "Correlation of Fixed Effects:\n",
       "            (Intr)\n",
       "task_number -0.649"
      ]
     },
     "metadata": {},
     "output_type": "display_data"
    }
   ],
   "source": [
    "# fit mixed model\n",
    "mixed_model <- glmer(\n",
    "    success ~ task_number +\n",
    "        (1 | hashed_id),\n",
    "    data = df_task_num_success,\n",
    "    family = \"binomial\",\n",
    "    control = glmerControl(optimizer = \"bobyqa\")\n",
    ")\n",
    "summary(mixed_model)\n"
   ]
  },
  {
   "cell_type": "code",
   "execution_count": 4,
   "metadata": {
    "vscode": {
     "languageId": "r"
    }
   },
   "outputs": [
    {
     "name": "stderr",
     "output_type": "stream",
     "text": [
      "Contrasts set to contr.sum for the following variables: hashed_id\n",
      "\n",
      "Numerical variables NOT centered on 0: task_number\n",
      "If in interactions, interpretation of lower order (e.g., main) effects difficult.\n",
      "\n"
     ]
    }
   ],
   "source": [
    "mixed_model_lrt <- mixed(\n",
    "    success ~ task_number +\n",
    "        (1 | hashed_id),\n",
    "    data = df_task_num_success,\n",
    "    family = \"binomial\",\n",
    "    method = \"LRT\",\n",
    "    control = glmerControl(optimizer = \"bobyqa\")\n",
    ")\n"
   ]
  },
  {
   "cell_type": "code",
   "execution_count": 5,
   "metadata": {
    "vscode": {
     "languageId": "r"
    }
   },
   "outputs": [
    {
     "data": {
      "text/plain": [
       "Mixed Model Anova Table (Type 3 tests, LRT-method)\n",
       "\n",
       "Model: success ~ task_number + (1 | hashed_id)\n",
       "Data: df_task_num_success\n",
       "Df full model: 3\n",
       "       Effect df Chisq p.value\n",
       "1 task_number  1  1.30    .254\n",
       "---\n",
       "Signif. codes:  0 '***' 0.001 '**' 0.01 '*' 0.05 '+' 0.1 ' ' 1"
      ]
     },
     "metadata": {},
     "output_type": "display_data"
    }
   ],
   "source": [
    "mixed_model_lrt\n"
   ]
  }
 ],
 "metadata": {
  "kernelspec": {
   "display_name": "R",
   "language": "R",
   "name": "ir"
  },
  "language_info": {
   "codemirror_mode": "r",
   "file_extension": ".r",
   "mimetype": "text/x-r-source",
   "name": "R",
   "pygments_lexer": "r",
   "version": "4.3.2"
  }
 },
 "nbformat": 4,
 "nbformat_minor": 2
}

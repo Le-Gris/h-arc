{
    "cells": [
        {
            "cell_type": "code",
            "execution_count": 1,
            "metadata": {},
            "outputs": [],
            "source": [
                "# imports\n",
                "import polars as pl\n",
                "import sys\n",
                "import seaborn as sns\n",
                "from scipy.stats import pearsonr\n",
                "\n",
                "sys.path.append(\"..\")\n",
                "from src.utils import *"
            ]
        },
        {
            "cell_type": "code",
            "execution_count": 2,
            "metadata": {},
            "outputs": [
                {
                    "data": {
                        "text/plain": [
                            "<polars.config.Config at 0x11fc1eff0>"
                        ]
                    },
                    "execution_count": 2,
                    "metadata": {},
                    "output_type": "execute_result"
                }
            ],
            "source": [
                "pl.Config.load_from_file(\"../polars_cfg.json\")"
            ]
        },
        {
            "cell_type": "code",
            "execution_count": 3,
            "metadata": {},
            "outputs": [],
            "source": [
                "# data file paths\n",
                "clean_summary_path = \"../data/clean_summary_data_merged.csv\"\n",
                "clean_incomplete_path = \"../data/clean_incomplete_data_merged.csv\"\n",
                "clean_all_path = \"../data/clean_all_data_merged.csv\""
            ]
        },
        {
            "cell_type": "code",
            "execution_count": 4,
            "metadata": {},
            "outputs": [
                {
                    "name": "stdout",
                    "output_type": "stream",
                    "text": [
                        "Filtered out 59/783 incomplete participant task attempts\n"
                    ]
                }
            ],
            "source": [
                "# load data (includes incomplete data)\n",
                "df_summary = pl.read_csv(clean_summary_path)\n",
                "df_incomplete = pl.read_csv(clean_incomplete_path)\n",
                "df_all = pl.read_csv(clean_all_path)\n",
                "df_all = df_all.with_columns(\n",
                "    pl.col(\"time\").map_elements(parse_mixed_datetime, return_dtype=pl.Datetime),\n",
                "    pl.col(\"condition\").cast(pl.Float64),\n",
                ")\n",
                "df_incomplete = df_incomplete.with_columns(\n",
                "    pl.col(\"time\").map_elements(parse_mixed_datetime, return_dtype=pl.Datetime),\n",
                "    pl.col(\"condition\").cast(pl.Float64),\n",
                ")\n",
                "columns = [\n",
                "    \"hashed_id\",\n",
                "    \"joint_id_task\",\n",
                "    \"task_name\",\n",
                "    \"task_number\",\n",
                "    \"task_type\",\n",
                "    \"attempt_number\",\n",
                "    \"action\",\n",
                "    \"num_actions\",\n",
                "    \"solved\",\n",
                "    \"time\",\n",
                "    \"condition\",\n",
                "    \"test_input_grid\",\n",
                "    \"test_output_grid\",\n",
                "    \"first_written_solution\",\n",
                "    \"last_written_solution\",\n",
                "    \"exp_name\",\n",
                "]\n",
                "\n",
                "df_all = pl.concat([df_all.select(columns), df_incomplete.select(columns)])\n",
                "df_summary, df_incomplete_summary = include_incomplete(df_summary, df_incomplete)\n",
                "\n",
                "training_set = pl.read_csv(\"../data/ARC_training_tasks.csv\")\n",
                "evaluation_set = pl.read_csv(\"../data/ARC_evaluation_tasks.csv\")"
            ]
        },
        {
            "cell_type": "markdown",
            "metadata": {},
            "source": [
                "## Copy errors\n"
            ]
        },
        {
            "cell_type": "code",
            "execution_count": 5,
            "metadata": {},
            "outputs": [
                {
                    "name": "stdout",
                    "output_type": "stream",
                    "text": [
                        "Training set:\n",
                        "Train input grid copy rate: 0.6%\n",
                        "Train output grid copy rate: 2.4%\n",
                        "Test input grid copy rate: 7.0%\n",
                        "Total copy rate: 10.0%\n",
                        "\n",
                        "Evaluation set:\n",
                        "Train input grid copy rate: 0.3%\n",
                        "Train output grid copy rate: 3.6%\n",
                        "Test input grid copy rate: 5.4%\n",
                        "Total copy rate: 9.2%\n",
                        "\n"
                    ]
                }
            ],
            "source": [
                "def read_and_filter_tasks(file_path, example_type, example_number=None):\n",
                "    df = pl.read_csv(file_path)\n",
                "    if example_number is None:\n",
                "        return df.filter(pl.col(\"example_type\") == example_type)\n",
                "    return df.filter(\n",
                "        (pl.col(\"example_type\") == example_type)\n",
                "        & (pl.col(\"example_number\") == example_number)\n",
                "    )\n",
                "\n",
                "\n",
                "def aggregate_grids(df):\n",
                "    return df.group_by(\"task_name\").agg(\n",
                "        pl.col(\"input_grid\").alias(\"input_grids\"),\n",
                "        pl.col(\"output_grid\").alias(\"output_grids\"),\n",
                "    )\n",
                "\n",
                "\n",
                "def process_task_set(file_path):\n",
                "    train = read_and_filter_tasks(file_path, \"train\")\n",
                "    test = read_and_filter_tasks(file_path, \"test\", 1)\n",
                "    return aggregate_grids(train), aggregate_grids(test)\n",
                "\n",
                "\n",
                "def add_copy_columns(df):\n",
                "    return df.with_columns(\n",
                "        pl.col(\"test_output_grid\")\n",
                "        .is_in(\"train_input_grids\")\n",
                "        .alias(\"train_input_grid_copy\"),\n",
                "        pl.col(\"test_output_grid\")\n",
                "        .is_in(\"train_output_grids\")\n",
                "        .alias(\"train_output_grid_copy\"),\n",
                "        pl.col(\"test_output_grid\")\n",
                "        .is_in(\"test_input_grids\")\n",
                "        .alias(\"test_input_grid_copy\"),\n",
                "        pl.col(\"test_output_grid\")\n",
                "        .is_in(\"test_output_grids\")\n",
                "        .alias(\"test_output_grid_copy\"),\n",
                "    )\n",
                "\n",
                "\n",
                "def calculate_copy_rates(errors):\n",
                "    total = errors.select(pl.sum(\"count\")).item()\n",
                "    copy_rates = {\n",
                "        \"train_input\": errors.filter(pl.col(\"train_input_grid_copy\"))\n",
                "        .select(pl.sum(\"count\"))\n",
                "        .item(),\n",
                "        \"train_output\": errors.filter(pl.col(\"train_output_grid_copy\"))\n",
                "        .select(pl.sum(\"count\"))\n",
                "        .item(),\n",
                "        \"test_input\": errors.filter(pl.col(\"test_input_grid_copy\"))\n",
                "        .select(pl.sum(\"count\"))\n",
                "        .item(),\n",
                "    }\n",
                "    copy_rates[\"total\"] = sum(copy_rates.values())\n",
                "    return {k: v / total * 100 for k, v in copy_rates.items()}\n",
                "\n",
                "\n",
                "def print_copy_rates(rates, set_name):\n",
                "    print(f\"{set_name} set:\")\n",
                "    print(f\"Train input grid copy rate: {rates['train_input']:.1f}%\")\n",
                "    print(f\"Train output grid copy rate: {rates['train_output']:.1f}%\")\n",
                "    print(f\"Test input grid copy rate: {rates['test_input']:.1f}%\")\n",
                "    print(f\"Total copy rate: {rates['total']:.1f}%\")\n",
                "    print()\n",
                "\n",
                "\n",
                "# Main execution\n",
                "training_train, training_test = process_task_set(\"../data/ARC_training_tasks.csv\")\n",
                "evaluation_train, evaluation_test = process_task_set(\"../data/ARC_evaluation_tasks.csv\")\n",
                "\n",
                "errors = get_errors(df_summary)\n",
                "\n",
                "errors_training = errors.join(\n",
                "    training_train.rename(\n",
                "        {\"input_grids\": \"train_input_grids\", \"output_grids\": \"train_output_grids\"}\n",
                "    ),\n",
                "    on=\"task_name\",\n",
                "    how=\"inner\",\n",
                ")\n",
                "errors_training = errors_training.join(\n",
                "    training_test.rename(\n",
                "        {\"input_grids\": \"test_input_grids\", \"output_grids\": \"test_output_grids\"}\n",
                "    ),\n",
                "    on=\"task_name\",\n",
                "    how=\"inner\",\n",
                ")\n",
                "\n",
                "errors_evaluation = errors.join(\n",
                "    evaluation_train.rename(\n",
                "        {\"input_grids\": \"train_input_grids\", \"output_grids\": \"train_output_grids\"}\n",
                "    ),\n",
                "    on=\"task_name\",\n",
                "    how=\"inner\",\n",
                ")\n",
                "errors_evaluation = errors_evaluation.join(\n",
                "    evaluation_test.rename(\n",
                "        {\"input_grids\": \"test_input_grids\", \"output_grids\": \"test_output_grids\"}\n",
                "    ),\n",
                "    on=\"task_name\",\n",
                "    how=\"inner\",\n",
                ")\n",
                "\n",
                "errors_training = add_copy_columns(errors_training)\n",
                "errors_evaluation = add_copy_columns(errors_evaluation)\n",
                "\n",
                "training_copy_rates = calculate_copy_rates(errors_training)\n",
                "evaluation_copy_rates = calculate_copy_rates(errors_evaluation)\n",
                "\n",
                "print_copy_rates(training_copy_rates, \"Training\")\n",
                "print_copy_rates(evaluation_copy_rates, \"Evaluation\")"
            ]
        },
        {
            "cell_type": "markdown",
            "metadata": {},
            "source": [
                "# Error divergence\n"
            ]
        },
        {
            "cell_type": "code",
            "execution_count": 6,
            "metadata": {},
            "outputs": [],
            "source": [
                "mean_task_acc = pl.read_csv(\"../data/mean_task_acc_three_attempts.csv\")\n",
                "total_submissions = df_summary.group_by(\"task_name\").agg(\n",
                "    pl.len().alias(\"total_submissions\")\n",
                ")\n",
                "mean_task_acc = mean_task_acc.join(total_submissions, on=\"task_name\", how=\"inner\")\n",
                "task_error_divergence = errors.group_by(\"task_name\").agg(\n",
                "    (pl.len()).alias(\"error_divergence\"), pl.first(\"task_type\")\n",
                ")\n",
                "task_error_divergence = task_error_divergence.join(\n",
                "    mean_task_acc.drop(\"task_type\"), on=\"task_name\", how=\"inner\"\n",
                ")\n",
                "task_error_divergence = task_error_divergence.with_columns(\n",
                "    pl.col(\"error_divergence\") / pl.col(\"total_submissions\")\n",
                ")"
            ]
        },
        {
            "cell_type": "code",
            "execution_count": 7,
            "metadata": {},
            "outputs": [
                {
                    "name": "stdout",
                    "output_type": "stream",
                    "text": [
                        "Correlation between mean_solved and error_divergence for training tasks: -0.8088738687104813\n",
                        "Correlation between mean_solved and error_divergence for evaluation tasks: -0.8835221168734543\n"
                    ]
                },
                {
                    "data": {
                        "image/png": "[encoded data removed]",
                        "text/plain": [
                            "<Figure size 640x480 with 1 Axes>"
                        ]
                    },
                    "metadata": {},
                    "output_type": "display_data"
                }
            ],
            "source": [
                "# plot error div as a function of task difficulty\n",
                "sns.regplot(\n",
                "    data=task_error_divergence.filter(pl.col(\"task_type\") == \"training\"),\n",
                "    x=\"mean_solved\",\n",
                "    y=\"error_divergence\",\n",
                "    scatter_kws={\"alpha\": 0.1, \"s\": 5},\n",
                ")\n",
                "sns.regplot(\n",
                "    data=task_error_divergence.filter(pl.col(\"task_type\") == \"evaluation\"),\n",
                "    x=\"mean_solved\",\n",
                "    y=\"error_divergence\",\n",
                "    scatter_kws={\"alpha\": 0.1, \"s\": 5},\n",
                ")\n",
                "error_div_corr = (\n",
                "    task_error_divergence.filter(pl.col(\"task_type\") == \"training\")\n",
                "    .select(pl.corr(\"mean_solved\", \"error_divergence\"))\n",
                "    .item()\n",
                ")\n",
                "print(\n",
                "    f\"Correlation between mean_solved and error_divergence for training tasks: {error_div_corr}\"\n",
                ")\n",
                "error_div_corr = (\n",
                "    task_error_divergence.filter(pl.col(\"task_type\") == \"evaluation\")\n",
                "    .select(pl.corr(\"mean_solved\", \"error_divergence\"))\n",
                "    .item()\n",
                ")\n",
                "print(\n",
                "    f\"Correlation between mean_solved and error_divergence for evaluation tasks: {error_div_corr}\"\n",
                ")"
            ]
        },
        {
            "cell_type": "code",
            "execution_count": 8,
            "metadata": {},
            "outputs": [
                {
                    "name": "stdout",
                    "output_type": "stream",
                    "text": [
                        "Correlation between mean_solved and error_divergence for training tasks: -0.81 (p-value: 0.0)\n",
                        "Degrees of freedom: 378\n",
                        "Correlation between mean_solved and error_divergence for evaluation tasks: -0.88 (p-value: 0.0)\n",
                        "Degrees of freedom: 395\n"
                    ]
                }
            ],
            "source": [
                "x, y = (\n",
                "    task_error_divergence.filter(pl.col(\"task_type\") == \"training\")\n",
                "    .select(\"mean_solved\", \"error_divergence\")\n",
                "    .to_pandas()\n",
                "    .values.T\n",
                ")\n",
                "corr, p_value = pearsonr(x, y)\n",
                "print(\n",
                "    f\"Correlation between mean_solved and error_divergence for training tasks: {round(corr, 2)} (p-value: {round(p_value, 3)})\"\n",
                ")\n",
                "print(f\"Degrees of freedom: {len(x) - 2}\")\n",
                "x, y = (\n",
                "    task_error_divergence.filter(pl.col(\"task_type\") == \"evaluation\")\n",
                "    .select(\"mean_solved\", \"error_divergence\")\n",
                "    .to_pandas()\n",
                "    .values.T\n",
                ")\n",
                "corr, p_value = pearsonr(x, y)\n",
                "print(\n",
                "    f\"Correlation between mean_solved and error_divergence for evaluation tasks: {round(corr, 2)} (p-value: {round(p_value, 3)})\"\n",
                ")\n",
                "print(f\"Degrees of freedom: {len(x) - 2}\")"
            ]
        },
        {
            "cell_type": "markdown",
            "metadata": {},
            "source": [
                "# Dimension errors\n"
            ]
        },
        {
            "cell_type": "code",
            "execution_count": 9,
            "metadata": {},
            "outputs": [],
            "source": [
                "errors = errors.with_columns(\n",
                "    pl.col(\"test_output_grid\").str.split(\"|\").list.len().alias(\"test_output_height\")\n",
                "    - 2,\n",
                "    pl.col(\"test_output_grid\")\n",
                "    .str.split(\"|\")\n",
                "    .list.get(1)\n",
                "    .str.len_chars()\n",
                "    .alias(\"test_output_width\"),\n",
                ")\n",
                "full_dataset = pl.concat([training_set, evaluation_set])\n",
                "dim_errors = errors.select(\n",
                "    \"task_type\",\n",
                "    \"task_name\",\n",
                "    \"test_output_grid\",\n",
                "    \"test_output_height\",\n",
                "    \"test_output_width\",\n",
                "    \"count\",\n",
                ").join(\n",
                "    full_dataset.filter(\n",
                "        (pl.col(\"example_type\") == \"test\") & (pl.col(\"example_number\") == 1)\n",
                "    ).select(\"task_name\", \"output_height\", \"output_width\"),\n",
                "    on=\"task_name\",\n",
                ")\n",
                "dim_errors = dim_errors.with_columns(\n",
                "    (pl.col(\"test_output_height\") == pl.col(\"output_height\")).alias(\"height_match\"),\n",
                "    (pl.col(\"test_output_width\") == pl.col(\"output_width\")).alias(\"width_match\"),\n",
                ")\n",
                "dim_errors = dim_errors.with_columns(\n",
                "    ~(pl.col(\"height_match\") & pl.col(\"width_match\")).alias(\"dim_error\")\n",
                ")"
            ]
        },
        {
            "cell_type": "code",
            "execution_count": 10,
            "metadata": {},
            "outputs": [
                {
                    "name": "stdout",
                    "output_type": "stream",
                    "text": [
                        "Dimension error rate on training set: 31.8% (correct: 68.2%)\n",
                        "Dimension error rate on evaluation set: 26.5% (correct: 73.5%)\n"
                    ]
                }
            ],
            "source": [
                "dim_error_rate_training = (\n",
                "    dim_errors.filter((pl.col(\"dim_error\") & (pl.col(\"task_type\") == \"training\")))\n",
                "    .select(pl.sum(\"count\"))\n",
                "    .item()\n",
                "    / dim_errors.filter((pl.col(\"task_type\") == \"training\"))\n",
                "    .select(pl.sum(\"count\"))\n",
                "    .item()\n",
                ")\n",
                "print(\n",
                "    f\"Dimension error rate on training set: {dim_error_rate_training * 100:.1f}% (correct: {100 - dim_error_rate_training*100:.1f}%)\"\n",
                ")\n",
                "dim_error_rate_evaluation = (\n",
                "    dim_errors.filter((pl.col(\"dim_error\") & (pl.col(\"task_type\") == \"evaluation\")))\n",
                "    .select(pl.sum(\"count\"))\n",
                "    .item()\n",
                "    / dim_errors.filter((pl.col(\"task_type\") == \"evaluation\"))\n",
                "    .select(pl.sum(\"count\"))\n",
                "    .item()\n",
                ")\n",
                "print(\n",
                "    f\"Dimension error rate on evaluation set: {dim_error_rate_evaluation * 100:.1f}% (correct: {100 - dim_error_rate_evaluation*100:.1f}%)\"\n",
                ")"
            ]
        },
        {
            "cell_type": "code",
            "execution_count": 11,
            "metadata": {},
            "outputs": [],
            "source": [
                "df_summary_errors = df_summary.filter(~pl.col(\"solved\")).select(\n",
                "    \"task_name\",\n",
                "    \"attempt_number\",\n",
                "    \"test_output_grid\",\n",
                ")\n",
                "df_summary_errors = df_summary_errors.join(\n",
                "    dim_errors, on=[\"task_name\", \"test_output_grid\"], how=\"left\"\n",
                ")"
            ]
        },
        {
            "cell_type": "code",
            "execution_count": 12,
            "metadata": {},
            "outputs": [
                {
                    "name": "stdout",
                    "output_type": "stream",
                    "text": [
                        "Dimension error rate on training set, attempt 1: 30.9%\n",
                        "Dimension error rate on training set, attempt 2: 31.5%\n",
                        "Dimension error rate on training set, attempt 3: 33.8%\n",
                        "\n",
                        "Dimension error rate on evaluation set, attempt 1: 24.8%\n",
                        "Dimension error rate on evaluation set, attempt 2: 27.0%\n",
                        "Dimension error rate on evaluation set, attempt 3: 28.3%\n"
                    ]
                }
            ],
            "source": [
                "dim_error_rate_training_attempt_one = (\n",
                "    df_summary_errors.filter(\n",
                "        (pl.col(\"attempt_number\") == 1)\n",
                "        & (pl.col(\"task_type\") == \"training\")\n",
                "        & pl.col(\"dim_error\")\n",
                "    ).height\n",
                "    / df_summary_errors.filter(\n",
                "        (pl.col(\"attempt_number\") == 1) & (pl.col(\"task_type\") == \"training\")\n",
                "    ).height\n",
                ")\n",
                "\n",
                "dim_error_rate_training_attempt_two = (\n",
                "    df_summary_errors.filter(\n",
                "        (pl.col(\"attempt_number\") == 2)\n",
                "        & (pl.col(\"task_type\") == \"training\")\n",
                "        & pl.col(\"dim_error\")\n",
                "    ).height\n",
                "    / df_summary_errors.filter(\n",
                "        (pl.col(\"attempt_number\") == 2) & (pl.col(\"task_type\") == \"training\")\n",
                "    ).height\n",
                ")\n",
                "\n",
                "dim_error_rate_training_attempt_three = (\n",
                "    df_summary_errors.filter(\n",
                "        (pl.col(\"attempt_number\") == 3)\n",
                "        & (pl.col(\"task_type\") == \"training\")\n",
                "        & pl.col(\"dim_error\")\n",
                "    ).height\n",
                "    / df_summary_errors.filter(\n",
                "        (pl.col(\"attempt_number\") == 3) & (pl.col(\"task_type\") == \"training\")\n",
                "    ).height\n",
                ")\n",
                "\n",
                "print(\n",
                "    f\"Dimension error rate on training set, attempt 1: {dim_error_rate_training_attempt_one * 100:.1f}%\"\n",
                ")\n",
                "print(\n",
                "    f\"Dimension error rate on training set, attempt 2: {dim_error_rate_training_attempt_two * 100:.1f}%\"\n",
                ")\n",
                "\n",
                "print(\n",
                "    f\"Dimension error rate on training set, attempt 3: {dim_error_rate_training_attempt_three * 100:.1f}%\"\n",
                ")\n",
                "print()\n",
                "dim_error_rate_evaluation_attempt_one = (\n",
                "    df_summary_errors.filter(\n",
                "        (pl.col(\"attempt_number\") == 1)\n",
                "        & (pl.col(\"task_type\") == \"evaluation\")\n",
                "        & pl.col(\"dim_error\")\n",
                "    ).height\n",
                "    / df_summary_errors.filter(\n",
                "        (pl.col(\"attempt_number\") == 1) & (pl.col(\"task_type\") == \"evaluation\")\n",
                "    ).height\n",
                ")\n",
                "\n",
                "dim_error_rate_evaluation_attempt_two = (\n",
                "    df_summary_errors.filter(\n",
                "        (pl.col(\"attempt_number\") == 2)\n",
                "        & (pl.col(\"task_type\") == \"evaluation\")\n",
                "        & pl.col(\"dim_error\")\n",
                "    ).height\n",
                "    / df_summary_errors.filter(\n",
                "        (pl.col(\"attempt_number\") == 2) & (pl.col(\"task_type\") == \"evaluation\")\n",
                "    ).height\n",
                ")\n",
                "\n",
                "\n",
                "dim_error_rate_evaluation_attempt_three = (\n",
                "    df_summary_errors.filter(\n",
                "        (pl.col(\"attempt_number\") == 3)\n",
                "        & (pl.col(\"task_type\") == \"evaluation\")\n",
                "        & pl.col(\"dim_error\")\n",
                "    ).height\n",
                "    / df_summary_errors.filter(\n",
                "        (pl.col(\"attempt_number\") == 3) & (pl.col(\"task_type\") == \"evaluation\")\n",
                "    ).height\n",
                ")\n",
                "\n",
                "print(\n",
                "    f\"Dimension error rate on evaluation set, attempt 1: {dim_error_rate_evaluation_attempt_one * 100:.1f}%\"\n",
                ")\n",
                "print(\n",
                "    f\"Dimension error rate on evaluation set, attempt 2: {dim_error_rate_evaluation_attempt_two * 100:.1f}%\"\n",
                ")\n",
                "print(\n",
                "    f\"Dimension error rate on evaluation set, attempt 3: {dim_error_rate_evaluation_attempt_three * 100:.1f}%\"\n",
                ")"
            ]
        }
    ],
    "metadata": {
        "kernelspec": {
            "display_name": ".venv",
            "language": "python",
            "name": "python3"
        },
        "language_info": {
            "codemirror_mode": {
                "name": "ipython",
                "version": 3
            },
            "file_extension": ".py",
            "mimetype": "text/x-python",
            "name": "python",
            "nbconvert_exporter": "python",
            "pygments_lexer": "ipython3",
            "version": "3.12.5"
        }
    },
    "nbformat": 4,
    "nbformat_minor": 2
}

{
    "cells": [
        {
            "cell_type": "code",
            "execution_count": 1,
            "metadata": {},
            "outputs": [],
            "source": [
                "# imports\n",
                "import polars as pl\n",
                "import sys\n",
                "import seaborn as sns\n",
                "from scipy.stats import pearsonr\n",
                "\n",
                "sys.path.append(\"..\")\n",
                "from src.utils import *"
            ]
        },
        {
            "cell_type": "code",
            "execution_count": 2,
            "metadata": {},
            "outputs": [
                {
                    "data": {
                        "text/plain": [
                            "<polars.config.Config at 0x1472daa50>"
                        ]
                    },
                    "execution_count": 2,
                    "metadata": {},
                    "output_type": "execute_result"
                }
            ],
            "source": [
                "pl.Config.load_from_file(\"../polars_cfg.json\")"
            ]
        },
        {
            "cell_type": "code",
            "execution_count": 3,
            "metadata": {},
            "outputs": [],
            "source": [
                "# data file paths\n",
                "summary_path = \"../data/summary_data.csv\"\n",
                "data_path = \"../data/data.csv\""
            ]
        },
        {
            "cell_type": "code",
            "execution_count": 5,
            "metadata": {},
            "outputs": [],
            "source": [
                "df_summary = pl.read_csv(summary_path)\n",
                "df_all = pl.read_csv(data_path)\n",
                "\n",
                "# parse time\n",
                "df_all = df_all.with_columns(pl.col(\"time\").cast(pl.Datetime))\n",
                "\n",
                "columns = [\n",
                "    \"exp_name\",\n",
                "    \"hashed_id\",\n",
                "    \"joint_id_task\",\n",
                "    \"task_name\",\n",
                "    \"task_number\",\n",
                "    \"task_type\",\n",
                "    \"attempt_number\",\n",
                "    \"action\",\n",
                "    \"action_id\",\n",
                "    \"solved\",\n",
                "    \"time\",\n",
                "    \"test_input_grid\",\n",
                "    \"test_output_grid\",\n",
                "]\n",
                "df_all = df_all.select(columns)\n",
                "\n",
                "training_set = pl.read_csv(\"../arc_data/ARC_training_tasks.csv\")\n",
                "evaluation_set = pl.read_csv(\"../arc_data/ARC_evaluation_tasks.csv\")"
            ]
        },
        {
            "cell_type": "markdown",
            "metadata": {},
            "source": [
                "## Copy errors\n"
            ]
        },
        {
            "cell_type": "code",
            "execution_count": 7,
            "metadata": {},
            "outputs": [
                {
                    "name": "stdout",
                    "output_type": "stream",
                    "text": [
                        "Training set:\n",
                        "Train input grid copy rate: 0.6%\n",
                        "Train output grid copy rate: 2.4%\n",
                        "Test input grid copy rate: 7.0%\n",
                        "Total copy rate: 10.0%\n",
                        "\n",
                        "Evaluation set:\n",
                        "Train input grid copy rate: 0.3%\n",
                        "Train output grid copy rate: 3.6%\n",
                        "Test input grid copy rate: 5.4%\n",
                        "Total copy rate: 9.2%\n",
                        "\n"
                    ]
                }
            ],
            "source": [
                "def read_and_filter_tasks(file_path, example_type, example_number=None):\n",
                "    df = pl.read_csv(file_path)\n",
                "    if example_number is None:\n",
                "        return df.filter(pl.col(\"example_type\") == example_type)\n",
                "    return df.filter(\n",
                "        (pl.col(\"example_type\") == example_type)\n",
                "        & (pl.col(\"example_number\") == example_number)\n",
                "    )\n",
                "\n",
                "\n",
                "def aggregate_grids(df):\n",
                "    return df.group_by(\"task_name\").agg(\n",
                "        pl.col(\"input_grid\").alias(\"input_grids\"),\n",
                "        pl.col(\"output_grid\").alias(\"output_grids\"),\n",
                "    )\n",
                "\n",
                "\n",
                "def process_task_set(file_path):\n",
                "    train = read_and_filter_tasks(file_path, \"train\")\n",
                "    test = read_and_filter_tasks(file_path, \"test\", 1)\n",
                "    return aggregate_grids(train), aggregate_grids(test)\n",
                "\n",
                "\n",
                "def add_copy_columns(df):\n",
                "    return df.with_columns(\n",
                "        pl.col(\"test_output_grid\")\n",
                "        .is_in(\"train_input_grids\")\n",
                "        .alias(\"train_input_grid_copy\"),\n",
                "        pl.col(\"test_output_grid\")\n",
                "        .is_in(\"train_output_grids\")\n",
                "        .alias(\"train_output_grid_copy\"),\n",
                "        pl.col(\"test_output_grid\")\n",
                "        .is_in(\"test_input_grids\")\n",
                "        .alias(\"test_input_grid_copy\"),\n",
                "        pl.col(\"test_output_grid\")\n",
                "        .is_in(\"test_output_grids\")\n",
                "        .alias(\"test_output_grid_copy\"),\n",
                "    )\n",
                "\n",
                "\n",
                "def calculate_copy_rates(errors):\n",
                "    total = errors.select(pl.sum(\"count\")).item()\n",
                "    copy_rates = {\n",
                "        \"train_input\": errors.filter(pl.col(\"train_input_grid_copy\"))\n",
                "        .select(pl.sum(\"count\"))\n",
                "        .item(),\n",
                "        \"train_output\": errors.filter(pl.col(\"train_output_grid_copy\"))\n",
                "        .select(pl.sum(\"count\"))\n",
                "        .item(),\n",
                "        \"test_input\": errors.filter(pl.col(\"test_input_grid_copy\"))\n",
                "        .select(pl.sum(\"count\"))\n",
                "        .item(),\n",
                "    }\n",
                "    copy_rates[\"total\"] = sum(copy_rates.values())\n",
                "    return {k: v / total * 100 for k, v in copy_rates.items()}\n",
                "\n",
                "\n",
                "def print_copy_rates(rates, set_name):\n",
                "    print(f\"{set_name} set:\")\n",
                "    print(f\"Train input grid copy rate: {rates['train_input']:.1f}%\")\n",
                "    print(f\"Train output grid copy rate: {rates['train_output']:.1f}%\")\n",
                "    print(f\"Test input grid copy rate: {rates['test_input']:.1f}%\")\n",
                "    print(f\"Total copy rate: {rates['total']:.1f}%\")\n",
                "    print()\n",
                "\n",
                "\n",
                "# Main execution\n",
                "training_train, training_test = process_task_set(\"../arc_data/ARC_training_tasks.csv\")\n",
                "evaluation_train, evaluation_test = process_task_set(\n",
                "    \"../arc_data/ARC_evaluation_tasks.csv\"\n",
                ")\n",
                "\n",
                "errors = get_errors(df_summary)\n",
                "\n",
                "errors_training = errors.join(\n",
                "    training_train.rename(\n",
                "        {\"input_grids\": \"train_input_grids\", \"output_grids\": \"train_output_grids\"}\n",
                "    ),\n",
                "    on=\"task_name\",\n",
                "    how=\"inner\",\n",
                ")\n",
                "errors_training = errors_training.join(\n",
                "    training_test.rename(\n",
                "        {\"input_grids\": \"test_input_grids\", \"output_grids\": \"test_output_grids\"}\n",
                "    ),\n",
                "    on=\"task_name\",\n",
                "    how=\"inner\",\n",
                ")\n",
                "\n",
                "errors_evaluation = errors.join(\n",
                "    evaluation_train.rename(\n",
                "        {\"input_grids\": \"train_input_grids\", \"output_grids\": \"train_output_grids\"}\n",
                "    ),\n",
                "    on=\"task_name\",\n",
                "    how=\"inner\",\n",
                ")\n",
                "errors_evaluation = errors_evaluation.join(\n",
                "    evaluation_test.rename(\n",
                "        {\"input_grids\": \"test_input_grids\", \"output_grids\": \"test_output_grids\"}\n",
                "    ),\n",
                "    on=\"task_name\",\n",
                "    how=\"inner\",\n",
                ")\n",
                "\n",
                "errors_training = add_copy_columns(errors_training)\n",
                "errors_evaluation = add_copy_columns(errors_evaluation)\n",
                "\n",
                "training_copy_rates = calculate_copy_rates(errors_training)\n",
                "evaluation_copy_rates = calculate_copy_rates(errors_evaluation)\n",
                "\n",
                "print_copy_rates(training_copy_rates, \"Training\")\n",
                "print_copy_rates(evaluation_copy_rates, \"Evaluation\")"
            ]
        },
        {
            "cell_type": "markdown",
            "metadata": {},
            "source": [
                "# Error divergence\n"
            ]
        },
        {
            "cell_type": "code",
            "execution_count": 8,
            "metadata": {},
            "outputs": [],
            "source": [
                "mean_task_acc = pl.read_csv(\"../data/mean_task_acc_three_attempts.csv\")\n",
                "total_submissions = df_summary.group_by(\"task_name\").agg(\n",
                "    pl.len().alias(\"total_submissions\")\n",
                ")\n",
                "mean_task_acc = mean_task_acc.join(total_submissions, on=\"task_name\", how=\"inner\")\n",
                "task_error_divergence = errors.group_by(\"task_name\").agg(\n",
                "    (pl.len()).alias(\"error_divergence\"), pl.first(\"task_type\")\n",
                ")\n",
                "task_error_divergence = task_error_divergence.join(\n",
                "    mean_task_acc.drop(\"task_type\"), on=\"task_name\", how=\"inner\"\n",
                ")\n",
                "task_error_divergence = task_error_divergence.with_columns(\n",
                "    pl.col(\"error_divergence\") / pl.col(\"total_submissions\")\n",
                ")"
            ]
        },
        {
            "cell_type": "code",
            "execution_count": 9,
            "metadata": {},
            "outputs": [
                {
                    "name": "stdout",
                    "output_type": "stream",
                    "text": [
                        "Correlation between mean_solved and error_divergence for training tasks: -0.8142119054214414\n",
                        "Correlation between mean_solved and error_divergence for evaluation tasks: -0.8880482705323964\n"
                    ]
                },
                {
                    "data": {
                        "image/png": "[encoded data removed]",
                        "text/plain": [
                            "<Figure size 640x480 with 1 Axes>"
                        ]
                    },
                    "metadata": {},
                    "output_type": "display_data"
                }
            ],
            "source": [
                "# plot error div as a function of task difficulty\n",
                "sns.regplot(\n",
                "    data=task_error_divergence.filter(pl.col(\"task_type\") == \"training\"),\n",
                "    x=\"mean_solved\",\n",
                "    y=\"error_divergence\",\n",
                "    scatter_kws={\"alpha\": 0.1, \"s\": 5},\n",
                ")\n",
                "sns.regplot(\n",
                "    data=task_error_divergence.filter(pl.col(\"task_type\") == \"evaluation\"),\n",
                "    x=\"mean_solved\",\n",
                "    y=\"error_divergence\",\n",
                "    scatter_kws={\"alpha\": 0.1, \"s\": 5},\n",
                ")\n",
                "error_div_corr = (\n",
                "    task_error_divergence.filter(pl.col(\"task_type\") == \"training\")\n",
                "    .select(pl.corr(\"mean_solved\", \"error_divergence\"))\n",
                "    .item()\n",
                ")\n",
                "print(\n",
                "    f\"Correlation between mean_solved and error_divergence for training tasks: {error_div_corr}\"\n",
                ")\n",
                "error_div_corr = (\n",
                "    task_error_divergence.filter(pl.col(\"task_type\") == \"evaluation\")\n",
                "    .select(pl.corr(\"mean_solved\", \"error_divergence\"))\n",
                "    .item()\n",
                ")\n",
                "print(\n",
                "    f\"Correlation between mean_solved and error_divergence for evaluation tasks: {error_div_corr}\"\n",
                ")"
            ]
        },
        {
            "cell_type": "code",
            "execution_count": 10,
            "metadata": {},
            "outputs": [
                {
                    "name": "stdout",
                    "output_type": "stream",
                    "text": [
                        "Correlation between mean_solved and error_divergence for training tasks: -0.81 (p-value: 0.0)\n",
                        "Degrees of freedom: 378\n",
                        "Correlation between mean_solved and error_divergence for evaluation tasks: -0.89 (p-value: 0.0)\n",
                        "Degrees of freedom: 395\n"
                    ]
                }
            ],
            "source": [
                "x, y = (\n",
                "    task_error_divergence.filter(pl.col(\"task_type\") == \"training\")\n",
                "    .select(\"mean_solved\", \"error_divergence\")\n",
                "    .to_pandas()\n",
                "    .values.T\n",
                ")\n",
                "corr, p_value = pearsonr(x, y)\n",
                "print(\n",
                "    f\"Correlation between mean_solved and error_divergence for training tasks: {round(corr, 2)} (p-value: {round(p_value, 3)})\"\n",
                ")\n",
                "print(f\"Degrees of freedom: {len(x) - 2}\")\n",
                "x, y = (\n",
                "    task_error_divergence.filter(pl.col(\"task_type\") == \"evaluation\")\n",
                "    .select(\"mean_solved\", \"error_divergence\")\n",
                "    .to_pandas()\n",
                "    .values.T\n",
                ")\n",
                "corr, p_value = pearsonr(x, y)\n",
                "print(\n",
                "    f\"Correlation between mean_solved and error_divergence for evaluation tasks: {round(corr, 2)} (p-value: {round(p_value, 3)})\"\n",
                ")\n",
                "print(f\"Degrees of freedom: {len(x) - 2}\")"
            ]
        },
        {
            "cell_type": "markdown",
            "metadata": {},
            "source": [
                "# Dimension errors\n"
            ]
        },
        {
            "cell_type": "code",
            "execution_count": 11,
            "metadata": {},
            "outputs": [],
            "source": [
                "errors = errors.with_columns(\n",
                "    pl.col(\"test_output_grid\").str.split(\"|\").list.len().alias(\"test_output_height\")\n",
                "    - 2,\n",
                "    pl.col(\"test_output_grid\")\n",
                "    .str.split(\"|\")\n",
                "    .list.get(1)\n",
                "    .str.len_chars()\n",
                "    .alias(\"test_output_width\"),\n",
                ")\n",
                "full_dataset = pl.concat([training_set, evaluation_set])\n",
                "dim_errors = errors.select(\n",
                "    \"task_type\",\n",
                "    \"task_name\",\n",
                "    \"test_output_grid\",\n",
                "    \"test_output_height\",\n",
                "    \"test_output_width\",\n",
                "    \"count\",\n",
                ").join(\n",
                "    full_dataset.filter(\n",
                "        (pl.col(\"example_type\") == \"test\") & (pl.col(\"example_number\") == 1)\n",
                "    ).select(\"task_name\", \"output_height\", \"output_width\"),\n",
                "    on=\"task_name\",\n",
                ")\n",
                "dim_errors = dim_errors.with_columns(\n",
                "    (pl.col(\"test_output_height\") == pl.col(\"output_height\")).alias(\"height_match\"),\n",
                "    (pl.col(\"test_output_width\") == pl.col(\"output_width\")).alias(\"width_match\"),\n",
                ")\n",
                "dim_errors = dim_errors.with_columns(\n",
                "    ~(pl.col(\"height_match\") & pl.col(\"width_match\")).alias(\"dim_error\")\n",
                ")"
            ]
        },
        {
            "cell_type": "code",
            "execution_count": 12,
            "metadata": {},
            "outputs": [
                {
                    "name": "stdout",
                    "output_type": "stream",
                    "text": [
                        "Dimension error rate on training set: 31.8% (correct: 68.2%)\n",
                        "Dimension error rate on evaluation set: 26.5% (correct: 73.5%)\n"
                    ]
                }
            ],
            "source": [
                "dim_error_rate_training = (\n",
                "    dim_errors.filter((pl.col(\"dim_error\") & (pl.col(\"task_type\") == \"training\")))\n",
                "    .select(pl.sum(\"count\"))\n",
                "    .item()\n",
                "    / dim_errors.filter((pl.col(\"task_type\") == \"training\"))\n",
                "    .select(pl.sum(\"count\"))\n",
                "    .item()\n",
                ")\n",
                "print(\n",
                "    f\"Dimension error rate on training set: {dim_error_rate_training * 100:.1f}% (correct: {100 - dim_error_rate_training*100:.1f}%)\"\n",
                ")\n",
                "dim_error_rate_evaluation = (\n",
                "    dim_errors.filter((pl.col(\"dim_error\") & (pl.col(\"task_type\") == \"evaluation\")))\n",
                "    .select(pl.sum(\"count\"))\n",
                "    .item()\n",
                "    / dim_errors.filter((pl.col(\"task_type\") == \"evaluation\"))\n",
                "    .select(pl.sum(\"count\"))\n",
                "    .item()\n",
                ")\n",
                "print(\n",
                "    f\"Dimension error rate on evaluation set: {dim_error_rate_evaluation * 100:.1f}% (correct: {100 - dim_error_rate_evaluation*100:.1f}%)\"\n",
                ")"
            ]
        },
        {
            "cell_type": "code",
            "execution_count": 13,
            "metadata": {},
            "outputs": [],
            "source": [
                "df_summary_errors = df_summary.filter(~pl.col(\"solved\")).select(\n",
                "    \"task_name\",\n",
                "    \"attempt_number\",\n",
                "    \"test_output_grid\",\n",
                ")\n",
                "df_summary_errors = df_summary_errors.join(\n",
                "    dim_errors, on=[\"task_name\", \"test_output_grid\"], how=\"left\"\n",
                ")"
            ]
        },
        {
            "cell_type": "code",
            "execution_count": 14,
            "metadata": {},
            "outputs": [
                {
                    "name": "stdout",
                    "output_type": "stream",
                    "text": [
                        "Dimension error rate on training set, attempt 1: 30.8%\n",
                        "Dimension error rate on training set, attempt 2: 31.5%\n",
                        "Dimension error rate on training set, attempt 3: 33.8%\n",
                        "\n",
                        "Dimension error rate on evaluation set, attempt 1: 24.8%\n",
                        "Dimension error rate on evaluation set, attempt 2: 27.0%\n",
                        "Dimension error rate on evaluation set, attempt 3: 28.3%\n"
                    ]
                }
            ],
            "source": [
                "dim_error_rate_training_attempt_one = (\n",
                "    df_summary_errors.filter(\n",
                "        (pl.col(\"attempt_number\") == 1)\n",
                "        & (pl.col(\"task_type\") == \"training\")\n",
                "        & pl.col(\"dim_error\")\n",
                "    ).height\n",
                "    / df_summary_errors.filter(\n",
                "        (pl.col(\"attempt_number\") == 1) & (pl.col(\"task_type\") == \"training\")\n",
                "    ).height\n",
                ")\n",
                "\n",
                "dim_error_rate_training_attempt_two = (\n",
                "    df_summary_errors.filter(\n",
                "        (pl.col(\"attempt_number\") == 2)\n",
                "        & (pl.col(\"task_type\") == \"training\")\n",
                "        & pl.col(\"dim_error\")\n",
                "    ).height\n",
                "    / df_summary_errors.filter(\n",
                "        (pl.col(\"attempt_number\") == 2) & (pl.col(\"task_type\") == \"training\")\n",
                "    ).height\n",
                ")\n",
                "\n",
                "dim_error_rate_training_attempt_three = (\n",
                "    df_summary_errors.filter(\n",
                "        (pl.col(\"attempt_number\") == 3)\n",
                "        & (pl.col(\"task_type\") == \"training\")\n",
                "        & pl.col(\"dim_error\")\n",
                "    ).height\n",
                "    / df_summary_errors.filter(\n",
                "        (pl.col(\"attempt_number\") == 3) & (pl.col(\"task_type\") == \"training\")\n",
                "    ).height\n",
                ")\n",
                "\n",
                "print(\n",
                "    f\"Dimension error rate on training set, attempt 1: {dim_error_rate_training_attempt_one * 100:.1f}%\"\n",
                ")\n",
                "print(\n",
                "    f\"Dimension error rate on training set, attempt 2: {dim_error_rate_training_attempt_two * 100:.1f}%\"\n",
                ")\n",
                "\n",
                "print(\n",
                "    f\"Dimension error rate on training set, attempt 3: {dim_error_rate_training_attempt_three * 100:.1f}%\"\n",
                ")\n",
                "print()\n",
                "dim_error_rate_evaluation_attempt_one = (\n",
                "    df_summary_errors.filter(\n",
                "        (pl.col(\"attempt_number\") == 1)\n",
                "        & (pl.col(\"task_type\") == \"evaluation\")\n",
                "        & pl.col(\"dim_error\")\n",
                "    ).height\n",
                "    / df_summary_errors.filter(\n",
                "        (pl.col(\"attempt_number\") == 1) & (pl.col(\"task_type\") == \"evaluation\")\n",
                "    ).height\n",
                ")\n",
                "\n",
                "dim_error_rate_evaluation_attempt_two = (\n",
                "    df_summary_errors.filter(\n",
                "        (pl.col(\"attempt_number\") == 2)\n",
                "        & (pl.col(\"task_type\") == \"evaluation\")\n",
                "        & pl.col(\"dim_error\")\n",
                "    ).height\n",
                "    / df_summary_errors.filter(\n",
                "        (pl.col(\"attempt_number\") == 2) & (pl.col(\"task_type\") == \"evaluation\")\n",
                "    ).height\n",
                ")\n",
                "\n",
                "\n",
                "dim_error_rate_evaluation_attempt_three = (\n",
                "    df_summary_errors.filter(\n",
                "        (pl.col(\"attempt_number\") == 3)\n",
                "        & (pl.col(\"task_type\") == \"evaluation\")\n",
                "        & pl.col(\"dim_error\")\n",
                "    ).height\n",
                "    / df_summary_errors.filter(\n",
                "        (pl.col(\"attempt_number\") == 3) & (pl.col(\"task_type\") == \"evaluation\")\n",
                "    ).height\n",
                ")\n",
                "\n",
                "print(\n",
                "    f\"Dimension error rate on evaluation set, attempt 1: {dim_error_rate_evaluation_attempt_one * 100:.1f}%\"\n",
                ")\n",
                "print(\n",
                "    f\"Dimension error rate on evaluation set, attempt 2: {dim_error_rate_evaluation_attempt_two * 100:.1f}%\"\n",
                ")\n",
                "print(\n",
                "    f\"Dimension error rate on evaluation set, attempt 3: {dim_error_rate_evaluation_attempt_three * 100:.1f}%\"\n",
                ")"
            ]
        },
        {
            "cell_type": "markdown",
            "metadata": {},
            "source": [
                "# Error statistics\n"
            ]
        },
        {
            "cell_type": "code",
            "execution_count": 16,
            "metadata": {},
            "outputs": [],
            "source": [
                "arc_tests = pl.read_csv(\"../data/ARC_all_tasks_tests_stats.csv\").drop(\n",
                "    \"example_type\", \"example_number\", \"input_filename\", \"output_filename\", \"set\"\n",
                ")\n",
                "arc_training = pl.read_csv(\"../arc_data/ARC_training_tasks.csv\")\n",
                "arc_evaluation = pl.read_csv(\"../arc_data/ARC_evaluation_tasks.csv\")"
            ]
        },
        {
            "cell_type": "markdown",
            "metadata": {},
            "source": [
                "People seem to be resorting to patterns in\n"
            ]
        },
        {
            "cell_type": "code",
            "execution_count": 17,
            "metadata": {},
            "outputs": [
                {
                    "data": {
                        "text/html": [
                            "<div><style>\n",
                            ".dataframe > thead > tr,\n",
                            ".dataframe > tbody > tr {\n",
                            "  text-align: right;\n",
                            "  white-space: pre-wrap;\n",
                            "}\n",
                            "</style>\n",
                            "<small>shape: (5, 11)</small><table border=\"1\" class=\"dataframe\"><thead><tr><th>task_type</th><th>task_number</th><th>task_name</th><th>input_height</th><th>input_width</th><th>output_height</th><th>output_width</th><th>input_grid</th><th>output_grid</th><th>grid_size</th><th>num_examples</th></tr><tr><td>str</td><td>i64</td><td>str</td><td>i64</td><td>i64</td><td>i64</td><td>i64</td><td>str</td><td>str</td><td>i64</td><td>i64</td></tr></thead><tbody><tr><td>&quot;training&quot;</td><td>1</td><td>&quot;007bbfb7.json&quot;</td><td>3</td><td>3</td><td>9</td><td>9</td><td>&quot;|707|707|770|&quot;</td><td>&quot;|707000707|707000707|770000770|707000707|7070…</td><td>81</td><td>5</td></tr><tr><td>&quot;training&quot;</td><td>2</td><td>&quot;00d62c1b.json&quot;</td><td>20</td><td>20</td><td>20</td><td>20</td><td>&quot;|00000000000000000000|00300000000000000000|03…</td><td>&quot;|00000000000000000000|00300000000000000000|03…</td><td>400</td><td>5</td></tr><tr><td>&quot;training&quot;</td><td>3</td><td>&quot;017c7c7b.json&quot;</td><td>6</td><td>3</td><td>9</td><td>3</td><td>&quot;|111|010|010|111|010|010|&quot;</td><td>&quot;|222|020|020|222|020|020|222|020|020|&quot;</td><td>27</td><td>3</td></tr><tr><td>&quot;training&quot;</td><td>4</td><td>&quot;025d127b.json&quot;</td><td>10</td><td>10</td><td>10</td><td>10</td><td>&quot;|0000000000|0444444000|0400000400|0040000040|…</td><td>&quot;|0000000000|0044444400|0040000040|0004000004|…</td><td>100</td><td>2</td></tr><tr><td>&quot;training&quot;</td><td>5</td><td>&quot;045e512c.json&quot;</td><td>21</td><td>21</td><td>21</td><td>21</td><td>&quot;|000000000000000000000|000000000000000000000|…</td><td>&quot;|000000000000004040000|000000000000004040000|…</td><td>441</td><td>3</td></tr></tbody></table></div>"
                        ],
                        "text/plain": [
                            "shape: (5, 11)\n",
                            "┌───────────┬───────────┬───────────┬───────────┬───┬───────────┬───────────┬───────────┬──────────┐\n",
                            "│ task_type ┆ task_numb ┆ task_name ┆ input_hei ┆ … ┆ input_gri ┆ output_gr ┆ grid_size ┆ num_exam │\n",
                            "│ ---       ┆ er        ┆ ---       ┆ ght       ┆   ┆ d         ┆ id        ┆ ---       ┆ ples     │\n",
                            "│ str       ┆ ---       ┆ str       ┆ ---       ┆   ┆ ---       ┆ ---       ┆ i64       ┆ ---      │\n",
                            "│           ┆ i64       ┆           ┆ i64       ┆   ┆ str       ┆ str       ┆           ┆ i64      │\n",
                            "╞═══════════╪═══════════╪═══════════╪═══════════╪═══╪═══════════╪═══════════╪═══════════╪══════════╡\n",
                            "│ training  ┆ 1         ┆ 007bbfb7. ┆ 3         ┆ … ┆ |707|707| ┆ |70700070 ┆ 81        ┆ 5        │\n",
                            "│           ┆           ┆ json      ┆           ┆   ┆ 770|      ┆ 7|7070007 ┆           ┆          │\n",
                            "│           ┆           ┆           ┆           ┆   ┆           ┆ 07|770000 ┆           ┆          │\n",
                            "│           ┆           ┆           ┆           ┆   ┆           ┆ 770|70700 ┆           ┆          │\n",
                            "│           ┆           ┆           ┆           ┆   ┆           ┆ 0707|7070 ┆           ┆          │\n",
                            "│           ┆           ┆           ┆           ┆   ┆           ┆ …         ┆           ┆          │\n",
                            "│ training  ┆ 2         ┆ 00d62c1b. ┆ 20        ┆ … ┆ |00000000 ┆ |00000000 ┆ 400       ┆ 5        │\n",
                            "│           ┆           ┆ json      ┆           ┆   ┆ 000000000 ┆ 000000000 ┆           ┆          │\n",
                            "│           ┆           ┆           ┆           ┆   ┆ 000|00300 ┆ 000|00300 ┆           ┆          │\n",
                            "│           ┆           ┆           ┆           ┆   ┆ 000000000 ┆ 000000000 ┆           ┆          │\n",
                            "│           ┆           ┆           ┆           ┆   ┆ 000000|03 ┆ 000000|03 ┆           ┆          │\n",
                            "│           ┆           ┆           ┆           ┆   ┆ …         ┆ …         ┆           ┆          │\n",
                            "│ training  ┆ 3         ┆ 017c7c7b. ┆ 6         ┆ … ┆ |111|010| ┆ |222|020| ┆ 27        ┆ 3        │\n",
                            "│           ┆           ┆ json      ┆           ┆   ┆ 010|111|0 ┆ 020|222|0 ┆           ┆          │\n",
                            "│           ┆           ┆           ┆           ┆   ┆ 10|010|   ┆ 20|020|22 ┆           ┆          │\n",
                            "│           ┆           ┆           ┆           ┆   ┆           ┆ 2|020|020 ┆           ┆          │\n",
                            "│           ┆           ┆           ┆           ┆   ┆           ┆ |         ┆           ┆          │\n",
                            "│ training  ┆ 4         ┆ 025d127b. ┆ 10        ┆ … ┆ |00000000 ┆ |00000000 ┆ 100       ┆ 2        │\n",
                            "│           ┆           ┆ json      ┆           ┆   ┆ 00|044444 ┆ 00|004444 ┆           ┆          │\n",
                            "│           ┆           ┆           ┆           ┆   ┆ 4000|0400 ┆ 4400|0040 ┆           ┆          │\n",
                            "│           ┆           ┆           ┆           ┆   ┆ 000400|00 ┆ 000040|00 ┆           ┆          │\n",
                            "│           ┆           ┆           ┆           ┆   ┆ 40000040| ┆ 04000004| ┆           ┆          │\n",
                            "│           ┆           ┆           ┆           ┆   ┆ …         ┆ …         ┆           ┆          │\n",
                            "│ training  ┆ 5         ┆ 045e512c. ┆ 21        ┆ … ┆ |00000000 ┆ |00000000 ┆ 441       ┆ 3        │\n",
                            "│           ┆           ┆ json      ┆           ┆   ┆ 000000000 ┆ 000000404 ┆           ┆          │\n",
                            "│           ┆           ┆           ┆           ┆   ┆ 0000|0000 ┆ 0000|0000 ┆           ┆          │\n",
                            "│           ┆           ┆           ┆           ┆   ┆ 000000000 ┆ 000000000 ┆           ┆          │\n",
                            "│           ┆           ┆           ┆           ┆   ┆ 00000000| ┆ 04040000| ┆           ┆          │\n",
                            "│           ┆           ┆           ┆           ┆   ┆ …         ┆ …         ┆           ┆          │\n",
                            "└───────────┴───────────┴───────────┴───────────┴───┴───────────┴───────────┴───────────┴──────────┘"
                        ]
                    },
                    "execution_count": 17,
                    "metadata": {},
                    "output_type": "execute_result"
                }
            ],
            "source": [
                "arc_tests.head()"
            ]
        },
        {
            "cell_type": "code",
            "execution_count": 18,
            "metadata": {},
            "outputs": [
                {
                    "data": {
                        "text/html": [
                            "<div><style>\n",
                            ".dataframe > thead > tr,\n",
                            ".dataframe > tbody > tr {\n",
                            "  text-align: right;\n",
                            "  white-space: pre-wrap;\n",
                            "}\n",
                            "</style>\n",
                            "<small>shape: (5, 7)</small><table border=\"1\" class=\"dataframe\"><thead><tr><th>task_name</th><th>test_output_grid</th><th>count</th><th>task_type</th><th>hashed_output_grid</th><th>test_output_height</th><th>test_output_width</th></tr><tr><td>str</td><td>str</td><td>u32</td><td>str</td><td>str</td><td>u32</td><td>u32</td></tr></thead><tbody><tr><td>&quot;fcc82909.json&quot;</td><td>&quot;|0000000000|1100002900|2100001600|0004700000|…</td><td>1</td><td>&quot;training&quot;</td><td>&quot;c242d4f324a49fe9994dbee95c227b6e&quot;</td><td>10</td><td>10</td></tr><tr><td>&quot;6773b310.json&quot;</td><td>&quot;|000|010|100|&quot;</td><td>1</td><td>&quot;training&quot;</td><td>&quot;279287efed858363585dbfa14503081d&quot;</td><td>3</td><td>3</td></tr><tr><td>&quot;2a5f8217.json&quot;</td><td>&quot;|0000008800000|0020088808800|0222008088800|00…</td><td>1</td><td>&quot;evaluation&quot;</td><td>&quot;a2fb863b43ceb430fe6f987a27095ab0&quot;</td><td>13</td><td>13</td></tr><tr><td>&quot;662c240a.json&quot;</td><td>&quot;|111|188|188|&quot;</td><td>10</td><td>&quot;training&quot;</td><td>&quot;4db420ee20d9579a03f935dbff1ef695&quot;</td><td>3</td><td>3</td></tr><tr><td>&quot;642d658d.json&quot;</td><td>&quot;|9|&quot;</td><td>1</td><td>&quot;evaluation&quot;</td><td>&quot;47b9729b6229104d5afbf1858cce757c&quot;</td><td>1</td><td>1</td></tr></tbody></table></div>"
                        ],
                        "text/plain": [
                            "shape: (5, 7)\n",
                            "┌───────────────┬───────────────┬───────┬────────────┬───────────────┬──────────────┬──────────────┐\n",
                            "│ task_name     ┆ test_output_g ┆ count ┆ task_type  ┆ hashed_output ┆ test_output_ ┆ test_output_ │\n",
                            "│ ---           ┆ rid           ┆ ---   ┆ ---        ┆ _grid         ┆ height       ┆ width        │\n",
                            "│ str           ┆ ---           ┆ u32   ┆ str        ┆ ---           ┆ ---          ┆ ---          │\n",
                            "│               ┆ str           ┆       ┆            ┆ str           ┆ u32          ┆ u32          │\n",
                            "╞═══════════════╪═══════════════╪═══════╪════════════╪═══════════════╪══════════════╪══════════════╡\n",
                            "│ fcc82909.json ┆ |0000000000|1 ┆ 1     ┆ training   ┆ c242d4f324a49 ┆ 10           ┆ 10           │\n",
                            "│               ┆ 100002900|210 ┆       ┆            ┆ fe9994dbee95c ┆              ┆              │\n",
                            "│               ┆ 0001600|00047 ┆       ┆            ┆ 227b6e        ┆              ┆              │\n",
                            "│               ┆ 00000|…       ┆       ┆            ┆               ┆              ┆              │\n",
                            "│ 6773b310.json ┆ |000|010|100| ┆ 1     ┆ training   ┆ 279287efed858 ┆ 3            ┆ 3            │\n",
                            "│               ┆               ┆       ┆            ┆ 363585dbfa145 ┆              ┆              │\n",
                            "│               ┆               ┆       ┆            ┆ 03081d        ┆              ┆              │\n",
                            "│ 2a5f8217.json ┆ |000000880000 ┆ 1     ┆ evaluation ┆ a2fb863b43ceb ┆ 13           ┆ 13           │\n",
                            "│               ┆ 0|00200888088 ┆       ┆            ┆ 430fe6f987a27 ┆              ┆              │\n",
                            "│               ┆ 00|0222008088 ┆       ┆            ┆ 095ab0        ┆              ┆              │\n",
                            "│               ┆ 800|00…       ┆       ┆            ┆               ┆              ┆              │\n",
                            "│ 662c240a.json ┆ |111|188|188| ┆ 10    ┆ training   ┆ 4db420ee20d95 ┆ 3            ┆ 3            │\n",
                            "│               ┆               ┆       ┆            ┆ 79a03f935dbff ┆              ┆              │\n",
                            "│               ┆               ┆       ┆            ┆ 1ef695        ┆              ┆              │\n",
                            "│ 642d658d.json ┆ |9|           ┆ 1     ┆ evaluation ┆ 47b9729b62291 ┆ 1            ┆ 1            │\n",
                            "│               ┆               ┆       ┆            ┆ 04d5afbf1858c ┆              ┆              │\n",
                            "│               ┆               ┆       ┆            ┆ ce757c        ┆              ┆              │\n",
                            "└───────────────┴───────────────┴───────┴────────────┴───────────────┴──────────────┴──────────────┘"
                        ]
                    },
                    "execution_count": 18,
                    "metadata": {},
                    "output_type": "execute_result"
                }
            ],
            "source": [
                "errors.head()"
            ]
        }
    ],
    "metadata": {
        "kernelspec": {
            "display_name": ".venv",
            "language": "python",
            "name": "python3"
        },
        "language_info": {
            "codemirror_mode": {
                "name": "ipython",
                "version": 3
            },
            "file_extension": ".py",
            "mimetype": "text/x-python",
            "name": "python",
            "nbconvert_exporter": "python",
            "pygments_lexer": "ipython3",
            "version": "3.12.5"
        }
    },
    "nbformat": 4,
    "nbformat_minor": 2
}

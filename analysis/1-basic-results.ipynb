{
 "cells": [
  {
   "cell_type": "code",
   "execution_count": 1,
   "metadata": {},
   "outputs": [],
   "source": [
    "# imports\n",
    "import polars as pl\n",
    "import seaborn as sns\n",
    "import matplotlib.pyplot as plt\n",
    "import json\n",
    "import datetime\n",
    "from datetime import datetime as dt\n",
    "import numpy as np\n",
    "import sys\n",
    "from scipy.stats import pearsonr\n",
    "from scipy import stats\n",
    "\n",
    "sys.path.append(\"../\")\n",
    "from src.utils import *"
   ]
  },
  {
   "cell_type": "code",
   "execution_count": 2,
   "metadata": {},
   "outputs": [
    {
     "data": {
      "text/plain": [
       "<polars.config.Config at 0x12ba01550>"
      ]
     },
     "execution_count": 2,
     "metadata": {},
     "output_type": "execute_result"
    }
   ],
   "source": [
    "# polars config\n",
    "pl.Config.load_from_file(\"../polars_cfg.json\")"
   ]
  },
  {
   "cell_type": "markdown",
   "metadata": {},
   "source": [
    "# 1. Data loading\n",
    "\n",
    "Choose whether to include participants that didn't complete all five tasks in the analyses with the True / False toggle.\n"
   ]
  },
  {
   "cell_type": "code",
   "execution_count": 3,
   "metadata": {},
   "outputs": [],
   "source": [
    "include_incomplete_data = True"
   ]
  },
  {
   "cell_type": "code",
   "execution_count": 4,
   "metadata": {},
   "outputs": [],
   "source": [
    "# data file paths\n",
    "clean_summary_path = \"../data/clean_summary_data_merged.csv\"\n",
    "clean_incomplete_path = \"../data/clean_incomplete_data_merged.csv\"\n",
    "clean_all_path = \"../data/clean_all_data_merged.csv\""
   ]
  },
  {
   "cell_type": "code",
   "execution_count": 5,
   "metadata": {},
   "outputs": [
    {
     "name": "stdout",
     "output_type": "stream",
     "text": [
      "Filtered out 59/783 incomplete participant task attempts\n"
     ]
    }
   ],
   "source": [
    "# load / process data\n",
    "df_summary = pl.read_csv(clean_summary_path)\n",
    "df_incomplete = pl.read_csv(clean_incomplete_path)\n",
    "df_all = pl.read_csv(clean_all_path)\n",
    "df_all = df_all.with_columns(\n",
    "    pl.col(\"time\").map_elements(parse_mixed_datetime, return_dtype=pl.Datetime),\n",
    "    pl.col(\"condition\").cast(pl.Float64),\n",
    ")\n",
    "df_incomplete = df_incomplete.with_columns(\n",
    "    pl.col(\"time\").map_elements(parse_mixed_datetime, return_dtype=pl.Datetime),\n",
    "    pl.col(\"condition\").cast(pl.Float64),\n",
    ")\n",
    "columns = [\n",
    "    \"hashed_id\",\n",
    "    \"joint_id_task\",\n",
    "    \"task_name\",\n",
    "    \"task_number\",\n",
    "    \"task_type\",\n",
    "    \"attempt_number\",\n",
    "    \"action\",\n",
    "    \"num_actions\",\n",
    "    \"solved\",\n",
    "    \"time\",\n",
    "    \"condition\",\n",
    "    \"test_input_grid\",\n",
    "    \"test_output_grid\",\n",
    "    \"exp_name\",\n",
    "]\n",
    "if include_incomplete_data:\n",
    "    df_all = pl.concat([df_all.select(columns), df_incomplete.select(columns)])\n",
    "    df_summary, df_incomplete_summary = include_incomplete(df_summary, df_incomplete)"
   ]
  },
  {
   "cell_type": "markdown",
   "metadata": {},
   "source": [
    "# 2. Data collection results\n"
   ]
  },
  {
   "cell_type": "code",
   "execution_count": 6,
   "metadata": {},
   "outputs": [
    {
     "name": "stdout",
     "output_type": "stream",
     "text": [
      "Number of unique training tasks with data: 400\n",
      "Number of unique evaluation tasks with data: 400\n"
     ]
    }
   ],
   "source": [
    "# unique number of tasks completed in each set\n",
    "n_training_tasks = df_summary.filter(pl.col(\"task_type\") == \"training\").n_unique(\n",
    "    \"task_name\"\n",
    ")\n",
    "n_eval_tasks = df_summary.filter(pl.col(\"task_type\") == \"evaluation\").n_unique(\n",
    "    \"task_name\"\n",
    ")\n",
    "print(f\"Number of unique training tasks with data: {n_training_tasks}\")\n",
    "print(f\"Number of unique evaluation tasks with data: {n_eval_tasks}\")"
   ]
  },
  {
   "cell_type": "code",
   "execution_count": 7,
   "metadata": {},
   "outputs": [
    {
     "name": "stdout",
     "output_type": "stream",
     "text": [
      "Number of participants in training: 783\n",
      "Number of participants in evaluation: 946\n",
      "Number of participants in training and evaluation: 1729\n"
     ]
    }
   ],
   "source": [
    "# number of participants in each set\n",
    "num_participants_training = df_summary.filter(\n",
    "    pl.col(\"task_type\") == \"training\"\n",
    ").n_unique(\"hashed_id\")\n",
    "num_participants_evaluation = df_summary.filter(\n",
    "    pl.col(\"task_type\") == \"evaluation\"\n",
    ").n_unique(\"hashed_id\")\n",
    "\n",
    "print(f\"Number of participants in training: {num_participants_training}\")\n",
    "print(f\"Number of participants in evaluation: {num_participants_evaluation}\")\n",
    "print(\n",
    "    f\"Number of participants in training and evaluation: {num_participants_training + num_participants_evaluation}\"\n",
    ")"
   ]
  },
  {
   "cell_type": "code",
   "execution_count": 8,
   "metadata": {},
   "outputs": [
    {
     "name": "stdout",
     "output_type": "stream",
     "text": [
      "Average number of participants per task\n",
      "--------------------------------------------------\n",
      "Training set: 11.8\n",
      "Evaluation set: 10.3\n"
     ]
    }
   ],
   "source": [
    "# average number of participants per task\n",
    "mean_participants_per_task = (\n",
    "    df_summary.group_by(\"task_name\")\n",
    "    .agg(pl.n_unique(\"hashed_id\").alias(\"count\"), pl.first(\"task_type\"))\n",
    "    .group_by(\"task_type\")\n",
    "    .agg(pl.mean(\"count\").alias(\"mean_count\"))\n",
    ")\n",
    "print(\"Average number of participants per task\")\n",
    "print(50 * \"-\")\n",
    "print(\n",
    "    f\"Training set: {round(mean_participants_per_task.filter(pl.col('task_type') == 'training').select(\"mean_count\").item(), 1)}\"\n",
    ")\n",
    "print(\n",
    "    f\"Evaluation set: {round(mean_participants_per_task.filter(pl.col('task_type') == 'evaluation').select(\"mean_count\").item(), 1)}\"\n",
    ")"
   ]
  },
  {
   "cell_type": "code",
   "execution_count": 9,
   "metadata": {},
   "outputs": [
    {
     "name": "stdout",
     "output_type": "stream",
     "text": [
      "Total number of attempts at ARC training tasks: 7924\n",
      "Total number of attempts at ARC evaluation tasks: 7820\n",
      "Total number of attepmts on training and evaluation tasks: 15744\n"
     ]
    }
   ],
   "source": [
    "print(\n",
    "    f\"Total number of attempts at ARC training tasks: {df_summary.filter(pl.col('task_type') == 'training').height}\"\n",
    ")\n",
    "print(\n",
    "    f\"Total number of attempts at ARC evaluation tasks: {df_summary.filter(pl.col('task_type') == 'evaluation').height}\"\n",
    ")\n",
    "print(f\"Total number of attepmts on training and evaluation tasks: {df_summary.height}\")"
   ]
  },
  {
   "cell_type": "code",
   "execution_count": 10,
   "metadata": {},
   "outputs": [
    {
     "name": "stdout",
     "output_type": "stream",
     "text": [
      "Total action traces on ARC training tasks: 241697\n",
      "Total action traces on ARC evaluation tasks: 344569\n",
      "Total action traces on ARC training and evaluation tasks: 586266\n"
     ]
    }
   ],
   "source": [
    "print(\n",
    "    f\"Total action traces on ARC training tasks: {df_all.filter(pl.col('task_type') == 'training').height}\"\n",
    ")\n",
    "print(\n",
    "    f\"Total action traces on ARC evaluation tasks: {df_all.filter(pl.col('task_type') == 'evaluation').height}\"\n",
    ")\n",
    "print(f\"Total action traces on ARC training and evaluation tasks: {df_all.height}\")"
   ]
  },
  {
   "cell_type": "code",
   "execution_count": 11,
   "metadata": {},
   "outputs": [
    {
     "name": "stdout",
     "output_type": "stream",
     "text": [
      "Unique number of visited states in ARC training tasks: 127146\n",
      "Unique number of visited states in ARC evaluation tasks: 208214\n",
      "Unique number of visited states in ARC training and evaluation tasks: 334086\n"
     ]
    }
   ],
   "source": [
    "print(\n",
    "    f\"Unique number of visited states in ARC training tasks: {df_all.filter(pl.col('task_type') == 'training').n_unique('test_output_grid')}\"\n",
    ")\n",
    "print(\n",
    "    f\"Unique number of visited states in ARC evaluation tasks: {df_all.filter(pl.col('task_type') == 'evaluation').n_unique('test_output_grid')}\"\n",
    ")\n",
    "print(\n",
    "    f\"Unique number of visited states in ARC training and evaluation tasks: {df_all.n_unique('test_output_grid')}\"\n",
    ")"
   ]
  },
  {
   "cell_type": "markdown",
   "metadata": {},
   "source": [
    "# 3. Performance results\n"
   ]
  },
  {
   "cell_type": "code",
   "execution_count": 12,
   "metadata": {},
   "outputs": [
    {
     "name": "stdout",
     "output_type": "stream",
     "text": [
      "One attempt accuracy\n",
      "--------------------------------------------------\n",
      "Training set mean task accuracy: 59.9\n",
      "Training set task accuracy std: 24.8\n",
      "\n",
      "Evaluation set mean task accuracy: 47.8\n",
      "Evaluation set task accuracy std: 23.2\n",
      "\n",
      "Two attempt accuracy\n",
      "--------------------------------------------------\n",
      "Training set mean task accuracy: 72.6\n",
      "Training set task accuracy std: 22.9\n",
      "\n",
      "Evaluation set mean task accuracy: 60.2\n",
      "Evaluation set task accuracy std: 23.3\n",
      "\n",
      "Three attempt accuracy\n",
      "--------------------------------------------------\n",
      "Training set mean task accuracy: 76.2\n",
      "Training set task accuracy std: 21.5\n",
      "\n",
      "Evaluation set mean task accuracy: 64.2\n",
      "Evaluation set task accuracy std: 22.8\n",
      "\n"
     ]
    }
   ],
   "source": [
    "# get accuracy results\n",
    "attempts = [(\"Three\", 4), (\"Two\", 3), (\"One\", 2)]\n",
    "for attempt, attempt_number in reversed(attempts):\n",
    "    print(f\"{attempt} attempt accuracy\")\n",
    "    print(50 * \"-\")\n",
    "    mean_task_acc = (\n",
    "        df_summary.filter(pl.col(\"attempt_number\") < attempt_number)\n",
    "        .sort([\"hashed_id\", \"task_name\", \"attempt_number\"])\n",
    "        .group_by([\"joint_id_task\"])\n",
    "        .agg(\n",
    "            pl.any(\"solved\").cast(pl.Int32),\n",
    "            pl.first(\"task_type\"),\n",
    "            pl.first(\"task_name\"),\n",
    "        )\n",
    "        .group_by(\"task_name\")\n",
    "        .agg(\n",
    "            pl.first(\"task_type\"),\n",
    "            pl.len().alias(\"count\"),\n",
    "            mean_solved=pl.mean(\"solved\"),\n",
    "        )\n",
    "        .sort(\"mean_solved\")\n",
    "    )\n",
    "    mean_task_acc.write_csv(f\"../data/mean_task_acc_{attempt.lower()}_attempts.csv\")\n",
    "    print(\n",
    "        f\"Training set mean task accuracy: {round(mean_task_acc.filter(pl.col('task_type') == 'training').mean()['mean_solved'][0]*100, 1)}\"\n",
    "    )\n",
    "    print(\n",
    "        f\"Training set task accuracy std: {round(mean_task_acc.filter(pl.col('task_type') == 'training').std()['mean_solved'][0]*100, 1)}\"\n",
    "    )\n",
    "    print()\n",
    "    print(\n",
    "        f\"Evaluation set mean task accuracy: {round(mean_task_acc.filter(pl.col('task_type') == 'evaluation').mean()['mean_solved'][0]*100, 1)}\"\n",
    "    )\n",
    "    print(\n",
    "        f\"Evaluation set task accuracy std: {round(mean_task_acc.filter(pl.col('task_type') == 'evaluation').std()['mean_solved'][0]*100, 1)}\"\n",
    "    )\n",
    "    print()"
   ]
  },
  {
   "cell_type": "code",
   "execution_count": 13,
   "metadata": {},
   "outputs": [
    {
     "name": "stdout",
     "output_type": "stream",
     "text": [
      "t-statistic: 7.667\n",
      "p-value: 0.00000\n",
      "Degrees of freedom: 798\n"
     ]
    }
   ],
   "source": [
    "# perform t-test on three attempt accuracy between training and evaluation\n",
    "training_success_rate = (\n",
    "    mean_task_acc.filter(pl.col(\"task_type\") == \"training\")\n",
    "    .select(\"mean_solved\")\n",
    "    .to_numpy()\n",
    "    .flatten()\n",
    ")\n",
    "evaluation_success_rate = (\n",
    "    mean_task_acc.filter(pl.col(\"task_type\") == \"evaluation\")\n",
    "    .select(\"mean_solved\")\n",
    "    .to_numpy()\n",
    "    .flatten()\n",
    ")\n",
    "\n",
    "t_stat, p_val = stats.ttest_ind(training_success_rate, evaluation_success_rate)\n",
    "print(f\"t-statistic: {t_stat:.3f}\")\n",
    "print(f\"p-value: {p_val:.5f}\")\n",
    "print(\n",
    "    f\"Degrees of freedom: {len(training_success_rate) + len(evaluation_success_rate) - 2}\"\n",
    ")"
   ]
  },
  {
   "cell_type": "code",
   "execution_count": 14,
   "metadata": {},
   "outputs": [],
   "source": [
    "# plot accuracy\n",
    "sns.set_style(\"darkgrid\")\n",
    "mean_task_acc = pl.read_csv(f\"../data/mean_task_acc_three_attempts.csv\")\n",
    "plt.figure(figsize=(10, 6))\n",
    "colors = sns.color_palette(\"tab10\")\n",
    "training_set_acc = (\n",
    "    mean_task_acc.filter(pl.col(\"task_type\") == \"training\")\n",
    "    .select(pl.mean(\"mean_solved\"))\n",
    "    .item()\n",
    ")\n",
    "evaluation_set_acc = (\n",
    "    mean_task_acc.filter(pl.col(\"task_type\") == \"evaluation\")\n",
    "    .select(pl.mean(\"mean_solved\"))\n",
    "    .item()\n",
    ")\n",
    "sns.lineplot(\n",
    "    data=mean_task_acc.filter(pl.col(\"task_type\") == \"training\").with_row_index(),\n",
    "    x=\"index\",\n",
    "    y=\"mean_solved\",\n",
    "    label=\"Training set accuracy\",\n",
    "    alpha=0.7,\n",
    ")\n",
    "plt.axhline(\n",
    "    y=training_set_acc,\n",
    "    color=colors[0],\n",
    "    linestyle=\"--\",\n",
    "    alpha=0.7,\n",
    ")\n",
    "sns.lineplot(\n",
    "    data=mean_task_acc.filter(pl.col(\"task_type\") == \"evaluation\").with_row_index(),\n",
    "    x=\"index\",\n",
    "    y=\"mean_solved\",\n",
    "    alpha=0.7,\n",
    "    label=\"Evaluation set accuracy\",\n",
    ")\n",
    "plt.axhline(\n",
    "    y=evaluation_set_acc,\n",
    "    color=colors[1],\n",
    "    linestyle=\"--\",\n",
    "    alpha=0.7,\n",
    ")\n",
    "plt.xticks([])\n",
    "plt.yticks(fontsize=18)\n",
    "plt.ylabel(\"Mean success rate\", fontdict={\"fontsize\": 20})\n",
    "plt.xlabel(\"Tasks\", fontdict={\"fontsize\": 20})\n",
    "plt.legend(fontsize=18)\n",
    "plt.tight_layout()\n",
    "plt.savefig(\"../figures/mean_task_acc.png\", dpi=300, bbox_inches=\"tight\")\n",
    "plt.show()"
   ]
  },
  {
   "cell_type": "code",
   "execution_count": null,
   "metadata": {},
   "outputs": [
    {
     "name": "stdout",
     "output_type": "stream",
     "text": [
      "Best human performance\n",
      "--------------------------------------------------\n",
      "1 attempt\n",
      "Training set: 96.8% (387/400)\n",
      "Evaluation set: 95.8% (383/400)\n",
      "Total: 96.2% (770/800)\n",
      "\n",
      "2 attempts\n",
      "Training set: 98.5% (394/400)\n",
      "Evaluation set: 97.8% (391/400)\n",
      "Total: 98.1% (785/800)\n",
      "\n",
      "3 attempts\n",
      "Training set: 98.8% (395/400)\n",
      "Evaluation set: 98.8% (395/400)\n",
      "Total: 98.8% (790/800)\n",
      "\n"
     ]
    }
   ],
   "source": [
    "# get best human accuracy for each attempt\n",
    "def get_best_attempt(df, max_attempts):\n",
    "    return (\n",
    "        df.filter(pl.col(\"attempt_number\") <= max_attempts)\n",
    "        .group_by(\"task_name\")\n",
    "        .agg(pl.any(\"solved\"), pl.first(\"task_type\"))\n",
    "    )\n",
    "\n",
    "\n",
    "def calculate_score(df, task_type):\n",
    "    filtered_df = df.filter(pl.col(\"task_type\") == task_type)\n",
    "    solved_count = filtered_df.filter(pl.col(\"solved\")).height\n",
    "    total_count = filtered_df.height\n",
    "    return solved_count, total_count\n",
    "\n",
    "\n",
    "# Calculate best attempts\n",
    "best_attempts = {\n",
    "    attempts: get_best_attempt(df_summary, attempts) for attempts in range(1, 4)\n",
    "}\n",
    "\n",
    "# Calculate scores\n",
    "scores = {\n",
    "    attempts: {\n",
    "        task_type: calculate_score(df, task_type)\n",
    "        for task_type in [\"training\", \"evaluation\"]\n",
    "    }\n",
    "    for attempts, df in best_attempts.items()\n",
    "}\n",
    "\n",
    "# Print results\n",
    "print(\"Best human performance\")\n",
    "print(\"-\" * 50)\n",
    "for attempts in range(1, 4):\n",
    "    print(f\"{attempts} attempt{'s' if attempts > 1 else ''}\")\n",
    "    total_solved = 0\n",
    "    total_count = 0\n",
    "    for task_type in [\"Training\", \"Evaluation\"]:\n",
    "        solved_count, count = scores[attempts][task_type.lower()]\n",
    "        total_solved += solved_count\n",
    "        total_count += count\n",
    "        percentage = (solved_count / count) * 100\n",
    "        print(f\"{task_type} set: {round(percentage, 1)}% ({solved_count}/{count})\")\n",
    "    total_percentage = (total_solved / total_count) * 100\n",
    "    print(f\"Total: {round(total_percentage, 1)}% ({total_solved}/{total_count})\")\n",
    "    print()"
   ]
  },
  {
   "cell_type": "code",
   "execution_count": null,
   "metadata": {},
   "outputs": [
    {
     "data": {
      "image/png": "[encoded data removed]",
      "text/plain": [
       "<Figure size 1000x600 with 1 Axes>"
      ]
     },
     "metadata": {},
     "output_type": "display_data"
    }
   ],
   "source": [
    "# plot number of tasks solved by 1...9 and more people\n",
    "solved_by_n_people = df_summary.group_by(\"task_name\").agg(\n",
    "    pl.count(\"hashed_id\").alias(\"n_people_attempted\"),\n",
    "    pl.sum(\"solved\").alias(\"n_solved\"),\n",
    "    pl.first(\"task_type\"),\n",
    ")\n",
    "\n",
    "# Create a list to store the data for each n and task type\n",
    "data = {\n",
    "    \"n\": [],\n",
    "    \"task_type\": [],\n",
    "    \"task_name\": [],\n",
    "}\n",
    "\n",
    "for task_type in [\"training\", \"evaluation\"]:\n",
    "    for n in np.arange(1, 9):\n",
    "        solved_by_n_people_filtered = solved_by_n_people.filter(\n",
    "            (pl.col(\"n_solved\") >= n) & (pl.col(\"task_type\") == task_type)\n",
    "        )\n",
    "        for task_name in (\n",
    "            solved_by_n_people_filtered.select(\"task_name\")\n",
    "            .unique()\n",
    "            .to_numpy()\n",
    "            .flatten()\n",
    "        ):\n",
    "            data[\"n\"].append(n)\n",
    "            data[\"task_type\"].append(task_type.capitalize())\n",
    "            data[\"task_name\"].append(task_name)\n",
    "\n",
    "# Create a DataFrame from the collected data\n",
    "solved_by_at_least_df = pl.DataFrame(data)\n",
    "solved_by_at_least_df = solved_by_at_least_df.group_by([\"n\", \"task_type\"]).agg(\n",
    "    pl.count(\"task_name\").alias(\"proportion\") / 400,\n",
    ")\n",
    "\n",
    "# Plot using seaborn with hue\n",
    "sns.set_style(\"darkgrid\")\n",
    "plt.figure(figsize=(10, 6))\n",
    "sns.lineplot(\n",
    "    data=solved_by_at_least_df,\n",
    "    x=\"n\",\n",
    "    y=\"proportion\",\n",
    "    hue=\"task_type\",\n",
    "    hue_order=[\"Training\", \"Evaluation\"],\n",
    "    style=\"task_type\",\n",
    "    markers=True,\n",
    "    dashes=False,\n",
    "    markersize=10,\n",
    ")\n",
    "plt.yticks(fontsize=18)\n",
    "plt.xticks(fontsize=18)\n",
    "plt.legend(fontsize=18)\n",
    "plt.ylabel(\"Proportion of tasks\", fontdict={\"fontsize\": 20})\n",
    "plt.xlabel(\n",
    "    \"Minimum number of participants that solved the task\", fontdict={\"fontsize\": 20}\n",
    ")\n",
    "plt.tight_layout()\n",
    "plt.savefig(\"../figures/solved_by_n_people.png\", dpi=300, bbox_inches=\"tight\")\n",
    "plt.show()"
   ]
  },
  {
   "cell_type": "code",
   "execution_count": null,
   "metadata": {},
   "outputs": [],
   "source": [
    "# proportion solved per participant\n",
    "participants_max_tasks = df_summary.group_by(\"hashed_id\").agg(\n",
    "    pl.max(\"task_number\"), pl.first(\"task_type\")\n",
    ")\n",
    "participants_max_tasks = participants_max_tasks.rename(\n",
    "    {\"task_number\": \"max_task_number\"}\n",
    ")\n",
    "df_summary = df_summary.join(participants_max_tasks, on=\"hashed_id\")\n",
    "proportion_solved = df_summary.group_by(\"hashed_id\").agg(\n",
    "    pl.sum(\"solved\") / pl.max(\"max_task_number\"), pl.first(\"task_type\")\n",
    ")"
   ]
  },
  {
   "cell_type": "code",
   "execution_count": null,
   "metadata": {},
   "outputs": [
    {
     "data": {
      "image/png": "[encoded data removed]",
      "text/plain": [
       "<Figure size 1000x600 with 1 Axes>"
      ]
     },
     "metadata": {},
     "output_type": "display_data"
    }
   ],
   "source": [
    "# histplot of proportion of tasks solved\n",
    "sns.set_style(\"darkgrid\")\n",
    "ax = plt.subplots(figsize=(10, 6))\n",
    "hue_order = [\"training\", \"evaluation\"]\n",
    "max_n = proportion_solved.select(pl.max(\"solved\")).item()\n",
    "min_n = proportion_solved.select(pl.min(\"solved\")).item()\n",
    "bins = 6\n",
    "step = (max_n - min_n) / bins\n",
    "arr_div = np.arange(min_n + step / 2, max_n + step / 2, step=step)\n",
    "arr_div_r = [0.0, 0.2, 0.4, 0.6, 0.8, 1.0]\n",
    "sns.histplot(\n",
    "    data=proportion_solved,\n",
    "    x=\"solved\",\n",
    "    stat=\"proportion\",\n",
    "    bins=6,\n",
    "    shrink=0.8,\n",
    "    alpha=0.7,\n",
    "    multiple=\"dodge\",\n",
    "    hue=\"task_type\",\n",
    "    common_norm=False,\n",
    "    hue_order=hue_order,\n",
    "    ax=ax[1],\n",
    ")\n",
    "ax[1].set_xlabel(\"Proportion of tasks correctly solved\", fontdict={\"fontsize\": 20})\n",
    "ax[1].set_ylabel(\"Proportion of participants\", fontdict={\"fontsize\": 20})\n",
    "plt.xticks(arr_div, arr_div_r, fontsize=18)\n",
    "plt.yticks(fontsize=18)\n",
    "ax[1].get_legend().set_title(\"Split\")\n",
    "handles = ax[1].get_legend().legend_handles\n",
    "plt.legend(handles=handles, labels=[\"Training\", \"Evaluation\"], fontsize=18)\n",
    "plt.tight_layout()\n",
    "plt.savefig(\"../figures/task_success_dist.png\", dpi=300, bbox_inches=\"tight\")\n",
    "plt.show()"
   ]
  },
  {
   "cell_type": "code",
   "execution_count": null,
   "metadata": {},
   "outputs": [
    {
     "name": "stdout",
     "output_type": "stream",
     "text": [
      "Training set statistics:\n",
      "--------------------------------------------------\n",
      "Mean success rate: 74.2%\n",
      "Std success rate: 31.2%\n",
      "Success rate mode: 100.0%\n",
      "All tasks solved: 314/783 (40.1%)\n",
      "No tasks solved: 67/783 (8.6%)\n",
      "\n",
      "Evaluation set statistics:\n",
      "--------------------------------------------------\n",
      "Mean success rate: 62.7%\n",
      "Std success rate: 36.7%\n",
      "Success rate mode: 100.0%\n",
      "All tasks solved: 320/946 (33.8%)\n",
      "No tasks solved: 158/946 (16.7%)\n",
      "\n"
     ]
    }
   ],
   "source": [
    "# particpant success rate stats\n",
    "def calculate_stats(df, task_type):\n",
    "    filtered = df.filter(pl.col(\"task_type\") == task_type)\n",
    "    stats = filtered.select(\n",
    "        [\n",
    "            pl.col(\"solved\").mean().alias(\"mean\"),\n",
    "            pl.col(\"solved\").std().alias(\"std\"),\n",
    "            pl.col(\"solved\").mode().alias(\"mode\"),\n",
    "        ]\n",
    "    )\n",
    "    perfect = filtered.filter(pl.col(\"solved\") == 1).height\n",
    "    zero = filtered.filter(pl.col(\"solved\") == 0).height\n",
    "    total = filtered.height\n",
    "\n",
    "    print(f\"{task_type.capitalize()} set statistics:\")\n",
    "    print(\"-\" * 50)\n",
    "    print(f\"Mean success rate: {round(stats['mean'][0]*100, 1)}%\")\n",
    "    print(f\"Std success rate: {round(stats['std'][0]*100, 1)}%\")\n",
    "    print(f\"Success rate mode: {round(stats['mode'][0]*100, 1)}%\")\n",
    "    print(f\"All tasks solved: {perfect}/{total} ({round(perfect/total*100, 1)}%)\")\n",
    "    print(f\"No tasks solved: {zero}/{total} ({round(zero/total*100, 1)}%)\\n\")\n",
    "\n",
    "\n",
    "# Calculate and print stats for both sets\n",
    "for task_type in [\"training\", \"evaluation\"]:\n",
    "    calculate_stats(proportion_solved, task_type)"
   ]
  },
  {
   "cell_type": "code",
   "execution_count": null,
   "metadata": {},
   "outputs": [
    {
     "name": "stdout",
     "output_type": "stream",
     "text": [
      "Training set task statistics:\n",
      "--------------------------------------------------\n",
      "100% accuracy: 74/400 (18.5%)\n",
      "80% or more accuracy: 213/400 (53.2%)\n",
      "0% accuracy: 5/400 (1.25%)\n",
      "\n",
      "Evaluation set task statistics:\n",
      "--------------------------------------------------\n",
      "100% accuracy: 22/400 (5.5%)\n",
      "80% or more accuracy: 118/400 (29.5%)\n",
      "0% accuracy: 5/400 (1.25%)\n",
      "\n"
     ]
    }
   ],
   "source": [
    "def calculate_accuracy_stats(df, task_type):\n",
    "    filtered = df.filter(pl.col(\"task_type\") == task_type)\n",
    "    total = filtered.height\n",
    "\n",
    "    stats = {\n",
    "        \"perfect\": filtered.filter(pl.col(\"mean_solved\") == 1).height,\n",
    "        \"above_80\": filtered.filter(pl.col(\"mean_solved\") >= 0.8).height,\n",
    "        \"zero\": filtered.filter(pl.col(\"mean_solved\") == 0).height,\n",
    "    }\n",
    "\n",
    "    print(f\"{task_type.capitalize()} set task statistics:\")\n",
    "    print(\"-\" * 50)\n",
    "    print(\n",
    "        f\"100% accuracy: {stats['perfect']}/{total} ({stats['perfect']/total*100:.1f}%)\"\n",
    "    )\n",
    "    print(\n",
    "        f\"80% or more accuracy: {stats['above_80']}/{total} ({stats['above_80']/total*100:.1f}%)\"\n",
    "    )\n",
    "    print(f\"0% accuracy: {stats['zero']}/{total} ({stats['zero']/total*100:.2f}%)\\n\")\n",
    "\n",
    "\n",
    "# Calculate and print accuracy stats for both sets\n",
    "for task_type in [\"training\", \"evaluation\"]:\n",
    "    calculate_accuracy_stats(mean_task_acc, task_type)"
   ]
  },
  {
   "cell_type": "code",
   "execution_count": null,
   "metadata": {},
   "outputs": [
    {
     "name": "stdout",
     "output_type": "stream",
     "text": [
      "Number of attempts to win per task in training set\n",
      "--------------------------------------------------\n",
      "Mean: 1.3\n",
      "Std: 0.3\n",
      "Mode: 1\n",
      "Median: 1.0\n",
      "\n",
      "Number of attempts to win per task in evaluation set\n",
      "--------------------------------------------------\n",
      "Mean: 1.4\n",
      "Std: 0.3\n",
      "Mode: 1\n",
      "Median: 1.0\n",
      "\n"
     ]
    }
   ],
   "source": [
    "# calculate number of mean number of attempts per task\n",
    "attempts_per_task_mean = (\n",
    "    df_summary.filter(pl.col(\"solved\"))\n",
    "    .group_by(\"task_name\")\n",
    "    .agg(\n",
    "        pl.mean(\"attempt_number\").alias(\"mean_attempts\"),\n",
    "        pl.first(\"task_type\"),\n",
    "    )\n",
    "    .sort(\"mean_attempts\")\n",
    ")\n",
    "attempts_per_task_mode = stats.mode(\n",
    "    df_summary.filter(pl.col(\"solved\")).select(\"attempt_number\").to_numpy().flatten()\n",
    ").mode.item()\n",
    "attempts_per_task_median = np.median(\n",
    "    df_summary.filter(pl.col(\"solved\")).select(\"attempt_number\").to_numpy().flatten()\n",
    ")\n",
    "for task_type in [\"training\", \"evaluation\"]:\n",
    "    print(f\"Number of attempts to win per task in {task_type} set\")\n",
    "    print(\"-\" * 50)\n",
    "    print(\n",
    "        f\"Mean: {round(attempts_per_task_mean.filter(pl.col('task_type') == task_type).mean()['mean_attempts'][0], 1)}\"\n",
    "    )\n",
    "    print(\n",
    "        f\"Std: {round(attempts_per_task_mean.filter(pl.col('task_type') == task_type).std()['mean_attempts'][0], 1)}\"\n",
    "    )\n",
    "    # print mode\n",
    "    print(f\"Mode: {attempts_per_task_mode}\")\n",
    "    # print median\n",
    "    print(f\"Median: {attempts_per_task_median}\\n\")"
   ]
  },
  {
   "cell_type": "markdown",
   "metadata": {},
   "source": [
    "# 4. Temporal analyses\n"
   ]
  },
  {
   "cell_type": "code",
   "execution_count": null,
   "metadata": {},
   "outputs": [],
   "source": [
    "# time to complete tasks\n",
    "time_to_complete = (\n",
    "    df_all.group_by([\"joint_id_task\"])\n",
    "    .agg(\n",
    "        pl.min(\"time\").alias(\"min_time\"),\n",
    "        pl.max(\"time\").alias(\"max_time\"),\n",
    "        pl.col(\"task_name\").first(),\n",
    "        pl.col(\"hashed_id\").first(),\n",
    "        pl.any(\"solved\"),\n",
    "        pl.first(\"task_type\"),\n",
    "        pl.max(\"attempt_number\").alias(\"max_attempt\"),\n",
    "    )\n",
    "    .with_columns((pl.col(\"max_time\") - pl.col(\"min_time\")).alias(\"time_to_complete\"))\n",
    ")\n",
    "# cast time to complete to seconds\n",
    "time_to_complete = time_to_complete.with_columns(\n",
    "    pl.col(\"time_to_complete\")\n",
    "    .map_elements(lambda x: x.total_seconds(), return_dtype=pl.Float64)\n",
    "    .alias(\"seconds_to_complete\")\n",
    ")"
   ]
  },
  {
   "cell_type": "code",
   "execution_count": null,
   "metadata": {},
   "outputs": [
    {
     "name": "stdout",
     "output_type": "stream",
     "text": [
      "Training tasks:\n",
      "--------------------------------------------------\n",
      "Mean time to complete: 0:04:19.846812\n",
      "Std time to complete: 00:04:04\n",
      "\n",
      "Evaluation tasks:\n",
      "--------------------------------------------------\n",
      "Mean time to complete: 0:06:39.484233\n",
      "Std time to complete: 00:05:59\n",
      "\n",
      "Training tasks (solved only):\n",
      "--------------------------------------------------\n",
      "Mean time to complete: 0:03:07.395602\n",
      "Std time to complete: 00:03:29\n",
      "\n",
      "Evaluation tasks (solved only):\n",
      "--------------------------------------------------\n",
      "Mean time to complete: 0:04:31.342815\n",
      "Std time to complete: 00:04:54\n",
      "\n"
     ]
    }
   ],
   "source": [
    "# time to complete stats\n",
    "def format_time(seconds):\n",
    "    return dt.fromtimestamp(seconds, datetime.UTC).strftime(\"%H:%M:%S\")\n",
    "\n",
    "\n",
    "def calculate_time_stats(df, task_type, solved_only=False):\n",
    "    filtered = df.filter(pl.col(\"task_type\") == task_type)\n",
    "    if solved_only:\n",
    "        filtered = filtered.filter(pl.col(\"solved\"))\n",
    "\n",
    "    stats = filtered.select(\n",
    "        [\n",
    "            pl.col(\"time_to_complete\").mean().alias(\"mean_time\"),\n",
    "            pl.col(\"seconds_to_complete\").std().alias(\"std_time\"),\n",
    "        ]\n",
    "    )\n",
    "\n",
    "    mean_time = stats[\"mean_time\"][0]\n",
    "    std_time = format_time(stats[\"std_time\"][0])\n",
    "\n",
    "    solved_str = \" (solved only)\" if solved_only else \"\"\n",
    "    print(f\"{task_type.capitalize()} tasks{solved_str}:\")\n",
    "    print(\"-\" * 50)\n",
    "    print(f\"Mean time to complete: {mean_time}\")\n",
    "    print(f\"Std time to complete: {std_time}\\n\")\n",
    "\n",
    "\n",
    "# Calculate time stats for all tasks\n",
    "for task_type in [\"training\", \"evaluation\"]:\n",
    "    calculate_time_stats(time_to_complete, task_type)\n",
    "\n",
    "# Normalize time by number of attempts\n",
    "time_to_complete_norm = time_to_complete.with_columns(\n",
    "    pl.col(\"time_to_complete\") / pl.col(\"max_attempt\")\n",
    ")\n",
    "\n",
    "# Calculate time stats for solved tasks\n",
    "for task_type in [\"training\", \"evaluation\"]:\n",
    "    calculate_time_stats(time_to_complete_norm, task_type, solved_only=True)"
   ]
  },
  {
   "cell_type": "code",
   "execution_count": null,
   "metadata": {},
   "outputs": [],
   "source": [
    "# normalize time by number of attempts\n",
    "time_to_complete_norm = time_to_complete.with_columns(\n",
    "    pl.col(\"time_to_complete\") / pl.col(\"max_attempt\")\n",
    ")"
   ]
  },
  {
   "cell_type": "code",
   "execution_count": null,
   "metadata": {},
   "outputs": [
    {
     "name": "stdout",
     "output_type": "stream",
     "text": [
      "Independent samples t-test between training and evaluation set task times (solved attempts):\n",
      "t-statistic: -17.6711\n",
      "p-value: 0.0\n",
      "Degrees of freedom: 6268\n",
      "\n",
      "Independent samples t-test between training and evaluation set task times (all attempts):\n",
      "t-statistic: -21.6316\n",
      "p-value: 0.0\n",
      "Degrees of freedom: 8874\n",
      "\n"
     ]
    }
   ],
   "source": [
    "def perform_t_test(df, task_type, solved_only=None):\n",
    "    filter_cond = (pl.col(\"task_type\") == task_type) & pl.col(\n",
    "        \"seconds_to_complete\"\n",
    "    ).is_not_null()\n",
    "    if solved_only:\n",
    "        filter_cond &= pl.col(\"solved\")\n",
    "\n",
    "    times = df.filter(filter_cond).select(\"seconds_to_complete\").to_numpy().flatten()\n",
    "    return times\n",
    "\n",
    "\n",
    "def print_t_test_results(train_times, eval_times, test_type):\n",
    "    t_stat, p_val = stats.ttest_ind(train_times, eval_times)\n",
    "    df = len(train_times) + len(eval_times) - 2\n",
    "\n",
    "    print(\n",
    "        f\"Independent samples t-test between training and evaluation set task times ({test_type}):\"\n",
    "    )\n",
    "    print(f\"t-statistic: {round(t_stat, 4)}\")\n",
    "    print(f\"p-value: {round(p_val, 4)}\")\n",
    "    print(f\"Degrees of freedom: {df}\\n\")\n",
    "\n",
    "\n",
    "for test_type, condition in [\n",
    "    (\"solved attempts\", \"solved\"),\n",
    "    (\"all attempts\", None),\n",
    "]:\n",
    "    train_times = perform_t_test(time_to_complete_norm, \"training\", condition)\n",
    "    eval_times = perform_t_test(time_to_complete_norm, \"evaluation\", condition)\n",
    "    print_t_test_results(train_times, eval_times, test_type)"
   ]
  },
  {
   "cell_type": "code",
   "execution_count": null,
   "metadata": {},
   "outputs": [
    {
     "name": "stdout",
     "output_type": "stream",
     "text": [
      "\n",
      "Training set experiment:\n",
      "--------------------------------------------------\n",
      "Mean time to complete: 0:23:01.776951\n",
      "Time to complete std: 00:13:24\n",
      "Min time to complete: 00:00:39\n",
      "Max time to complete: 1:54:11\n",
      "\n",
      "Evaluation set experiment:\n",
      "--------------------------------------------------\n",
      "Mean time to complete: 0:28:51.588983\n",
      "Time to complete std: 00:16:19\n",
      "Min time to complete: 00:02:48\n",
      "Max time to complete: 2:44:25\n"
     ]
    }
   ],
   "source": [
    "def calculate_exp_time_stats(df, task_type):\n",
    "    filtered = df.filter(pl.col(\"task_type\") == task_type)\n",
    "    stats = filtered.select(\n",
    "        [\n",
    "            pl.col(\"time_to_complete\").mean().alias(\"mean\"),\n",
    "            pl.col(\"seconds_to_complete\").std().alias(\"std\"),\n",
    "            pl.col(\"seconds_to_complete\").min().alias(\"min\"),\n",
    "            pl.col(\"time_to_complete\").max().alias(\"max\"),\n",
    "        ]\n",
    "    )\n",
    "\n",
    "    print(f\"\\n{task_type.capitalize()} set experiment:\")\n",
    "    print(50 * \"-\")\n",
    "    print(f\"Mean time to complete: {stats['mean'][0]}\")\n",
    "    print(f\"Time to complete std: {format_time(stats['std'][0])}\")\n",
    "    print(f\"Min time to complete: {format_time(stats['min'][0])}\")\n",
    "    print(f\"Max time to complete: {stats['max'][0]}\")\n",
    "\n",
    "\n",
    "# Prepare the data\n",
    "time_to_complete_exp = (\n",
    "    df_all.filter(~pl.col(\"exp_name\").str.contains_any([\"expv0\", \"expv1\"]))\n",
    "    .group_by([\"hashed_id\"])\n",
    "    .agg(\n",
    "        pl.min(\"time\").alias(\"min_time\"),\n",
    "        pl.max(\"time\").alias(\"max_time\"),\n",
    "        pl.first(\"task_type\"),\n",
    "    )\n",
    "    .with_columns(\n",
    "        (pl.col(\"max_time\") - pl.col(\"min_time\")).alias(\"time_to_complete\"),\n",
    "    )\n",
    "    .with_columns(\n",
    "        pl.col(\"time_to_complete\")\n",
    "        .map_elements(lambda x: x.total_seconds(), return_dtype=pl.Float64)\n",
    "        .alias(\"seconds_to_complete\"),\n",
    "    )\n",
    "    .select(\"time_to_complete\", \"seconds_to_complete\", \"task_type\")\n",
    ")\n",
    "\n",
    "# Calculate and print stats for both sets\n",
    "for task_type in [\"training\", \"evaluation\"]:\n",
    "    calculate_exp_time_stats(time_to_complete_exp, task_type)"
   ]
  },
  {
   "cell_type": "code",
   "execution_count": null,
   "metadata": {},
   "outputs": [],
   "source": [
    "# time to first action data\n",
    "first_second_action = df_all.select(\n",
    "    pl.all()\n",
    "    .bottom_k_by(\"num_actions\", k=2)\n",
    "    .over([\"joint_id_task\", \"attempt_number\"], mapping_strategy=\"explode\")\n",
    ").sort([\"joint_id_task\", \"attempt_number\", \"num_actions\"])\n",
    "time_to_first_action = (\n",
    "    first_second_action.group_by(\n",
    "        [\"joint_id_task\", \"attempt_number\"], maintain_order=True\n",
    "    )\n",
    "    .agg(\n",
    "        pl.last(\"action\"),\n",
    "        pl.min(\"time\").alias(\"min_time\"),\n",
    "        pl.max(\"time\").alias(\"max_time\"),\n",
    "        pl.first(\"task_name\"),\n",
    "        pl.first(\"task_type\"),\n",
    "    )\n",
    "    .with_columns(\n",
    "        (pl.col(\"max_time\") - pl.col(\"min_time\")).alias(\"time_to_first_action\")\n",
    "    )\n",
    ")\n",
    "time_to_first_action.with_columns(\n",
    "    pl.col(\"time_to_first_action\").map_elements(\n",
    "        lambda x: x.total_seconds(), return_dtype=pl.Float64\n",
    "    )\n",
    ").write_csv(\"../data/time_to_first_action.csv\")"
   ]
  },
  {
   "cell_type": "code",
   "execution_count": null,
   "metadata": {},
   "outputs": [
    {
     "name": "stdout",
     "output_type": "stream",
     "text": [
      "Time to first action for training set\n",
      "--------------------------------------------------\n",
      "Mean time to first action on attempt 1: 0:00:40.418599\n",
      "Time to first action std on attempt 1: 00:01:24\n",
      "\n",
      "Mean time to first action on attempt 2: 0:00:05.339852\n",
      "Time to first action std on attempt 2: 00:00:47\n",
      "\n",
      "Mean time to first action on attempt 3: 0:00:07.694810\n",
      "Time to first action std on attempt 3: 00:00:13\n",
      "\n",
      "Time to first action for evaluation set\n",
      "--------------------------------------------------\n",
      "Mean time to first action on attempt 1: 0:00:46.371302\n",
      "Time to first action std on attempt 1: 00:01:24\n",
      "\n",
      "Mean time to first action on attempt 2: 0:00:07.781826\n",
      "Time to first action std on attempt 2: 00:00:47\n",
      "\n",
      "Mean time to first action on attempt 3: 0:00:04.001870\n",
      "Time to first action std on attempt 3: 00:00:13\n",
      "\n"
     ]
    }
   ],
   "source": [
    "# time to first action stats\n",
    "for task_type in [\"training\", \"evaluation\"]:\n",
    "    print(f\"Time to first action for {task_type} set\")\n",
    "    print(50 * \"-\")\n",
    "    for attempt_number in range(1, 4):\n",
    "        # time to first action on attempt_number\n",
    "        mean_time_to_first_action = (\n",
    "            time_to_first_action.filter(\n",
    "                (pl.col(\"attempt_number\") == attempt_number)\n",
    "                & (pl.col(\"task_type\") == task_type)\n",
    "            )\n",
    "            .select(pl.mean(\"time_to_first_action\"))\n",
    "            .item()\n",
    "        )\n",
    "\n",
    "        time_to_first_action = time_to_first_action.with_columns(\n",
    "            pl.col(\"time_to_first_action\")\n",
    "            .map_elements(lambda x: x.total_seconds(), return_dtype=pl.Float64)\n",
    "            .alias(\"seconds_to_first_action\")\n",
    "        )\n",
    "        std_time_to_first_action = (\n",
    "            time_to_first_action.filter(pl.col(\"attempt_number\") == attempt_number)\n",
    "            .select(pl.std(\"seconds_to_first_action\"))\n",
    "            .item()\n",
    "        )\n",
    "        std_time_to_first_action = dt.fromtimestamp(\n",
    "            std_time_to_first_action, datetime.UTC\n",
    "        ).strftime(\"%H:%M:%S\")\n",
    "        print(\n",
    "            f\"Mean time to first action on attempt {attempt_number}: {mean_time_to_first_action}\"\n",
    "        )\n",
    "        print(\n",
    "            f\"Time to first action std on attempt {attempt_number}: {std_time_to_first_action}\\n\"\n",
    "        )"
   ]
  },
  {
   "cell_type": "code",
   "execution_count": null,
   "metadata": {},
   "outputs": [],
   "source": [
    "# inter-action time\n",
    "df_all_time_diff = df_all.sort(\n",
    "    by=[\"joint_id_task\", \"attempt_number\", \"num_actions\"]\n",
    ").with_columns(\n",
    "    inter_action_time=pl.col(\"time\")\n",
    "    .diff()\n",
    "    .over([\"joint_id_task\", \"attempt_number\"])\n",
    "    .map_elements(lambda x: x.total_seconds(), return_dtype=pl.Float64)\n",
    ")\n",
    "# proxy for thinking time accounting for any interval longer than 5seconds and not including writing time\n",
    "df_all_thinking_time = df_all_time_diff.filter((pl.col(\"inter_action_time\") >= 5))\n",
    "df_all_thinking_time = df_all_thinking_time.group_by([\"joint_id_task\"]).agg(\n",
    "    pl.sum(\"inter_action_time\").alias(\"thinking_time\"),\n",
    "    pl.first(\"task_name\"),\n",
    "    pl.first(\"task_type\"),\n",
    "    pl.any(\"solved\"),\n",
    "    pl.max(\"attempt_number\").alias(\"max_attempt\"),\n",
    ")\n",
    "writing_time = df_all_time_diff.filter(\n",
    "    (pl.col(\"inter_action_time\") >= 5)\n",
    "    & (\n",
    "        pl.col(\"action\").is_in(\n",
    "            [\n",
    "                \"write_first_description\",\n",
    "                \"write_last_description\",\n",
    "                \"no_last_description\",\n",
    "                \"submit\",\n",
    "            ]\n",
    "        )\n",
    "    )\n",
    ")\n",
    "writing_time = writing_time.group_by([\"joint_id_task\"]).agg(\n",
    "    pl.sum(\"inter_action_time\").alias(\"writing_time\"),\n",
    ")\n",
    "df_all_thinking_time = df_all_thinking_time.join(\n",
    "    writing_time, on=\"joint_id_task\", how=\"inner\"\n",
    ")\n",
    "df_all_thinking_time = df_all_thinking_time.with_columns(\n",
    "    (pl.col(\"thinking_time\") - pl.col(\"writing_time\")) / pl.col(\"max_attempt\")\n",
    ")\n",
    "# print mean thinking type for each dataset for solved attempts"
   ]
  },
  {
   "cell_type": "code",
   "execution_count": null,
   "metadata": {},
   "outputs": [
    {
     "name": "stdout",
     "output_type": "stream",
     "text": [
      "Mean thinking time for training set\n",
      "--------------------------------------------------\n",
      "Normalized mean thinking time for solved tasks: 00:01:06\n",
      "Normalized std thinking time for solved tasks: 00:01:10\n",
      "\n",
      "\n",
      "Mean thinking time for evaluation set\n",
      "--------------------------------------------------\n",
      "Normalized mean thinking time for solved tasks: 00:01:37\n",
      "Normalized std thinking time for solved tasks: 00:01:39\n",
      "\n",
      "\n"
     ]
    }
   ],
   "source": [
    "# print mean thinking type for each dataset for solved attempts\n",
    "for task_type in [\"training\", \"evaluation\"]:\n",
    "    print(f\"Mean thinking time for {task_type} set\")\n",
    "    print(50 * \"-\")\n",
    "    mean_thinking_time = (\n",
    "        df_all_thinking_time.filter(\n",
    "            (pl.col(\"task_type\") == task_type) & pl.col(\"solved\")\n",
    "        )\n",
    "        .select(pl.mean(\"thinking_time\"))\n",
    "        .item()\n",
    "    )\n",
    "    # convert to H:M:S\n",
    "    mean_thinking_time = dt.fromtimestamp(mean_thinking_time, datetime.UTC).strftime(\n",
    "        \"%H:%M:%S\"\n",
    "    )\n",
    "    std_thinking_time = (\n",
    "        df_all_thinking_time.filter(\n",
    "            (pl.col(\"task_type\") == task_type) & pl.col(\"solved\")\n",
    "        )\n",
    "        .select(pl.std(\"thinking_time\"))\n",
    "        .item()\n",
    "    )\n",
    "    std_thinking_time = dt.fromtimestamp(std_thinking_time, datetime.UTC).strftime(\n",
    "        \"%H:%M:%S\"\n",
    "    )\n",
    "    print(f\"Normalized mean thinking time for solved tasks: {mean_thinking_time}\")\n",
    "    print(f\"Normalized std thinking time for solved tasks: {std_thinking_time}\\n\")\n",
    "    print()"
   ]
  },
  {
   "cell_type": "code",
   "execution_count": null,
   "metadata": {},
   "outputs": [
    {
     "name": "stdout",
     "output_type": "stream",
     "text": [
      "Independent samples t-test between training and evaluation set thinking times on solved tasks:\n",
      "t-statistic: -6.9061\n",
      "p-value: 0.0\n",
      "Degrees of freedom: 1505\n"
     ]
    }
   ],
   "source": [
    "# perform independent samples t-test between training and evaluation set\n",
    "train_thinking_times = (\n",
    "    df_all_thinking_time.filter(\n",
    "        (pl.col(\"task_type\") == \"training\")\n",
    "        & pl.col(\"thinking_time\").is_not_null()\n",
    "        & pl.col(\"solved\")\n",
    "    )\n",
    "    .select(\"thinking_time\")\n",
    "    .to_numpy()\n",
    "    .flatten()\n",
    ")\n",
    "eval_thinking_times = (\n",
    "    df_all_thinking_time.filter(\n",
    "        (pl.col(\"task_type\") == \"evaluation\")\n",
    "        & pl.col(\"thinking_time\").is_not_null()\n",
    "        & pl.col(\"solved\")\n",
    "    )\n",
    "    .select(\"thinking_time\")\n",
    "    .to_numpy()\n",
    "    .flatten()\n",
    ")\n",
    "\n",
    "t_stat, p_val = stats.ttest_ind(train_thinking_times, eval_thinking_times)\n",
    "print(\n",
    "    f\"Independent samples t-test between training and evaluation set thinking times on solved tasks:\"\n",
    ")\n",
    "print(f\"t-statistic: {round(t_stat, 4)}\")\n",
    "print(f\"p-value: {round(p_val, 4)}\")\n",
    "print(f\"Degrees of freedom: {len(train_thinking_times) + len(eval_thinking_times) - 2}\")"
   ]
  },
  {
   "cell_type": "markdown",
   "metadata": {},
   "source": [
    "# 5. Actions\n"
   ]
  },
  {
   "cell_type": "code",
   "execution_count": null,
   "metadata": {},
   "outputs": [
    {
     "name": "stdout",
     "output_type": "stream",
     "text": [
      "Proportion of first actions changing grid dimensions:\n",
      "Training set: 34.34%\n",
      "Evaluation set: 32.13%\n",
      "Mean across both datasets: 33.23%\n"
     ]
    }
   ],
   "source": [
    "# calculate proportion of first actions changing grid dimensions\n",
    "def calculate_change_dim_proportion(df, task_type=None):\n",
    "    filtered_df = df.filter(pl.col(\"task_type\") == task_type) if task_type else df\n",
    "    action_counts = (\n",
    "        filtered_df.group_by(\"action\")\n",
    "        .agg(pl.len().alias(\"count\"))\n",
    "        .sort(\"count\", descending=True)\n",
    "    )\n",
    "    action_counts = action_counts.with_columns(\n",
    "        pl.col(\"count\") / action_counts.select(pl.sum(\"count\")).item()\n",
    "    )\n",
    "    change_dim_proportion = (\n",
    "        action_counts.filter(pl.col(\"action\").is_in([\"change_height\", \"change_width\"]))\n",
    "        .select(pl.sum(\"count\"))\n",
    "        .item()\n",
    "    )\n",
    "    return change_dim_proportion\n",
    "\n",
    "\n",
    "change_dim_training = calculate_change_dim_proportion(time_to_first_action, \"training\")\n",
    "change_dim_eval = calculate_change_dim_proportion(time_to_first_action, \"evaluation\")\n",
    "change_dim_all = calculate_change_dim_proportion(time_to_first_action)\n",
    "\n",
    "print(f\"Proportion of first actions changing grid dimensions:\")\n",
    "print(f\"Training set: {change_dim_training*100:.2f}%\")\n",
    "print(f\"Evaluation set: {change_dim_eval*100:.2f}%\")\n",
    "print(f\"Mean across both datasets: {change_dim_all*100:.2f}%\")"
   ]
  },
  {
   "cell_type": "markdown",
   "metadata": {},
   "source": [
    "# 6. Grid size and difficulty\n"
   ]
  },
  {
   "cell_type": "code",
   "execution_count": null,
   "metadata": {},
   "outputs": [],
   "source": [
    "arc_grid_size = pl.read_csv(\"../data/ARC_all_tasks_tests_stats.csv\")\n",
    "task_stats = mean_task_acc.join(\n",
    "    arc_grid_size.drop(\"task_type\"), on=\"task_name\", how=\"inner\"\n",
    ")"
   ]
  },
  {
   "cell_type": "code",
   "execution_count": null,
   "metadata": {},
   "outputs": [
    {
     "data": {
      "image/png": "[encoded data removed]",
      "text/plain": [
       "<Figure size 1000x600 with 1 Axes>"
      ]
     },
     "metadata": {},
     "output_type": "display_data"
    }
   ],
   "source": [
    "# plot regression of mean task accuracy vs grid size\n",
    "from matplotlib.lines import Line2D\n",
    "\n",
    "sns.set_style(\"darkgrid\")\n",
    "fig, ax = plt.subplots(figsize=(10, 6))\n",
    "sns.regplot(\n",
    "    data=task_stats.filter(pl.col(\"task_type\") == \"training\"),\n",
    "    x=\"grid_size\",\n",
    "    y=\"mean_solved\",\n",
    "    scatter_kws={\"alpha\": 0.1, \"s\": 10},\n",
    "    ax=ax,\n",
    "    label=\"Training\",\n",
    ")\n",
    "sns.regplot(\n",
    "    data=task_stats.filter(pl.col(\"task_type\") == \"evaluation\"),\n",
    "    x=\"grid_size\",\n",
    "    y=\"mean_solved\",\n",
    "    scatter_kws={\"alpha\": 0.1, \"s\": 10},\n",
    "    ax=ax,\n",
    "    label=\"Evaluation\",\n",
    ")\n",
    "# plt.title(\"Mean task accuracy vs grid size\", fontsize=18)\n",
    "ax.set_xlabel(\"Output grid size\", fontsize=20)\n",
    "ax.set_ylabel(\"Mean task accuracy\", fontsize=20)\n",
    "color_palette = sns.color_palette(\"tab10\")\n",
    "line_training = Line2D(\n",
    "    [0],\n",
    "    [0],\n",
    "    label=\"Training\",\n",
    "    color=color_palette[0],\n",
    ")\n",
    "line_evaluation = Line2D(\n",
    "    [0],\n",
    "    [0],\n",
    "    label=\"Evaluation\",\n",
    "    color=color_palette[1],\n",
    ")\n",
    "handles = [line_training, line_evaluation]\n",
    "labels = [\"Training\", \"Evaluation\"]\n",
    "plt.legend(handles=handles, labels=labels, fontsize=18, loc=\"upper right\")\n",
    "plt.xticks(fontsize=18)\n",
    "plt.yticks(fontsize=18)\n",
    "plt.tight_layout()\n",
    "plt.savefig(\n",
    "    \"../figures/mean_task_accuracy_vs_grid_size.png\", dpi=300, bbox_inches=\"tight\"\n",
    ")\n",
    "plt.show()"
   ]
  },
  {
   "cell_type": "code",
   "execution_count": null,
   "metadata": {},
   "outputs": [
    {
     "name": "stdout",
     "output_type": "stream",
     "text": [
      "Pearson correlation coefficient on evaluation set: -0.02 (p-value: 0.649)\n",
      "Pearson correlation coefficient on training set: -0.16 (p-value: 0.001)\n"
     ]
    }
   ],
   "source": [
    "# correlation between grid size and mean task accuracy\n",
    "def calculate_correlation(data, task_type):\n",
    "    x = (\n",
    "        data.filter(pl.col(\"task_type\") == task_type)\n",
    "        .select(\"grid_size\")\n",
    "        .to_numpy()\n",
    "        .flatten()\n",
    "    )\n",
    "    y = (\n",
    "        data.filter(pl.col(\"task_type\") == task_type)\n",
    "        .select(\"mean_solved\")\n",
    "        .to_numpy()\n",
    "        .flatten()\n",
    "    )\n",
    "    corr, p_value = pearsonr(x, y)\n",
    "    print(\n",
    "        f\"Pearson correlation coefficient on {task_type} set: {corr:.2f} (p-value: {p_value:.3f})\"\n",
    "    )\n",
    "\n",
    "\n",
    "calculate_correlation(task_stats, \"evaluation\")\n",
    "calculate_correlation(task_stats, \"training\")"
   ]
  },
  {
   "cell_type": "markdown",
   "metadata": {},
   "source": [
    "# 7. Learning\n",
    "\n",
    "Make task success dataframe for further analyses in R.\n"
   ]
  },
  {
   "cell_type": "code",
   "execution_count": null,
   "metadata": {},
   "outputs": [
    {
     "data": {
      "text/html": [
       "<div><style>\n",
       ".dataframe > thead > tr,\n",
       ".dataframe > tbody > tr {\n",
       "  text-align: right;\n",
       "  white-space: pre-wrap;\n",
       "}\n",
       "</style>\n",
       "<small>shape: (5, 3)</small><table border=\"1\" class=\"dataframe\"><thead><tr><th>hashed_id</th><th>task_number</th><th>success</th></tr><tr><td>cat</td><td>i64</td><td>i32</td></tr></thead><tbody><tr><td>&quot;f635054e59b7a899eac4864c468d0807&quot;</td><td>3</td><td>1</td></tr><tr><td>&quot;ef7001dbe837649d7dae2c70818d1b6c&quot;</td><td>2</td><td>0</td></tr><tr><td>&quot;548447017f10dfcdb83e4d3b13daf553&quot;</td><td>4</td><td>0</td></tr><tr><td>&quot;2d8a08fd41823c65f4fe61cac9977f48&quot;</td><td>2</td><td>1</td></tr><tr><td>&quot;1a2fa3e4a8d35805783e5fb62adb610e&quot;</td><td>1</td><td>1</td></tr></tbody></table></div>"
      ],
      "text/plain": [
       "shape: (5, 3)\n",
       "┌──────────────────────────────────┬─────────────┬─────────┐\n",
       "│ hashed_id                        ┆ task_number ┆ success │\n",
       "│ ---                              ┆ ---         ┆ ---     │\n",
       "│ cat                              ┆ i64         ┆ i32     │\n",
       "╞══════════════════════════════════╪═════════════╪═════════╡\n",
       "│ f635054e59b7a899eac4864c468d0807 ┆ 3           ┆ 1       │\n",
       "│ ef7001dbe837649d7dae2c70818d1b6c ┆ 2           ┆ 0       │\n",
       "│ 548447017f10dfcdb83e4d3b13daf553 ┆ 4           ┆ 0       │\n",
       "│ 2d8a08fd41823c65f4fe61cac9977f48 ┆ 2           ┆ 1       │\n",
       "│ 1a2fa3e4a8d35805783e5fb62adb610e ┆ 1           ┆ 1       │\n",
       "└──────────────────────────────────┴─────────────┴─────────┘"
      ]
     },
     "execution_count": 52,
     "metadata": {},
     "output_type": "execute_result"
    }
   ],
   "source": [
    "# let's gather the data\n",
    "task_success = df_all.select(\"hashed_id\", \"joint_id_task\", \"task_number\", \"solved\")\n",
    "task_success = (\n",
    "    task_success.group_by(\"joint_id_task\")\n",
    "    .agg(\n",
    "        pl.first(\"hashed_id\"),\n",
    "        pl.first(\"task_number\"),\n",
    "        pl.any(\"solved\").alias(\"success\"),\n",
    "    )\n",
    "    .drop(\"joint_id_task\")\n",
    ")\n",
    "task_success = task_success.with_columns(\n",
    "    success=pl.col(\"success\").cast(pl.Int32),\n",
    "    hashed_id=pl.col(\"hashed_id\").cast(pl.Categorical),\n",
    ")\n",
    "task_success = task_success.with_columns(task_number=pl.col(\"task_number\") - 1).filter(\n",
    "    (pl.col(\"task_number\") > 0)\n",
    ")\n",
    "task_success.head()"
   ]
  },
  {
   "cell_type": "code",
   "execution_count": null,
   "metadata": {},
   "outputs": [],
   "source": [
    "# save task_num_success\n",
    "task_success.write_csv(\"../data/task_number_outcomes.csv\")"
   ]
  }
 ],
 "metadata": {
  "kernelspec": {
   "display_name": ".venv",
   "language": "python",
   "name": "python3"
  },
  "language_info": {
   "codemirror_mode": {
    "name": "ipython",
    "version": 3
   },
   "file_extension": ".py",
   "mimetype": "text/x-python",
   "name": "python",
   "nbconvert_exporter": "python",
   "pygments_lexer": "ipython3",
   "version": "3.12.5"
  }
 },
 "nbformat": 4,
 "nbformat_minor": 2
}
